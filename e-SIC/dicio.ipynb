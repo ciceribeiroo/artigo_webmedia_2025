{
 "cells": [
  {
   "cell_type": "code",
   "execution_count": 1,
   "metadata": {},
   "outputs": [],
   "source": [
    "def read_file_as_df(file_name):\n",
    "    import pandas as pd\n",
    "    import csv\n",
    "\n",
    "    import sys\n",
    "    import pandas as pd\n",
    "\n",
    "    maxInt = sys.maxsize\n",
    "\n",
    "    while True:\n",
    "        # decrease the maxInt value by factor 10\n",
    "        # as long as the OverflowError occurs.\n",
    "\n",
    "        try:\n",
    "            csv.field_size_limit(maxInt)\n",
    "            break\n",
    "        except OverflowError:\n",
    "            maxInt = int(maxInt/10)\n",
    "\n",
    "    file = []\n",
    "    col = []\n",
    "\n",
    "    with open(file_name, encoding='latin-1') as csv_file:\n",
    "        csv_reader = csv.reader(csv_file, delimiter=';')\n",
    "        line_count = 0\n",
    "        for row in csv_reader:\n",
    "            if line_count==0:\n",
    "                for r in row:\n",
    "                    col.append(r)\n",
    "                line_count+=1\n",
    "            else:\n",
    "                line = []\n",
    "                for r in row:\n",
    "                    line.append(r)\n",
    "                file.append(line)\n",
    "                line_count += 1\n",
    "\n",
    "\n",
    "    df = pd.DataFrame(file, columns = col)\n",
    "    return df"
   ]
  },
  {
   "cell_type": "code",
   "execution_count": 2,
   "metadata": {},
   "outputs": [
    {
     "name": "stderr",
     "output_type": "stream",
     "text": [
      "[nltk_data] Downloading package stopwords to /home/alice/nltk_data...\n",
      "[nltk_data]   Package stopwords is already up-to-date!\n"
     ]
    }
   ],
   "source": [
    "import nltk\n",
    "\n",
    "nltk.download('stopwords')\n",
    "stopwords = nltk.corpus.stopwords.words('portuguese')\n",
    "\n",
    "import string\n",
    "import pandas as pd"
   ]
  },
  {
   "cell_type": "code",
   "execution_count": 3,
   "metadata": {},
   "outputs": [],
   "source": [
    "def remove_stopwords(text):\n",
    "    all_words = text.split(\" \")\n",
    "    clean_text = [i for i in all_words if i not in stopwords and i!=\"\"]\n",
    "    return \" \".join(clean_text)\n",
    "\n",
    "def clean_text(x):\n",
    "  return \" \".join(str(x.translate(str.maketrans('', '', string.punctuation))).split()).lower()\n",
    "\n",
    "def get_age_class(age):\n",
    "    if age == 'a17-30': return 0\n",
    "    elif age == 'a31-42': return 1\n",
    "    else: return 2"
   ]
  },
  {
   "cell_type": "code",
   "execution_count": 4,
   "metadata": {},
   "outputs": [],
   "source": [
    "df = read_file_as_df('../data/e-SIC1BR.csv')"
   ]
  },
  {
   "cell_type": "code",
   "execution_count": 5,
   "metadata": {},
   "outputs": [
    {
     "data": {
      "text/html": [
       "<div>\n",
       "<style scoped>\n",
       "    .dataframe tbody tr th:only-of-type {\n",
       "        vertical-align: middle;\n",
       "    }\n",
       "\n",
       "    .dataframe tbody tr th {\n",
       "        vertical-align: top;\n",
       "    }\n",
       "\n",
       "    .dataframe thead th {\n",
       "        text-align: right;\n",
       "    }\n",
       "</style>\n",
       "<table border=\"1\" class=\"dataframe\">\n",
       "  <thead>\n",
       "    <tr style=\"text-align: right;\">\n",
       "      <th></th>\n",
       "      <th>age-bracket</th>\n",
       "      <th>gender</th>\n",
       "      <th>education</th>\n",
       "      <th>profession</th>\n",
       "      <th>req-text</th>\n",
       "      <th>resp-text</th>\n",
       "      <th>resp-type</th>\n",
       "      <th>clarity</th>\n",
       "      <th>service</th>\n",
       "      <th>1funct-request</th>\n",
       "      <th>...</th>\n",
       "      <th>55work-response</th>\n",
       "      <th>56achieve-response</th>\n",
       "      <th>57leisure-response</th>\n",
       "      <th>58home-response</th>\n",
       "      <th>59money-response</th>\n",
       "      <th>60relig-response</th>\n",
       "      <th>61death-response</th>\n",
       "      <th>62assent-response</th>\n",
       "      <th>63nonfl-response</th>\n",
       "      <th>64filler-response</th>\n",
       "    </tr>\n",
       "  </thead>\n",
       "  <tbody>\n",
       "    <tr>\n",
       "      <th>0</th>\n",
       "      <td>a31-42</td>\n",
       "      <td>m</td>\n",
       "      <td>e2</td>\n",
       "      <td>academy</td>\n",
       "      <td>Prezados, Gostaria de solicitar informações so...</td>\n",
       "      <td>Não dispomos de vaga em aberto, para o cargo d...</td>\n",
       "      <td>Acesso Concedido</td>\n",
       "      <td>5</td>\n",
       "      <td>5</td>\n",
       "      <td>0,4531</td>\n",
       "      <td>...</td>\n",
       "      <td>0,0612</td>\n",
       "      <td>0,102</td>\n",
       "      <td>0,0204</td>\n",
       "      <td>0</td>\n",
       "      <td>0</td>\n",
       "      <td>0</td>\n",
       "      <td>0</td>\n",
       "      <td>0</td>\n",
       "      <td>0</td>\n",
       "      <td>0</td>\n",
       "    </tr>\n",
       "    <tr>\n",
       "      <th>1</th>\n",
       "      <td>a31-42</td>\n",
       "      <td>m</td>\n",
       "      <td>e2</td>\n",
       "      <td>academy</td>\n",
       "      <td>Prezados, Gostaria de solicitar informações so...</td>\n",
       "      <td>Prezado cidadão, O quadro de referência de ser...</td>\n",
       "      <td>Acesso Concedido</td>\n",
       "      <td>5</td>\n",
       "      <td>5</td>\n",
       "      <td>0,4531</td>\n",
       "      <td>...</td>\n",
       "      <td>0,0394</td>\n",
       "      <td>0,0472</td>\n",
       "      <td>0,0157</td>\n",
       "      <td>0</td>\n",
       "      <td>0,0079</td>\n",
       "      <td>0</td>\n",
       "      <td>0</td>\n",
       "      <td>0</td>\n",
       "      <td>0,0079</td>\n",
       "      <td>0</td>\n",
       "    </tr>\n",
       "    <tr>\n",
       "      <th>2</th>\n",
       "      <td>a31-42</td>\n",
       "      <td>m</td>\n",
       "      <td>e2</td>\n",
       "      <td>academy</td>\n",
       "      <td>Prezados, Gostaria de solicitar informações so...</td>\n",
       "      <td>Sr. JOMAR BORGES DOS SANTOS, boa tarde. Em res...</td>\n",
       "      <td>Acesso Concedido</td>\n",
       "      <td>5</td>\n",
       "      <td>5</td>\n",
       "      <td>0,4531</td>\n",
       "      <td>...</td>\n",
       "      <td>0,0541</td>\n",
       "      <td>0,0541</td>\n",
       "      <td>0</td>\n",
       "      <td>0</td>\n",
       "      <td>0</td>\n",
       "      <td>0,027</td>\n",
       "      <td>0</td>\n",
       "      <td>0</td>\n",
       "      <td>0,027</td>\n",
       "      <td>0</td>\n",
       "    </tr>\n",
       "    <tr>\n",
       "      <th>3</th>\n",
       "      <td>a31-42</td>\n",
       "      <td>m</td>\n",
       "      <td>e2</td>\n",
       "      <td>academy</td>\n",
       "      <td>Prezados, Gostaria de solicitar informações so...</td>\n",
       "      <td>Prezado Jomar, Encaminho resposta à sua solici...</td>\n",
       "      <td>Acesso Concedido</td>\n",
       "      <td>5</td>\n",
       "      <td>5</td>\n",
       "      <td>0,4531</td>\n",
       "      <td>...</td>\n",
       "      <td>0,0549</td>\n",
       "      <td>0,0706</td>\n",
       "      <td>0,0196</td>\n",
       "      <td>0</td>\n",
       "      <td>0,0275</td>\n",
       "      <td>0,0078</td>\n",
       "      <td>0</td>\n",
       "      <td>0</td>\n",
       "      <td>0,0235</td>\n",
       "      <td>0</td>\n",
       "    </tr>\n",
       "    <tr>\n",
       "      <th>4</th>\n",
       "      <td>a43-xx</td>\n",
       "      <td>na</td>\n",
       "      <td>na</td>\n",
       "      <td>na</td>\n",
       "      <td>gostaria de saber se a empresa a qual min refi...</td>\n",
       "      <td>Prezado(a) Senhor(a), Informamos que a Secreta...</td>\n",
       "      <td>Acesso Concedido</td>\n",
       "      <td>1</td>\n",
       "      <td>1</td>\n",
       "      <td>0,4286</td>\n",
       "      <td>...</td>\n",
       "      <td>0,0476</td>\n",
       "      <td>0,0476</td>\n",
       "      <td>0</td>\n",
       "      <td>0</td>\n",
       "      <td>0,0476</td>\n",
       "      <td>0,0159</td>\n",
       "      <td>0</td>\n",
       "      <td>0</td>\n",
       "      <td>0,0476</td>\n",
       "      <td>0</td>\n",
       "    </tr>\n",
       "  </tbody>\n",
       "</table>\n",
       "<p>5 rows × 137 columns</p>\n",
       "</div>"
      ],
      "text/plain": [
       "  age-bracket gender education profession  \\\n",
       "0      a31-42      m        e2    academy   \n",
       "1      a31-42      m        e2    academy   \n",
       "2      a31-42      m        e2    academy   \n",
       "3      a31-42      m        e2    academy   \n",
       "4      a43-xx     na        na         na   \n",
       "\n",
       "                                            req-text  \\\n",
       "0  Prezados, Gostaria de solicitar informações so...   \n",
       "1  Prezados, Gostaria de solicitar informações so...   \n",
       "2  Prezados, Gostaria de solicitar informações so...   \n",
       "3  Prezados, Gostaria de solicitar informações so...   \n",
       "4  gostaria de saber se a empresa a qual min refi...   \n",
       "\n",
       "                                           resp-text         resp-type  \\\n",
       "0  Não dispomos de vaga em aberto, para o cargo d...  Acesso Concedido   \n",
       "1  Prezado cidadão, O quadro de referência de ser...  Acesso Concedido   \n",
       "2  Sr. JOMAR BORGES DOS SANTOS, boa tarde. Em res...  Acesso Concedido   \n",
       "3  Prezado Jomar, Encaminho resposta à sua solici...  Acesso Concedido   \n",
       "4  Prezado(a) Senhor(a), Informamos que a Secreta...  Acesso Concedido   \n",
       "\n",
       "  clarity service 1funct-request  ... 55work-response 56achieve-response  \\\n",
       "0       5       5         0,4531  ...          0,0612              0,102   \n",
       "1       5       5         0,4531  ...          0,0394             0,0472   \n",
       "2       5       5         0,4531  ...          0,0541             0,0541   \n",
       "3       5       5         0,4531  ...          0,0549             0,0706   \n",
       "4       1       1         0,4286  ...          0,0476             0,0476   \n",
       "\n",
       "  57leisure-response 58home-response 59money-response 60relig-response  \\\n",
       "0             0,0204               0                0                0   \n",
       "1             0,0157               0           0,0079                0   \n",
       "2                  0               0                0            0,027   \n",
       "3             0,0196               0           0,0275           0,0078   \n",
       "4                  0               0           0,0476           0,0159   \n",
       "\n",
       "  61death-response 62assent-response 63nonfl-response 64filler-response  \n",
       "0                0                 0                0                 0  \n",
       "1                0                 0           0,0079                 0  \n",
       "2                0                 0            0,027                 0  \n",
       "3                0                 0           0,0235                 0  \n",
       "4                0                 0           0,0476                 0  \n",
       "\n",
       "[5 rows x 137 columns]"
      ]
     },
     "execution_count": 5,
     "metadata": {},
     "output_type": "execute_result"
    }
   ],
   "source": [
    "df.head()"
   ]
  },
  {
   "cell_type": "code",
   "execution_count": 6,
   "metadata": {},
   "outputs": [],
   "source": [
    "df = read_file_as_df('../data/e-SIC1BR.csv')\n",
    "df = df[['age-bracket', 'req-text']]\n",
    "\n",
    "df[\"req-text-clean\"] = df['req-text'].apply(lambda x: clean_text(x))\n",
    "df[\"req-text-clean\"] = df['req-text-clean'].apply(lambda x: remove_stopwords(x))\n",
    "df[\"Age\"] = df['age-bracket'].apply(lambda x: get_age_class(x))\n",
    "\n",
    "X = df[\"req-text-clean\"]\n",
    "y = df['Age']\n",
    "\n",
    "from sklearn.model_selection import train_test_split\n",
    "\n",
    "train_df, test_df = train_test_split(df, test_size=0.2, random_state=115, stratify=y)\n",
    "#df_train, df_test = train_test_split(df, test_size=0.2, random_state=289, stratify=y) \n"
   ]
  },
  {
   "cell_type": "code",
   "execution_count": 6,
   "metadata": {},
   "outputs": [],
   "source": [
    "train_df = pd.read_csv('../data/train.csv')\n",
    "test_df = pd.read_csv('../data/test.csv')"
   ]
  },
  {
   "cell_type": "code",
   "execution_count": 7,
   "metadata": {},
   "outputs": [
    {
     "data": {
      "text/html": [
       "<div>\n",
       "<style scoped>\n",
       "    .dataframe tbody tr th:only-of-type {\n",
       "        vertical-align: middle;\n",
       "    }\n",
       "\n",
       "    .dataframe tbody tr th {\n",
       "        vertical-align: top;\n",
       "    }\n",
       "\n",
       "    .dataframe thead th {\n",
       "        text-align: right;\n",
       "    }\n",
       "</style>\n",
       "<table border=\"1\" class=\"dataframe\">\n",
       "  <thead>\n",
       "    <tr style=\"text-align: right;\">\n",
       "      <th></th>\n",
       "      <th>Unnamed: 0</th>\n",
       "      <th>age-bracket</th>\n",
       "      <th>req-text</th>\n",
       "      <th>req-text-clean</th>\n",
       "      <th>Age</th>\n",
       "    </tr>\n",
       "  </thead>\n",
       "  <tbody>\n",
       "    <tr>\n",
       "      <th>0</th>\n",
       "      <td>3415</td>\n",
       "      <td>a43-xx</td>\n",
       "      <td>Gostaria de adotar um casal de cacatuas de um ...</td>\n",
       "      <td>gostaria adotar casal cacatuas criador argenti...</td>\n",
       "      <td>2</td>\n",
       "    </tr>\n",
       "    <tr>\n",
       "      <th>1</th>\n",
       "      <td>24254</td>\n",
       "      <td>a43-xx</td>\n",
       "      <td>Minha esposa ganhou neném, mas na situação de ...</td>\n",
       "      <td>esposa ganhou neném situação natmorto nasceu m...</td>\n",
       "      <td>2</td>\n",
       "    </tr>\n",
       "    <tr>\n",
       "      <th>2</th>\n",
       "      <td>269</td>\n",
       "      <td>a43-xx</td>\n",
       "      <td>Peço a informação referente ao nome de todos o...</td>\n",
       "      <td>peço informação referente nome todos candidato...</td>\n",
       "      <td>2</td>\n",
       "    </tr>\n",
       "    <tr>\n",
       "      <th>3</th>\n",
       "      <td>24435</td>\n",
       "      <td>a17-30</td>\n",
       "      <td>o quantitativo de cargos ocupados e vagos do c...</td>\n",
       "      <td>quantitativo cargos ocupados vagos cargo técni...</td>\n",
       "      <td>0</td>\n",
       "    </tr>\n",
       "    <tr>\n",
       "      <th>4</th>\n",
       "      <td>15926</td>\n",
       "      <td>a17-30</td>\n",
       "      <td>Sou Aluna da Academia de Policia Militar Costa...</td>\n",
       "      <td>aluna academia policia militar costa verde pmm...</td>\n",
       "      <td>0</td>\n",
       "    </tr>\n",
       "  </tbody>\n",
       "</table>\n",
       "</div>"
      ],
      "text/plain": [
       "   Unnamed: 0 age-bracket                                           req-text  \\\n",
       "0        3415      a43-xx  Gostaria de adotar um casal de cacatuas de um ...   \n",
       "1       24254      a43-xx  Minha esposa ganhou neném, mas na situação de ...   \n",
       "2         269      a43-xx  Peço a informação referente ao nome de todos o...   \n",
       "3       24435      a17-30  o quantitativo de cargos ocupados e vagos do c...   \n",
       "4       15926      a17-30  Sou Aluna da Academia de Policia Militar Costa...   \n",
       "\n",
       "                                      req-text-clean  Age  \n",
       "0  gostaria adotar casal cacatuas criador argenti...    2  \n",
       "1  esposa ganhou neném situação natmorto nasceu m...    2  \n",
       "2  peço informação referente nome todos candidato...    2  \n",
       "3  quantitativo cargos ocupados vagos cargo técni...    0  \n",
       "4  aluna academia policia militar costa verde pmm...    0  "
      ]
     },
     "execution_count": 7,
     "metadata": {},
     "output_type": "execute_result"
    }
   ],
   "source": [
    "train_df.head()"
   ]
  },
  {
   "cell_type": "code",
   "execution_count": 8,
   "metadata": {},
   "outputs": [
    {
     "data": {
      "text/html": [
       "<div>\n",
       "<style scoped>\n",
       "    .dataframe tbody tr th:only-of-type {\n",
       "        vertical-align: middle;\n",
       "    }\n",
       "\n",
       "    .dataframe tbody tr th {\n",
       "        vertical-align: top;\n",
       "    }\n",
       "\n",
       "    .dataframe thead th {\n",
       "        text-align: right;\n",
       "    }\n",
       "</style>\n",
       "<table border=\"1\" class=\"dataframe\">\n",
       "  <thead>\n",
       "    <tr style=\"text-align: right;\">\n",
       "      <th></th>\n",
       "      <th>Unnamed: 0</th>\n",
       "      <th>age-bracket</th>\n",
       "      <th>req-text</th>\n",
       "      <th>req-text-clean</th>\n",
       "      <th>Age</th>\n",
       "    </tr>\n",
       "  </thead>\n",
       "  <tbody>\n",
       "  </tbody>\n",
       "</table>\n",
       "</div>"
      ],
      "text/plain": [
       "Empty DataFrame\n",
       "Columns: [Unnamed: 0, age-bracket, req-text, req-text-clean, Age]\n",
       "Index: []"
      ]
     },
     "execution_count": 8,
     "metadata": {},
     "output_type": "execute_result"
    }
   ],
   "source": [
    "train_df[train_df['req-text'].isna()]"
   ]
  },
  {
   "cell_type": "code",
   "execution_count": 9,
   "metadata": {},
   "outputs": [
    {
     "data": {
      "text/html": [
       "<div>\n",
       "<style scoped>\n",
       "    .dataframe tbody tr th:only-of-type {\n",
       "        vertical-align: middle;\n",
       "    }\n",
       "\n",
       "    .dataframe tbody tr th {\n",
       "        vertical-align: top;\n",
       "    }\n",
       "\n",
       "    .dataframe thead th {\n",
       "        text-align: right;\n",
       "    }\n",
       "</style>\n",
       "<table border=\"1\" class=\"dataframe\">\n",
       "  <thead>\n",
       "    <tr style=\"text-align: right;\">\n",
       "      <th></th>\n",
       "      <th>Unnamed: 0</th>\n",
       "      <th>age-bracket</th>\n",
       "      <th>req-text</th>\n",
       "      <th>req-text-clean</th>\n",
       "      <th>Age</th>\n",
       "    </tr>\n",
       "  </thead>\n",
       "  <tbody>\n",
       "  </tbody>\n",
       "</table>\n",
       "</div>"
      ],
      "text/plain": [
       "Empty DataFrame\n",
       "Columns: [Unnamed: 0, age-bracket, req-text, req-text-clean, Age]\n",
       "Index: []"
      ]
     },
     "execution_count": 9,
     "metadata": {},
     "output_type": "execute_result"
    }
   ],
   "source": [
    "train_df[train_df['req-text']=='nan']"
   ]
  },
  {
   "cell_type": "code",
   "execution_count": 10,
   "metadata": {},
   "outputs": [],
   "source": [
    "train_df = train_df[train_df['req-text']!='nan']"
   ]
  },
  {
   "cell_type": "code",
   "execution_count": 13,
   "metadata": {},
   "outputs": [],
   "source": [
    "train_df.to_csv('../data/train.csv', index=True)\n",
    "test_df.to_csv('../data/test.csv', index=True)"
   ]
  },
  {
   "cell_type": "code",
   "execution_count": 11,
   "metadata": {},
   "outputs": [
    {
     "name": "stdout",
     "output_type": "stream",
     "text": [
      "85317\n"
     ]
    }
   ],
   "source": [
    "unique_words = list(set(\" \".join(train_df[\"req-text-clean\"].to_list()).split()))\n",
    "print(len(unique_words))\n",
    "threshold = train_df.shape[0]*0.01\n",
    "word_counts = train_df[\"req-text-clean\"].str.split().explode().value_counts()\n",
    "row_counts = pd.DataFrame({'word': word_counts.index, 'count': word_counts.values})\n",
    "row_counts['count'] = row_counts['word'].apply(lambda word: train_df[\"req-text-clean\"].str.contains(word, regex=False).sum())\n",
    "selected_words = row_counts[row_counts['count']>threshold]['word'].to_list()"
   ]
  },
  {
   "cell_type": "code",
   "execution_count": 11,
   "metadata": {},
   "outputs": [
    {
     "name": "stdout",
     "output_type": "stream",
     "text": [
      "2776\n"
     ]
    }
   ],
   "source": [
    "selected_words = []\n",
    "\n",
    "# open file and read the content in a list\n",
    "with open(r'../data/one_percent_vocab.txt', 'r') as fp:\n",
    "    for line in fp:\n",
    "        # remove linebreak from a current name\n",
    "        # linebreak is the last character of each line\n",
    "        x = line[:-1]\n",
    "\n",
    "        # add current item to the list\n",
    "        selected_words.append(x)\n",
    "\n",
    "# display list\n",
    "print(len(selected_words))"
   ]
  },
  {
   "cell_type": "code",
   "execution_count": 12,
   "metadata": {},
   "outputs": [
    {
     "data": {
      "text/plain": [
       "38207"
      ]
     },
     "execution_count": 12,
     "metadata": {},
     "output_type": "execute_result"
    }
   ],
   "source": [
    "train_df.shape[0]"
   ]
  },
  {
   "cell_type": "code",
   "execution_count": 13,
   "metadata": {},
   "outputs": [
    {
     "data": {
      "text/plain": [
       "2769"
      ]
     },
     "execution_count": 13,
     "metadata": {},
     "output_type": "execute_result"
    }
   ],
   "source": [
    "len(selected_words)"
   ]
  },
  {
   "cell_type": "code",
   "execution_count": 13,
   "metadata": {},
   "outputs": [],
   "source": [
    "from sklearn.feature_extraction.text import TfidfVectorizer\n",
    "\n",
    "text = train_df[\"req-text-clean\"].to_list()\n",
    "\n",
    "vectorizer = TfidfVectorizer(vocabulary=selected_words)\n",
    "train_matrix = vectorizer.fit_transform(text)\n",
    "train_matrix = train_matrix.toarray()\n",
    "\n",
    "tf_idf = pd.DataFrame(data=train_matrix, columns=selected_words)\n",
    "\n",
    "X = tf_idf\n",
    "y =  train_df['Age']"
   ]
  },
  {
   "cell_type": "code",
   "execution_count": 13,
   "metadata": {},
   "outputs": [
    {
     "name": "stdout",
     "output_type": "stream",
     "text": [
      "Fitting 5 folds for each of 18 candidates, totalling 90 fits\n"
     ]
    },
    {
     "name": "stderr",
     "output_type": "stream",
     "text": [
      "/home/alice/.local/lib/python3.9/site-packages/sklearn/svm/_base.py:301: ConvergenceWarning: Solver terminated early (max_iter=1000).  Consider pre-processing your data with StandardScaler or MinMaxScaler.\n",
      "  warnings.warn(\n"
     ]
    },
    {
     "name": "stdout",
     "output_type": "stream",
     "text": [
      "[CV] END ..................C=0.1, gamma=scale, max_iter=1000; total time= 5.5min\n"
     ]
    },
    {
     "name": "stderr",
     "output_type": "stream",
     "text": [
      "/home/alice/.local/lib/python3.9/site-packages/sklearn/svm/_base.py:301: ConvergenceWarning: Solver terminated early (max_iter=1000).  Consider pre-processing your data with StandardScaler or MinMaxScaler.\n",
      "  warnings.warn(\n"
     ]
    },
    {
     "name": "stdout",
     "output_type": "stream",
     "text": [
      "[CV] END ..................C=0.1, gamma=scale, max_iter=1000; total time= 5.4min\n"
     ]
    },
    {
     "name": "stderr",
     "output_type": "stream",
     "text": [
      "/home/alice/.local/lib/python3.9/site-packages/sklearn/svm/_base.py:301: ConvergenceWarning: Solver terminated early (max_iter=1000).  Consider pre-processing your data with StandardScaler or MinMaxScaler.\n",
      "  warnings.warn(\n"
     ]
    },
    {
     "name": "stdout",
     "output_type": "stream",
     "text": [
      "[CV] END ..................C=0.1, gamma=scale, max_iter=1000; total time= 4.6min\n"
     ]
    },
    {
     "name": "stderr",
     "output_type": "stream",
     "text": [
      "/home/alice/.local/lib/python3.9/site-packages/sklearn/svm/_base.py:301: ConvergenceWarning: Solver terminated early (max_iter=1000).  Consider pre-processing your data with StandardScaler or MinMaxScaler.\n",
      "  warnings.warn(\n"
     ]
    },
    {
     "name": "stdout",
     "output_type": "stream",
     "text": [
      "[CV] END ..................C=0.1, gamma=scale, max_iter=1000; total time= 2.6min\n"
     ]
    },
    {
     "name": "stderr",
     "output_type": "stream",
     "text": [
      "/home/alice/.local/lib/python3.9/site-packages/sklearn/svm/_base.py:301: ConvergenceWarning: Solver terminated early (max_iter=1000).  Consider pre-processing your data with StandardScaler or MinMaxScaler.\n",
      "  warnings.warn(\n"
     ]
    },
    {
     "name": "stdout",
     "output_type": "stream",
     "text": [
      "[CV] END ..................C=0.1, gamma=scale, max_iter=1000; total time= 2.7min\n"
     ]
    },
    {
     "name": "stderr",
     "output_type": "stream",
     "text": [
      "/home/alice/.local/lib/python3.9/site-packages/sklearn/svm/_base.py:301: ConvergenceWarning: Solver terminated early (max_iter=10000).  Consider pre-processing your data with StandardScaler or MinMaxScaler.\n",
      "  warnings.warn(\n"
     ]
    },
    {
     "name": "stdout",
     "output_type": "stream",
     "text": [
      "[CV] END .................C=0.1, gamma=scale, max_iter=10000; total time=21.6min\n"
     ]
    },
    {
     "name": "stderr",
     "output_type": "stream",
     "text": [
      "/home/alice/.local/lib/python3.9/site-packages/sklearn/svm/_base.py:301: ConvergenceWarning: Solver terminated early (max_iter=10000).  Consider pre-processing your data with StandardScaler or MinMaxScaler.\n",
      "  warnings.warn(\n"
     ]
    },
    {
     "name": "stdout",
     "output_type": "stream",
     "text": [
      "[CV] END .................C=0.1, gamma=scale, max_iter=10000; total time=21.6min\n"
     ]
    },
    {
     "name": "stderr",
     "output_type": "stream",
     "text": [
      "/home/alice/.local/lib/python3.9/site-packages/sklearn/svm/_base.py:301: ConvergenceWarning: Solver terminated early (max_iter=10000).  Consider pre-processing your data with StandardScaler or MinMaxScaler.\n",
      "  warnings.warn(\n"
     ]
    },
    {
     "name": "stdout",
     "output_type": "stream",
     "text": [
      "[CV] END .................C=0.1, gamma=scale, max_iter=10000; total time=21.6min\n"
     ]
    },
    {
     "name": "stderr",
     "output_type": "stream",
     "text": [
      "/home/alice/.local/lib/python3.9/site-packages/sklearn/svm/_base.py:301: ConvergenceWarning: Solver terminated early (max_iter=10000).  Consider pre-processing your data with StandardScaler or MinMaxScaler.\n",
      "  warnings.warn(\n"
     ]
    },
    {
     "name": "stdout",
     "output_type": "stream",
     "text": [
      "[CV] END .................C=0.1, gamma=scale, max_iter=10000; total time=21.6min\n"
     ]
    },
    {
     "name": "stderr",
     "output_type": "stream",
     "text": [
      "/home/alice/.local/lib/python3.9/site-packages/sklearn/svm/_base.py:301: ConvergenceWarning: Solver terminated early (max_iter=10000).  Consider pre-processing your data with StandardScaler or MinMaxScaler.\n",
      "  warnings.warn(\n"
     ]
    },
    {
     "name": "stdout",
     "output_type": "stream",
     "text": [
      "[CV] END .................C=0.1, gamma=scale, max_iter=10000; total time=21.6min\n",
      "[CV] END ....................C=0.1, gamma=scale, max_iter=-1; total time=21.7min\n",
      "[CV] END ....................C=0.1, gamma=scale, max_iter=-1; total time=21.7min\n",
      "[CV] END ....................C=0.1, gamma=scale, max_iter=-1; total time=21.7min\n",
      "[CV] END ....................C=0.1, gamma=scale, max_iter=-1; total time=21.7min\n",
      "[CV] END ....................C=0.1, gamma=scale, max_iter=-1; total time=21.6min\n"
     ]
    },
    {
     "name": "stderr",
     "output_type": "stream",
     "text": [
      "/home/alice/.local/lib/python3.9/site-packages/sklearn/svm/_base.py:301: ConvergenceWarning: Solver terminated early (max_iter=1000).  Consider pre-processing your data with StandardScaler or MinMaxScaler.\n",
      "  warnings.warn(\n"
     ]
    },
    {
     "name": "stdout",
     "output_type": "stream",
     "text": [
      "[CV] END ...................C=0.1, gamma=auto, max_iter=1000; total time= 2.7min\n"
     ]
    },
    {
     "name": "stderr",
     "output_type": "stream",
     "text": [
      "/home/alice/.local/lib/python3.9/site-packages/sklearn/svm/_base.py:301: ConvergenceWarning: Solver terminated early (max_iter=1000).  Consider pre-processing your data with StandardScaler or MinMaxScaler.\n",
      "  warnings.warn(\n"
     ]
    },
    {
     "name": "stdout",
     "output_type": "stream",
     "text": [
      "[CV] END ...................C=0.1, gamma=auto, max_iter=1000; total time= 2.7min\n"
     ]
    },
    {
     "name": "stderr",
     "output_type": "stream",
     "text": [
      "/home/alice/.local/lib/python3.9/site-packages/sklearn/svm/_base.py:301: ConvergenceWarning: Solver terminated early (max_iter=1000).  Consider pre-processing your data with StandardScaler or MinMaxScaler.\n",
      "  warnings.warn(\n"
     ]
    },
    {
     "name": "stdout",
     "output_type": "stream",
     "text": [
      "[CV] END ...................C=0.1, gamma=auto, max_iter=1000; total time= 2.7min\n"
     ]
    },
    {
     "name": "stderr",
     "output_type": "stream",
     "text": [
      "/home/alice/.local/lib/python3.9/site-packages/sklearn/svm/_base.py:301: ConvergenceWarning: Solver terminated early (max_iter=1000).  Consider pre-processing your data with StandardScaler or MinMaxScaler.\n",
      "  warnings.warn(\n"
     ]
    },
    {
     "name": "stdout",
     "output_type": "stream",
     "text": [
      "[CV] END ...................C=0.1, gamma=auto, max_iter=1000; total time= 2.7min\n"
     ]
    },
    {
     "name": "stderr",
     "output_type": "stream",
     "text": [
      "/home/alice/.local/lib/python3.9/site-packages/sklearn/svm/_base.py:301: ConvergenceWarning: Solver terminated early (max_iter=1000).  Consider pre-processing your data with StandardScaler or MinMaxScaler.\n",
      "  warnings.warn(\n"
     ]
    },
    {
     "name": "stdout",
     "output_type": "stream",
     "text": [
      "[CV] END ...................C=0.1, gamma=auto, max_iter=1000; total time= 2.7min\n"
     ]
    },
    {
     "name": "stderr",
     "output_type": "stream",
     "text": [
      "/home/alice/.local/lib/python3.9/site-packages/sklearn/svm/_base.py:301: ConvergenceWarning: Solver terminated early (max_iter=10000).  Consider pre-processing your data with StandardScaler or MinMaxScaler.\n",
      "  warnings.warn(\n"
     ]
    },
    {
     "name": "stdout",
     "output_type": "stream",
     "text": [
      "[CV] END ..................C=0.1, gamma=auto, max_iter=10000; total time=21.4min\n"
     ]
    },
    {
     "name": "stderr",
     "output_type": "stream",
     "text": [
      "/home/alice/.local/lib/python3.9/site-packages/sklearn/svm/_base.py:301: ConvergenceWarning: Solver terminated early (max_iter=10000).  Consider pre-processing your data with StandardScaler or MinMaxScaler.\n",
      "  warnings.warn(\n"
     ]
    },
    {
     "name": "stdout",
     "output_type": "stream",
     "text": [
      "[CV] END ..................C=0.1, gamma=auto, max_iter=10000; total time=21.5min\n"
     ]
    },
    {
     "name": "stderr",
     "output_type": "stream",
     "text": [
      "/home/alice/.local/lib/python3.9/site-packages/sklearn/svm/_base.py:301: ConvergenceWarning: Solver terminated early (max_iter=10000).  Consider pre-processing your data with StandardScaler or MinMaxScaler.\n",
      "  warnings.warn(\n"
     ]
    },
    {
     "name": "stdout",
     "output_type": "stream",
     "text": [
      "[CV] END ..................C=0.1, gamma=auto, max_iter=10000; total time=21.5min\n"
     ]
    },
    {
     "name": "stderr",
     "output_type": "stream",
     "text": [
      "/home/alice/.local/lib/python3.9/site-packages/sklearn/svm/_base.py:301: ConvergenceWarning: Solver terminated early (max_iter=10000).  Consider pre-processing your data with StandardScaler or MinMaxScaler.\n",
      "  warnings.warn(\n"
     ]
    },
    {
     "name": "stdout",
     "output_type": "stream",
     "text": [
      "[CV] END ..................C=0.1, gamma=auto, max_iter=10000; total time=21.5min\n"
     ]
    },
    {
     "name": "stderr",
     "output_type": "stream",
     "text": [
      "/home/alice/.local/lib/python3.9/site-packages/sklearn/svm/_base.py:301: ConvergenceWarning: Solver terminated early (max_iter=10000).  Consider pre-processing your data with StandardScaler or MinMaxScaler.\n",
      "  warnings.warn(\n"
     ]
    },
    {
     "name": "stdout",
     "output_type": "stream",
     "text": [
      "[CV] END ..................C=0.1, gamma=auto, max_iter=10000; total time=21.4min\n",
      "[CV] END .....................C=0.1, gamma=auto, max_iter=-1; total time=21.5min\n",
      "[CV] END .....................C=0.1, gamma=auto, max_iter=-1; total time=21.5min\n",
      "[CV] END .....................C=0.1, gamma=auto, max_iter=-1; total time=21.6min\n",
      "[CV] END .....................C=0.1, gamma=auto, max_iter=-1; total time=21.6min\n",
      "[CV] END .....................C=0.1, gamma=auto, max_iter=-1; total time=21.6min\n"
     ]
    },
    {
     "name": "stderr",
     "output_type": "stream",
     "text": [
      "/home/alice/.local/lib/python3.9/site-packages/sklearn/svm/_base.py:301: ConvergenceWarning: Solver terminated early (max_iter=1000).  Consider pre-processing your data with StandardScaler or MinMaxScaler.\n",
      "  warnings.warn(\n"
     ]
    },
    {
     "name": "stdout",
     "output_type": "stream",
     "text": [
      "[CV] END ....................C=1, gamma=scale, max_iter=1000; total time= 2.7min\n"
     ]
    },
    {
     "name": "stderr",
     "output_type": "stream",
     "text": [
      "/home/alice/.local/lib/python3.9/site-packages/sklearn/svm/_base.py:301: ConvergenceWarning: Solver terminated early (max_iter=1000).  Consider pre-processing your data with StandardScaler or MinMaxScaler.\n",
      "  warnings.warn(\n"
     ]
    },
    {
     "name": "stdout",
     "output_type": "stream",
     "text": [
      "[CV] END ....................C=1, gamma=scale, max_iter=1000; total time= 2.7min\n"
     ]
    },
    {
     "name": "stderr",
     "output_type": "stream",
     "text": [
      "/home/alice/.local/lib/python3.9/site-packages/sklearn/svm/_base.py:301: ConvergenceWarning: Solver terminated early (max_iter=1000).  Consider pre-processing your data with StandardScaler or MinMaxScaler.\n",
      "  warnings.warn(\n"
     ]
    },
    {
     "name": "stdout",
     "output_type": "stream",
     "text": [
      "[CV] END ....................C=1, gamma=scale, max_iter=1000; total time= 2.7min\n"
     ]
    },
    {
     "name": "stderr",
     "output_type": "stream",
     "text": [
      "/home/alice/.local/lib/python3.9/site-packages/sklearn/svm/_base.py:301: ConvergenceWarning: Solver terminated early (max_iter=1000).  Consider pre-processing your data with StandardScaler or MinMaxScaler.\n",
      "  warnings.warn(\n"
     ]
    },
    {
     "name": "stdout",
     "output_type": "stream",
     "text": [
      "[CV] END ....................C=1, gamma=scale, max_iter=1000; total time= 2.7min\n"
     ]
    },
    {
     "name": "stderr",
     "output_type": "stream",
     "text": [
      "/home/alice/.local/lib/python3.9/site-packages/sklearn/svm/_base.py:301: ConvergenceWarning: Solver terminated early (max_iter=1000).  Consider pre-processing your data with StandardScaler or MinMaxScaler.\n",
      "  warnings.warn(\n"
     ]
    },
    {
     "name": "stdout",
     "output_type": "stream",
     "text": [
      "[CV] END ....................C=1, gamma=scale, max_iter=1000; total time= 2.7min\n"
     ]
    },
    {
     "name": "stderr",
     "output_type": "stream",
     "text": [
      "/home/alice/.local/lib/python3.9/site-packages/sklearn/svm/_base.py:301: ConvergenceWarning: Solver terminated early (max_iter=10000).  Consider pre-processing your data with StandardScaler or MinMaxScaler.\n",
      "  warnings.warn(\n"
     ]
    },
    {
     "name": "stdout",
     "output_type": "stream",
     "text": [
      "[CV] END ...................C=1, gamma=scale, max_iter=10000; total time=18.9min\n"
     ]
    },
    {
     "name": "stderr",
     "output_type": "stream",
     "text": [
      "/home/alice/.local/lib/python3.9/site-packages/sklearn/svm/_base.py:301: ConvergenceWarning: Solver terminated early (max_iter=10000).  Consider pre-processing your data with StandardScaler or MinMaxScaler.\n",
      "  warnings.warn(\n"
     ]
    },
    {
     "name": "stdout",
     "output_type": "stream",
     "text": [
      "[CV] END ...................C=1, gamma=scale, max_iter=10000; total time=18.9min\n"
     ]
    },
    {
     "name": "stderr",
     "output_type": "stream",
     "text": [
      "/home/alice/.local/lib/python3.9/site-packages/sklearn/svm/_base.py:301: ConvergenceWarning: Solver terminated early (max_iter=10000).  Consider pre-processing your data with StandardScaler or MinMaxScaler.\n",
      "  warnings.warn(\n"
     ]
    },
    {
     "name": "stdout",
     "output_type": "stream",
     "text": [
      "[CV] END ...................C=1, gamma=scale, max_iter=10000; total time=18.8min\n"
     ]
    },
    {
     "name": "stderr",
     "output_type": "stream",
     "text": [
      "/home/alice/.local/lib/python3.9/site-packages/sklearn/svm/_base.py:301: ConvergenceWarning: Solver terminated early (max_iter=10000).  Consider pre-processing your data with StandardScaler or MinMaxScaler.\n",
      "  warnings.warn(\n"
     ]
    },
    {
     "name": "stdout",
     "output_type": "stream",
     "text": [
      "[CV] END ...................C=1, gamma=scale, max_iter=10000; total time=18.7min\n"
     ]
    },
    {
     "name": "stderr",
     "output_type": "stream",
     "text": [
      "/home/alice/.local/lib/python3.9/site-packages/sklearn/svm/_base.py:301: ConvergenceWarning: Solver terminated early (max_iter=10000).  Consider pre-processing your data with StandardScaler or MinMaxScaler.\n",
      "  warnings.warn(\n"
     ]
    },
    {
     "name": "stdout",
     "output_type": "stream",
     "text": [
      "[CV] END ...................C=1, gamma=scale, max_iter=10000; total time=18.9min\n",
      "[CV] END ......................C=1, gamma=scale, max_iter=-1; total time=20.7min\n",
      "[CV] END ......................C=1, gamma=scale, max_iter=-1; total time=20.7min\n",
      "[CV] END ......................C=1, gamma=scale, max_iter=-1; total time=20.7min\n",
      "[CV] END ......................C=1, gamma=scale, max_iter=-1; total time=20.7min\n",
      "[CV] END ......................C=1, gamma=scale, max_iter=-1; total time=62.8min\n"
     ]
    },
    {
     "name": "stderr",
     "output_type": "stream",
     "text": [
      "/home/alice/.local/lib/python3.9/site-packages/sklearn/svm/_base.py:301: ConvergenceWarning: Solver terminated early (max_iter=1000).  Consider pre-processing your data with StandardScaler or MinMaxScaler.\n",
      "  warnings.warn(\n"
     ]
    },
    {
     "name": "stdout",
     "output_type": "stream",
     "text": [
      "[CV] END .....................C=1, gamma=auto, max_iter=1000; total time=14.3min\n"
     ]
    },
    {
     "name": "stderr",
     "output_type": "stream",
     "text": [
      "/home/alice/.local/lib/python3.9/site-packages/sklearn/svm/_base.py:301: ConvergenceWarning: Solver terminated early (max_iter=1000).  Consider pre-processing your data with StandardScaler or MinMaxScaler.\n",
      "  warnings.warn(\n"
     ]
    },
    {
     "name": "stdout",
     "output_type": "stream",
     "text": [
      "[CV] END .....................C=1, gamma=auto, max_iter=1000; total time=14.2min\n"
     ]
    },
    {
     "name": "stderr",
     "output_type": "stream",
     "text": [
      "/home/alice/.local/lib/python3.9/site-packages/sklearn/svm/_base.py:301: ConvergenceWarning: Solver terminated early (max_iter=1000).  Consider pre-processing your data with StandardScaler or MinMaxScaler.\n",
      "  warnings.warn(\n"
     ]
    },
    {
     "name": "stdout",
     "output_type": "stream",
     "text": [
      "[CV] END .....................C=1, gamma=auto, max_iter=1000; total time=13.5min\n"
     ]
    },
    {
     "name": "stderr",
     "output_type": "stream",
     "text": [
      "/home/alice/.local/lib/python3.9/site-packages/sklearn/svm/_base.py:301: ConvergenceWarning: Solver terminated early (max_iter=1000).  Consider pre-processing your data with StandardScaler or MinMaxScaler.\n",
      "  warnings.warn(\n"
     ]
    },
    {
     "name": "stdout",
     "output_type": "stream",
     "text": [
      "[CV] END .....................C=1, gamma=auto, max_iter=1000; total time=14.2min\n"
     ]
    },
    {
     "name": "stderr",
     "output_type": "stream",
     "text": [
      "/home/alice/.local/lib/python3.9/site-packages/sklearn/svm/_base.py:301: ConvergenceWarning: Solver terminated early (max_iter=1000).  Consider pre-processing your data with StandardScaler or MinMaxScaler.\n",
      "  warnings.warn(\n"
     ]
    },
    {
     "name": "stdout",
     "output_type": "stream",
     "text": [
      "[CV] END .....................C=1, gamma=auto, max_iter=1000; total time=14.3min\n"
     ]
    },
    {
     "name": "stderr",
     "output_type": "stream",
     "text": [
      "/home/alice/.local/lib/python3.9/site-packages/sklearn/svm/_base.py:301: ConvergenceWarning: Solver terminated early (max_iter=10000).  Consider pre-processing your data with StandardScaler or MinMaxScaler.\n",
      "  warnings.warn(\n"
     ]
    },
    {
     "name": "stdout",
     "output_type": "stream",
     "text": [
      "[CV] END ....................C=1, gamma=auto, max_iter=10000; total time=93.4min\n"
     ]
    },
    {
     "name": "stderr",
     "output_type": "stream",
     "text": [
      "/home/alice/.local/lib/python3.9/site-packages/sklearn/svm/_base.py:301: ConvergenceWarning: Solver terminated early (max_iter=10000).  Consider pre-processing your data with StandardScaler or MinMaxScaler.\n",
      "  warnings.warn(\n"
     ]
    },
    {
     "name": "stdout",
     "output_type": "stream",
     "text": [
      "[CV] END ....................C=1, gamma=auto, max_iter=10000; total time=73.8min\n"
     ]
    },
    {
     "name": "stderr",
     "output_type": "stream",
     "text": [
      "/home/alice/.local/lib/python3.9/site-packages/sklearn/svm/_base.py:301: ConvergenceWarning: Solver terminated early (max_iter=10000).  Consider pre-processing your data with StandardScaler or MinMaxScaler.\n",
      "  warnings.warn(\n"
     ]
    },
    {
     "name": "stdout",
     "output_type": "stream",
     "text": [
      "[CV] END ....................C=1, gamma=auto, max_iter=10000; total time=72.4min\n"
     ]
    },
    {
     "name": "stderr",
     "output_type": "stream",
     "text": [
      "/home/alice/.local/lib/python3.9/site-packages/sklearn/svm/_base.py:301: ConvergenceWarning: Solver terminated early (max_iter=10000).  Consider pre-processing your data with StandardScaler or MinMaxScaler.\n",
      "  warnings.warn(\n"
     ]
    },
    {
     "name": "stdout",
     "output_type": "stream",
     "text": [
      "[CV] END ....................C=1, gamma=auto, max_iter=10000; total time=72.0min\n"
     ]
    },
    {
     "name": "stderr",
     "output_type": "stream",
     "text": [
      "/home/alice/.local/lib/python3.9/site-packages/sklearn/svm/_base.py:301: ConvergenceWarning: Solver terminated early (max_iter=10000).  Consider pre-processing your data with StandardScaler or MinMaxScaler.\n",
      "  warnings.warn(\n"
     ]
    },
    {
     "name": "stdout",
     "output_type": "stream",
     "text": [
      "[CV] END ....................C=1, gamma=auto, max_iter=10000; total time=66.4min\n",
      "[CV] END .......................C=1, gamma=auto, max_iter=-1; total time=83.2min\n",
      "[CV] END .......................C=1, gamma=auto, max_iter=-1; total time=79.5min\n",
      "[CV] END .......................C=1, gamma=auto, max_iter=-1; total time=79.7min\n",
      "[CV] END .......................C=1, gamma=auto, max_iter=-1; total time=78.3min\n",
      "[CV] END .......................C=1, gamma=auto, max_iter=-1; total time=69.6min\n"
     ]
    },
    {
     "name": "stderr",
     "output_type": "stream",
     "text": [
      "/home/alice/.local/lib/python3.9/site-packages/sklearn/svm/_base.py:301: ConvergenceWarning: Solver terminated early (max_iter=1000).  Consider pre-processing your data with StandardScaler or MinMaxScaler.\n",
      "  warnings.warn(\n"
     ]
    },
    {
     "name": "stdout",
     "output_type": "stream",
     "text": [
      "[CV] END ..................C=100, gamma=scale, max_iter=1000; total time=10.1min\n"
     ]
    },
    {
     "name": "stderr",
     "output_type": "stream",
     "text": [
      "/home/alice/.local/lib/python3.9/site-packages/sklearn/svm/_base.py:301: ConvergenceWarning: Solver terminated early (max_iter=1000).  Consider pre-processing your data with StandardScaler or MinMaxScaler.\n",
      "  warnings.warn(\n"
     ]
    },
    {
     "name": "stdout",
     "output_type": "stream",
     "text": [
      "[CV] END ..................C=100, gamma=scale, max_iter=1000; total time= 9.7min\n"
     ]
    },
    {
     "name": "stderr",
     "output_type": "stream",
     "text": [
      "/home/alice/.local/lib/python3.9/site-packages/sklearn/svm/_base.py:301: ConvergenceWarning: Solver terminated early (max_iter=1000).  Consider pre-processing your data with StandardScaler or MinMaxScaler.\n",
      "  warnings.warn(\n"
     ]
    },
    {
     "name": "stdout",
     "output_type": "stream",
     "text": [
      "[CV] END ..................C=100, gamma=scale, max_iter=1000; total time= 9.5min\n"
     ]
    },
    {
     "name": "stderr",
     "output_type": "stream",
     "text": [
      "/home/alice/.local/lib/python3.9/site-packages/sklearn/svm/_base.py:301: ConvergenceWarning: Solver terminated early (max_iter=1000).  Consider pre-processing your data with StandardScaler or MinMaxScaler.\n",
      "  warnings.warn(\n"
     ]
    },
    {
     "name": "stdout",
     "output_type": "stream",
     "text": [
      "[CV] END ..................C=100, gamma=scale, max_iter=1000; total time= 9.0min\n"
     ]
    },
    {
     "name": "stderr",
     "output_type": "stream",
     "text": [
      "/home/alice/.local/lib/python3.9/site-packages/sklearn/svm/_base.py:301: ConvergenceWarning: Solver terminated early (max_iter=1000).  Consider pre-processing your data with StandardScaler or MinMaxScaler.\n",
      "  warnings.warn(\n"
     ]
    },
    {
     "name": "stdout",
     "output_type": "stream",
     "text": [
      "[CV] END ..................C=100, gamma=scale, max_iter=1000; total time=10.5min\n"
     ]
    },
    {
     "name": "stderr",
     "output_type": "stream",
     "text": [
      "/home/alice/.local/lib/python3.9/site-packages/sklearn/svm/_base.py:301: ConvergenceWarning: Solver terminated early (max_iter=10000).  Consider pre-processing your data with StandardScaler or MinMaxScaler.\n",
      "  warnings.warn(\n"
     ]
    },
    {
     "name": "stdout",
     "output_type": "stream",
     "text": [
      "[CV] END .................C=100, gamma=scale, max_iter=10000; total time=73.5min\n"
     ]
    },
    {
     "name": "stderr",
     "output_type": "stream",
     "text": [
      "/home/alice/.local/lib/python3.9/site-packages/sklearn/svm/_base.py:301: ConvergenceWarning: Solver terminated early (max_iter=10000).  Consider pre-processing your data with StandardScaler or MinMaxScaler.\n",
      "  warnings.warn(\n"
     ]
    },
    {
     "name": "stdout",
     "output_type": "stream",
     "text": [
      "[CV] END .................C=100, gamma=scale, max_iter=10000; total time=71.7min\n"
     ]
    },
    {
     "name": "stderr",
     "output_type": "stream",
     "text": [
      "/home/alice/.local/lib/python3.9/site-packages/sklearn/svm/_base.py:301: ConvergenceWarning: Solver terminated early (max_iter=10000).  Consider pre-processing your data with StandardScaler or MinMaxScaler.\n",
      "  warnings.warn(\n"
     ]
    },
    {
     "name": "stdout",
     "output_type": "stream",
     "text": [
      "[CV] END .................C=100, gamma=scale, max_iter=10000; total time=72.4min\n"
     ]
    },
    {
     "name": "stderr",
     "output_type": "stream",
     "text": [
      "/home/alice/.local/lib/python3.9/site-packages/sklearn/svm/_base.py:301: ConvergenceWarning: Solver terminated early (max_iter=10000).  Consider pre-processing your data with StandardScaler or MinMaxScaler.\n",
      "  warnings.warn(\n"
     ]
    },
    {
     "name": "stdout",
     "output_type": "stream",
     "text": [
      "[CV] END .................C=100, gamma=scale, max_iter=10000; total time=71.2min\n"
     ]
    },
    {
     "name": "stderr",
     "output_type": "stream",
     "text": [
      "/home/alice/.local/lib/python3.9/site-packages/sklearn/svm/_base.py:301: ConvergenceWarning: Solver terminated early (max_iter=10000).  Consider pre-processing your data with StandardScaler or MinMaxScaler.\n",
      "  warnings.warn(\n"
     ]
    },
    {
     "name": "stdout",
     "output_type": "stream",
     "text": [
      "[CV] END .................C=100, gamma=scale, max_iter=10000; total time=55.3min\n",
      "[CV] END ..................C=100, gamma=scale, max_iter=-1; total time=1038.1min\n",
      "[CV] END ...................C=100, gamma=scale, max_iter=-1; total time=453.2min\n",
      "[CV] END ...................C=100, gamma=scale, max_iter=-1; total time=374.5min\n",
      "[CV] END ...................C=100, gamma=scale, max_iter=-1; total time=395.8min\n",
      "[CV] END ...................C=100, gamma=scale, max_iter=-1; total time=343.1min\n"
     ]
    },
    {
     "name": "stderr",
     "output_type": "stream",
     "text": [
      "/home/alice/.local/lib/python3.9/site-packages/sklearn/svm/_base.py:301: ConvergenceWarning: Solver terminated early (max_iter=1000).  Consider pre-processing your data with StandardScaler or MinMaxScaler.\n",
      "  warnings.warn(\n"
     ]
    },
    {
     "name": "stdout",
     "output_type": "stream",
     "text": [
      "[CV] END ...................C=100, gamma=auto, max_iter=1000; total time= 2.4min\n"
     ]
    },
    {
     "name": "stderr",
     "output_type": "stream",
     "text": [
      "/home/alice/.local/lib/python3.9/site-packages/sklearn/svm/_base.py:301: ConvergenceWarning: Solver terminated early (max_iter=1000).  Consider pre-processing your data with StandardScaler or MinMaxScaler.\n",
      "  warnings.warn(\n"
     ]
    },
    {
     "name": "stdout",
     "output_type": "stream",
     "text": [
      "[CV] END ...................C=100, gamma=auto, max_iter=1000; total time= 2.4min\n"
     ]
    },
    {
     "name": "stderr",
     "output_type": "stream",
     "text": [
      "/home/alice/.local/lib/python3.9/site-packages/sklearn/svm/_base.py:301: ConvergenceWarning: Solver terminated early (max_iter=1000).  Consider pre-processing your data with StandardScaler or MinMaxScaler.\n",
      "  warnings.warn(\n"
     ]
    },
    {
     "name": "stdout",
     "output_type": "stream",
     "text": [
      "[CV] END ...................C=100, gamma=auto, max_iter=1000; total time= 2.4min\n"
     ]
    },
    {
     "name": "stderr",
     "output_type": "stream",
     "text": [
      "/home/alice/.local/lib/python3.9/site-packages/sklearn/svm/_base.py:301: ConvergenceWarning: Solver terminated early (max_iter=1000).  Consider pre-processing your data with StandardScaler or MinMaxScaler.\n",
      "  warnings.warn(\n"
     ]
    },
    {
     "name": "stdout",
     "output_type": "stream",
     "text": [
      "[CV] END ...................C=100, gamma=auto, max_iter=1000; total time= 2.4min\n"
     ]
    },
    {
     "name": "stderr",
     "output_type": "stream",
     "text": [
      "/home/alice/.local/lib/python3.9/site-packages/sklearn/svm/_base.py:301: ConvergenceWarning: Solver terminated early (max_iter=1000).  Consider pre-processing your data with StandardScaler or MinMaxScaler.\n",
      "  warnings.warn(\n"
     ]
    },
    {
     "name": "stdout",
     "output_type": "stream",
     "text": [
      "[CV] END ...................C=100, gamma=auto, max_iter=1000; total time= 2.3min\n"
     ]
    },
    {
     "name": "stderr",
     "output_type": "stream",
     "text": [
      "/home/alice/.local/lib/python3.9/site-packages/sklearn/svm/_base.py:301: ConvergenceWarning: Solver terminated early (max_iter=10000).  Consider pre-processing your data with StandardScaler or MinMaxScaler.\n",
      "  warnings.warn(\n"
     ]
    },
    {
     "name": "stdout",
     "output_type": "stream",
     "text": [
      "[CV] END ..................C=100, gamma=auto, max_iter=10000; total time=18.2min\n"
     ]
    },
    {
     "name": "stderr",
     "output_type": "stream",
     "text": [
      "/home/alice/.local/lib/python3.9/site-packages/sklearn/svm/_base.py:301: ConvergenceWarning: Solver terminated early (max_iter=10000).  Consider pre-processing your data with StandardScaler or MinMaxScaler.\n",
      "  warnings.warn(\n"
     ]
    },
    {
     "name": "stdout",
     "output_type": "stream",
     "text": [
      "[CV] END ..................C=100, gamma=auto, max_iter=10000; total time=18.3min\n"
     ]
    },
    {
     "name": "stderr",
     "output_type": "stream",
     "text": [
      "/home/alice/.local/lib/python3.9/site-packages/sklearn/svm/_base.py:301: ConvergenceWarning: Solver terminated early (max_iter=10000).  Consider pre-processing your data with StandardScaler or MinMaxScaler.\n",
      "  warnings.warn(\n"
     ]
    },
    {
     "name": "stdout",
     "output_type": "stream",
     "text": [
      "[CV] END ..................C=100, gamma=auto, max_iter=10000; total time=19.2min\n"
     ]
    },
    {
     "name": "stderr",
     "output_type": "stream",
     "text": [
      "/home/alice/.local/lib/python3.9/site-packages/sklearn/svm/_base.py:301: ConvergenceWarning: Solver terminated early (max_iter=10000).  Consider pre-processing your data with StandardScaler or MinMaxScaler.\n",
      "  warnings.warn(\n"
     ]
    },
    {
     "name": "stdout",
     "output_type": "stream",
     "text": [
      "[CV] END ..................C=100, gamma=auto, max_iter=10000; total time=45.1min\n"
     ]
    },
    {
     "name": "stderr",
     "output_type": "stream",
     "text": [
      "/home/alice/.local/lib/python3.9/site-packages/sklearn/svm/_base.py:301: ConvergenceWarning: Solver terminated early (max_iter=10000).  Consider pre-processing your data with StandardScaler or MinMaxScaler.\n",
      "  warnings.warn(\n"
     ]
    },
    {
     "name": "stdout",
     "output_type": "stream",
     "text": [
      "[CV] END ..................C=100, gamma=auto, max_iter=10000; total time=28.8min\n",
      "[CV] END ....................C=100, gamma=auto, max_iter=-1; total time=391.2min\n",
      "[CV] END ....................C=100, gamma=auto, max_iter=-1; total time=397.6min\n",
      "[CV] END ....................C=100, gamma=auto, max_iter=-1; total time=351.9min\n",
      "[CV] END ....................C=100, gamma=auto, max_iter=-1; total time=347.0min\n",
      "[CV] END ....................C=100, gamma=auto, max_iter=-1; total time=343.7min\n"
     ]
    },
    {
     "name": "stderr",
     "output_type": "stream",
     "text": [
      "/home/alice/.local/lib/python3.9/site-packages/sklearn/svm/_base.py:301: ConvergenceWarning: Solver terminated early (max_iter=10000).  Consider pre-processing your data with StandardScaler or MinMaxScaler.\n",
      "  warnings.warn(\n"
     ]
    },
    {
     "data": {
      "text/html": [
       "<style>#sk-container-id-1 {color: black;background-color: white;}#sk-container-id-1 pre{padding: 0;}#sk-container-id-1 div.sk-toggleable {background-color: white;}#sk-container-id-1 label.sk-toggleable__label {cursor: pointer;display: block;width: 100%;margin-bottom: 0;padding: 0.3em;box-sizing: border-box;text-align: center;}#sk-container-id-1 label.sk-toggleable__label-arrow:before {content: \"▸\";float: left;margin-right: 0.25em;color: #696969;}#sk-container-id-1 label.sk-toggleable__label-arrow:hover:before {color: black;}#sk-container-id-1 div.sk-estimator:hover label.sk-toggleable__label-arrow:before {color: black;}#sk-container-id-1 div.sk-toggleable__content {max-height: 0;max-width: 0;overflow: hidden;text-align: left;background-color: #f0f8ff;}#sk-container-id-1 div.sk-toggleable__content pre {margin: 0.2em;color: black;border-radius: 0.25em;background-color: #f0f8ff;}#sk-container-id-1 input.sk-toggleable__control:checked~div.sk-toggleable__content {max-height: 200px;max-width: 100%;overflow: auto;}#sk-container-id-1 input.sk-toggleable__control:checked~label.sk-toggleable__label-arrow:before {content: \"▾\";}#sk-container-id-1 div.sk-estimator input.sk-toggleable__control:checked~label.sk-toggleable__label {background-color: #d4ebff;}#sk-container-id-1 div.sk-label input.sk-toggleable__control:checked~label.sk-toggleable__label {background-color: #d4ebff;}#sk-container-id-1 input.sk-hidden--visually {border: 0;clip: rect(1px 1px 1px 1px);clip: rect(1px, 1px, 1px, 1px);height: 1px;margin: -1px;overflow: hidden;padding: 0;position: absolute;width: 1px;}#sk-container-id-1 div.sk-estimator {font-family: monospace;background-color: #f0f8ff;border: 1px dotted black;border-radius: 0.25em;box-sizing: border-box;margin-bottom: 0.5em;}#sk-container-id-1 div.sk-estimator:hover {background-color: #d4ebff;}#sk-container-id-1 div.sk-parallel-item::after {content: \"\";width: 100%;border-bottom: 1px solid gray;flex-grow: 1;}#sk-container-id-1 div.sk-label:hover label.sk-toggleable__label {background-color: #d4ebff;}#sk-container-id-1 div.sk-serial::before {content: \"\";position: absolute;border-left: 1px solid gray;box-sizing: border-box;top: 0;bottom: 0;left: 50%;z-index: 0;}#sk-container-id-1 div.sk-serial {display: flex;flex-direction: column;align-items: center;background-color: white;padding-right: 0.2em;padding-left: 0.2em;position: relative;}#sk-container-id-1 div.sk-item {position: relative;z-index: 1;}#sk-container-id-1 div.sk-parallel {display: flex;align-items: stretch;justify-content: center;background-color: white;position: relative;}#sk-container-id-1 div.sk-item::before, #sk-container-id-1 div.sk-parallel-item::before {content: \"\";position: absolute;border-left: 1px solid gray;box-sizing: border-box;top: 0;bottom: 0;left: 50%;z-index: -1;}#sk-container-id-1 div.sk-parallel-item {display: flex;flex-direction: column;z-index: 1;position: relative;background-color: white;}#sk-container-id-1 div.sk-parallel-item:first-child::after {align-self: flex-end;width: 50%;}#sk-container-id-1 div.sk-parallel-item:last-child::after {align-self: flex-start;width: 50%;}#sk-container-id-1 div.sk-parallel-item:only-child::after {width: 0;}#sk-container-id-1 div.sk-dashed-wrapped {border: 1px dashed gray;margin: 0 0.4em 0.5em 0.4em;box-sizing: border-box;padding-bottom: 0.4em;background-color: white;}#sk-container-id-1 div.sk-label label {font-family: monospace;font-weight: bold;display: inline-block;line-height: 1.2em;}#sk-container-id-1 div.sk-label-container {text-align: center;}#sk-container-id-1 div.sk-container {/* jupyter's `normalize.less` sets `[hidden] { display: none; }` but bootstrap.min.css set `[hidden] { display: none !important; }` so we also need the `!important` here to be able to override the default hidden behavior on the sphinx rendered scikit-learn.org. See: https://github.com/scikit-learn/scikit-learn/issues/21755 */display: inline-block !important;position: relative;}#sk-container-id-1 div.sk-text-repr-fallback {display: none;}</style><div id=\"sk-container-id-1\" class=\"sk-top-container\"><div class=\"sk-text-repr-fallback\"><pre>GridSearchCV(cv=5, estimator=SVC(kernel=&#x27;linear&#x27;),\n",
       "             param_grid={&#x27;C&#x27;: [0.1, 1, 100], &#x27;gamma&#x27;: [&#x27;scale&#x27;, &#x27;auto&#x27;],\n",
       "                         &#x27;max_iter&#x27;: [1000, 10000, -1]},\n",
       "             scoring=&#x27;accuracy&#x27;, verbose=2)</pre><b>In a Jupyter environment, please rerun this cell to show the HTML representation or trust the notebook. <br />On GitHub, the HTML representation is unable to render, please try loading this page with nbviewer.org.</b></div><div class=\"sk-container\" hidden><div class=\"sk-item sk-dashed-wrapped\"><div class=\"sk-label-container\"><div class=\"sk-label sk-toggleable\"><input class=\"sk-toggleable__control sk-hidden--visually\" id=\"sk-estimator-id-1\" type=\"checkbox\" ><label for=\"sk-estimator-id-1\" class=\"sk-toggleable__label sk-toggleable__label-arrow\">GridSearchCV</label><div class=\"sk-toggleable__content\"><pre>GridSearchCV(cv=5, estimator=SVC(kernel=&#x27;linear&#x27;),\n",
       "             param_grid={&#x27;C&#x27;: [0.1, 1, 100], &#x27;gamma&#x27;: [&#x27;scale&#x27;, &#x27;auto&#x27;],\n",
       "                         &#x27;max_iter&#x27;: [1000, 10000, -1]},\n",
       "             scoring=&#x27;accuracy&#x27;, verbose=2)</pre></div></div></div><div class=\"sk-parallel\"><div class=\"sk-parallel-item\"><div class=\"sk-item\"><div class=\"sk-label-container\"><div class=\"sk-label sk-toggleable\"><input class=\"sk-toggleable__control sk-hidden--visually\" id=\"sk-estimator-id-2\" type=\"checkbox\" ><label for=\"sk-estimator-id-2\" class=\"sk-toggleable__label sk-toggleable__label-arrow\">estimator: SVC</label><div class=\"sk-toggleable__content\"><pre>SVC(kernel=&#x27;linear&#x27;)</pre></div></div></div><div class=\"sk-serial\"><div class=\"sk-item\"><div class=\"sk-estimator sk-toggleable\"><input class=\"sk-toggleable__control sk-hidden--visually\" id=\"sk-estimator-id-3\" type=\"checkbox\" ><label for=\"sk-estimator-id-3\" class=\"sk-toggleable__label sk-toggleable__label-arrow\">SVC</label><div class=\"sk-toggleable__content\"><pre>SVC(kernel=&#x27;linear&#x27;)</pre></div></div></div></div></div></div></div></div></div></div>"
      ],
      "text/plain": [
       "GridSearchCV(cv=5, estimator=SVC(kernel='linear'),\n",
       "             param_grid={'C': [0.1, 1, 100], 'gamma': ['scale', 'auto'],\n",
       "                         'max_iter': [1000, 10000, -1]},\n",
       "             scoring='accuracy', verbose=2)"
      ]
     },
     "execution_count": 13,
     "metadata": {},
     "output_type": "execute_result"
    }
   ],
   "source": [
    "from sklearn.svm import SVC\n",
    "from sklearn.model_selection import GridSearchCV\n",
    "\n",
    "param_grid = {\n",
    "    'C': [0.1, 1, 100],  # Regularization parameter\n",
    "    'max_iter': [1000, 10000, -1], # Maximum number of iterations\n",
    "    'gamma' : ['scale', 'auto']\n",
    "}\n",
    "\n",
    "svc = SVC(kernel='linear', decision_function_shape='ovr')\n",
    "grid_search = GridSearchCV(estimator=svc, param_grid=param_grid, cv=5, scoring='accuracy', verbose=2)\n",
    "\n",
    "# Fit the model to the training data\n",
    "grid_search.fit(X, y)"
   ]
  },
  {
   "cell_type": "code",
   "execution_count": 16,
   "metadata": {},
   "outputs": [],
   "source": [
    "grid_search.best_estimator_, grid_search.best_score_\n",
    "\n",
    "model = grid_search.best_estimator_"
   ]
  },
  {
   "cell_type": "code",
   "execution_count": 14,
   "metadata": {},
   "outputs": [
    {
     "data": {
      "text/html": [
       "<style>#sk-container-id-1 {color: black;background-color: white;}#sk-container-id-1 pre{padding: 0;}#sk-container-id-1 div.sk-toggleable {background-color: white;}#sk-container-id-1 label.sk-toggleable__label {cursor: pointer;display: block;width: 100%;margin-bottom: 0;padding: 0.3em;box-sizing: border-box;text-align: center;}#sk-container-id-1 label.sk-toggleable__label-arrow:before {content: \"▸\";float: left;margin-right: 0.25em;color: #696969;}#sk-container-id-1 label.sk-toggleable__label-arrow:hover:before {color: black;}#sk-container-id-1 div.sk-estimator:hover label.sk-toggleable__label-arrow:before {color: black;}#sk-container-id-1 div.sk-toggleable__content {max-height: 0;max-width: 0;overflow: hidden;text-align: left;background-color: #f0f8ff;}#sk-container-id-1 div.sk-toggleable__content pre {margin: 0.2em;color: black;border-radius: 0.25em;background-color: #f0f8ff;}#sk-container-id-1 input.sk-toggleable__control:checked~div.sk-toggleable__content {max-height: 200px;max-width: 100%;overflow: auto;}#sk-container-id-1 input.sk-toggleable__control:checked~label.sk-toggleable__label-arrow:before {content: \"▾\";}#sk-container-id-1 div.sk-estimator input.sk-toggleable__control:checked~label.sk-toggleable__label {background-color: #d4ebff;}#sk-container-id-1 div.sk-label input.sk-toggleable__control:checked~label.sk-toggleable__label {background-color: #d4ebff;}#sk-container-id-1 input.sk-hidden--visually {border: 0;clip: rect(1px 1px 1px 1px);clip: rect(1px, 1px, 1px, 1px);height: 1px;margin: -1px;overflow: hidden;padding: 0;position: absolute;width: 1px;}#sk-container-id-1 div.sk-estimator {font-family: monospace;background-color: #f0f8ff;border: 1px dotted black;border-radius: 0.25em;box-sizing: border-box;margin-bottom: 0.5em;}#sk-container-id-1 div.sk-estimator:hover {background-color: #d4ebff;}#sk-container-id-1 div.sk-parallel-item::after {content: \"\";width: 100%;border-bottom: 1px solid gray;flex-grow: 1;}#sk-container-id-1 div.sk-label:hover label.sk-toggleable__label {background-color: #d4ebff;}#sk-container-id-1 div.sk-serial::before {content: \"\";position: absolute;border-left: 1px solid gray;box-sizing: border-box;top: 0;bottom: 0;left: 50%;z-index: 0;}#sk-container-id-1 div.sk-serial {display: flex;flex-direction: column;align-items: center;background-color: white;padding-right: 0.2em;padding-left: 0.2em;position: relative;}#sk-container-id-1 div.sk-item {position: relative;z-index: 1;}#sk-container-id-1 div.sk-parallel {display: flex;align-items: stretch;justify-content: center;background-color: white;position: relative;}#sk-container-id-1 div.sk-item::before, #sk-container-id-1 div.sk-parallel-item::before {content: \"\";position: absolute;border-left: 1px solid gray;box-sizing: border-box;top: 0;bottom: 0;left: 50%;z-index: -1;}#sk-container-id-1 div.sk-parallel-item {display: flex;flex-direction: column;z-index: 1;position: relative;background-color: white;}#sk-container-id-1 div.sk-parallel-item:first-child::after {align-self: flex-end;width: 50%;}#sk-container-id-1 div.sk-parallel-item:last-child::after {align-self: flex-start;width: 50%;}#sk-container-id-1 div.sk-parallel-item:only-child::after {width: 0;}#sk-container-id-1 div.sk-dashed-wrapped {border: 1px dashed gray;margin: 0 0.4em 0.5em 0.4em;box-sizing: border-box;padding-bottom: 0.4em;background-color: white;}#sk-container-id-1 div.sk-label label {font-family: monospace;font-weight: bold;display: inline-block;line-height: 1.2em;}#sk-container-id-1 div.sk-label-container {text-align: center;}#sk-container-id-1 div.sk-container {/* jupyter's `normalize.less` sets `[hidden] { display: none; }` but bootstrap.min.css set `[hidden] { display: none !important; }` so we also need the `!important` here to be able to override the default hidden behavior on the sphinx rendered scikit-learn.org. See: https://github.com/scikit-learn/scikit-learn/issues/21755 */display: inline-block !important;position: relative;}#sk-container-id-1 div.sk-text-repr-fallback {display: none;}</style><div id=\"sk-container-id-1\" class=\"sk-top-container\"><div class=\"sk-text-repr-fallback\"><pre>SVC(kernel=&#x27;linear&#x27;)</pre><b>In a Jupyter environment, please rerun this cell to show the HTML representation or trust the notebook. <br />On GitHub, the HTML representation is unable to render, please try loading this page with nbviewer.org.</b></div><div class=\"sk-container\" hidden><div class=\"sk-item\"><div class=\"sk-estimator sk-toggleable\"><input class=\"sk-toggleable__control sk-hidden--visually\" id=\"sk-estimator-id-1\" type=\"checkbox\" checked><label for=\"sk-estimator-id-1\" class=\"sk-toggleable__label sk-toggleable__label-arrow\">SVC</label><div class=\"sk-toggleable__content\"><pre>SVC(kernel=&#x27;linear&#x27;)</pre></div></div></div></div></div>"
      ],
      "text/plain": [
       "SVC(kernel='linear')"
      ]
     },
     "execution_count": 14,
     "metadata": {},
     "output_type": "execute_result"
    }
   ],
   "source": [
    "from sklearn.svm import SVC\n",
    "\n",
    "svc = SVC(kernel='linear', decision_function_shape='ovr')\n",
    "\n",
    "svc.fit(X, y)"
   ]
  },
  {
   "cell_type": "code",
   "execution_count": 15,
   "metadata": {},
   "outputs": [
    {
     "data": {
      "text/plain": [
       "Index(['gostaria', 'informações', 'solicito', 'saber', 'sobre', 'informação',\n",
       "       'federal', 'nº', 'dados', 'acesso',\n",
       "       ...\n",
       "       'gat', 'teme', 'rat', 'aus', 'sita', 'oper', 'retam', '2720', 'aposent',\n",
       "       'atura'],\n",
       "      dtype='object', length=2776)"
      ]
     },
     "execution_count": 15,
     "metadata": {},
     "output_type": "execute_result"
    }
   ],
   "source": [
    "tf_idf.columns"
   ]
  },
  {
   "cell_type": "code",
   "execution_count": 17,
   "metadata": {},
   "outputs": [
    {
     "data": {
      "text/plain": [
       "2776"
      ]
     },
     "execution_count": 17,
     "metadata": {},
     "output_type": "execute_result"
    }
   ],
   "source": [
    "len(svc.coef_[0])"
   ]
  },
  {
   "cell_type": "code",
   "execution_count": 18,
   "metadata": {},
   "outputs": [],
   "source": [
    "df_coef = pd.DataFrame(data=svc.coef_, columns=tf_idf.columns)"
   ]
  },
  {
   "cell_type": "code",
   "execution_count": 19,
   "metadata": {},
   "outputs": [
    {
     "data": {
      "text/html": [
       "<div>\n",
       "<style scoped>\n",
       "    .dataframe tbody tr th:only-of-type {\n",
       "        vertical-align: middle;\n",
       "    }\n",
       "\n",
       "    .dataframe tbody tr th {\n",
       "        vertical-align: top;\n",
       "    }\n",
       "\n",
       "    .dataframe thead th {\n",
       "        text-align: right;\n",
       "    }\n",
       "</style>\n",
       "<table border=\"1\" class=\"dataframe\">\n",
       "  <thead>\n",
       "    <tr style=\"text-align: right;\">\n",
       "      <th></th>\n",
       "      <th>gostaria</th>\n",
       "      <th>informações</th>\n",
       "      <th>solicito</th>\n",
       "      <th>saber</th>\n",
       "      <th>sobre</th>\n",
       "      <th>informação</th>\n",
       "      <th>federal</th>\n",
       "      <th>nº</th>\n",
       "      <th>dados</th>\n",
       "      <th>acesso</th>\n",
       "      <th>...</th>\n",
       "      <th>gat</th>\n",
       "      <th>teme</th>\n",
       "      <th>rat</th>\n",
       "      <th>aus</th>\n",
       "      <th>sita</th>\n",
       "      <th>oper</th>\n",
       "      <th>retam</th>\n",
       "      <th>2720</th>\n",
       "      <th>aposent</th>\n",
       "      <th>atura</th>\n",
       "    </tr>\n",
       "  </thead>\n",
       "  <tbody>\n",
       "    <tr>\n",
       "      <th>0</th>\n",
       "      <td>2.089167</td>\n",
       "      <td>-0.002321</td>\n",
       "      <td>-1.584382</td>\n",
       "      <td>-0.758446</td>\n",
       "      <td>0.095227</td>\n",
       "      <td>-0.959611</td>\n",
       "      <td>-0.459024</td>\n",
       "      <td>0.797148</td>\n",
       "      <td>1.034735</td>\n",
       "      <td>1.553217</td>\n",
       "      <td>...</td>\n",
       "      <td>0.0</td>\n",
       "      <td>0.000000</td>\n",
       "      <td>-0.374782</td>\n",
       "      <td>0.431735</td>\n",
       "      <td>-0.062730</td>\n",
       "      <td>-0.590606</td>\n",
       "      <td>0.0</td>\n",
       "      <td>0.0</td>\n",
       "      <td>0.000000</td>\n",
       "      <td>0.0</td>\n",
       "    </tr>\n",
       "    <tr>\n",
       "      <th>1</th>\n",
       "      <td>3.964612</td>\n",
       "      <td>0.350427</td>\n",
       "      <td>0.813003</td>\n",
       "      <td>-0.649238</td>\n",
       "      <td>-0.634475</td>\n",
       "      <td>-0.616576</td>\n",
       "      <td>-0.045993</td>\n",
       "      <td>0.514047</td>\n",
       "      <td>1.484101</td>\n",
       "      <td>1.305485</td>\n",
       "      <td>...</td>\n",
       "      <td>0.0</td>\n",
       "      <td>-0.151046</td>\n",
       "      <td>0.000000</td>\n",
       "      <td>0.431735</td>\n",
       "      <td>-0.280554</td>\n",
       "      <td>0.000000</td>\n",
       "      <td>0.0</td>\n",
       "      <td>0.0</td>\n",
       "      <td>-0.158455</td>\n",
       "      <td>0.0</td>\n",
       "    </tr>\n",
       "    <tr>\n",
       "      <th>2</th>\n",
       "      <td>4.014491</td>\n",
       "      <td>0.681776</td>\n",
       "      <td>3.067699</td>\n",
       "      <td>-0.648275</td>\n",
       "      <td>-0.621924</td>\n",
       "      <td>0.184383</td>\n",
       "      <td>0.208208</td>\n",
       "      <td>0.109771</td>\n",
       "      <td>0.906476</td>\n",
       "      <td>0.496693</td>\n",
       "      <td>...</td>\n",
       "      <td>0.0</td>\n",
       "      <td>-0.242287</td>\n",
       "      <td>0.374782</td>\n",
       "      <td>0.000000</td>\n",
       "      <td>-0.072500</td>\n",
       "      <td>0.590606</td>\n",
       "      <td>0.0</td>\n",
       "      <td>0.0</td>\n",
       "      <td>0.000000</td>\n",
       "      <td>0.0</td>\n",
       "    </tr>\n",
       "  </tbody>\n",
       "</table>\n",
       "<p>3 rows × 2776 columns</p>\n",
       "</div>"
      ],
      "text/plain": [
       "   gostaria  informações  solicito     saber     sobre  informação   federal  \\\n",
       "0  2.089167    -0.002321 -1.584382 -0.758446  0.095227   -0.959611 -0.459024   \n",
       "1  3.964612     0.350427  0.813003 -0.649238 -0.634475   -0.616576 -0.045993   \n",
       "2  4.014491     0.681776  3.067699 -0.648275 -0.621924    0.184383  0.208208   \n",
       "\n",
       "         nº     dados    acesso  ...  gat      teme       rat       aus  \\\n",
       "0  0.797148  1.034735  1.553217  ...  0.0  0.000000 -0.374782  0.431735   \n",
       "1  0.514047  1.484101  1.305485  ...  0.0 -0.151046  0.000000  0.431735   \n",
       "2  0.109771  0.906476  0.496693  ...  0.0 -0.242287  0.374782  0.000000   \n",
       "\n",
       "       sita      oper  retam  2720   aposent  atura  \n",
       "0 -0.062730 -0.590606    0.0   0.0  0.000000    0.0  \n",
       "1 -0.280554  0.000000    0.0   0.0 -0.158455    0.0  \n",
       "2 -0.072500  0.590606    0.0   0.0  0.000000    0.0  \n",
       "\n",
       "[3 rows x 2776 columns]"
      ]
     },
     "execution_count": 19,
     "metadata": {},
     "output_type": "execute_result"
    }
   ],
   "source": [
    "df_coef.head()"
   ]
  },
  {
   "cell_type": "code",
   "execution_count": 20,
   "metadata": {},
   "outputs": [],
   "source": [
    "df_coef = df_coef.T"
   ]
  },
  {
   "cell_type": "code",
   "execution_count": 21,
   "metadata": {},
   "outputs": [
    {
     "data": {
      "text/html": [
       "<div>\n",
       "<style scoped>\n",
       "    .dataframe tbody tr th:only-of-type {\n",
       "        vertical-align: middle;\n",
       "    }\n",
       "\n",
       "    .dataframe tbody tr th {\n",
       "        vertical-align: top;\n",
       "    }\n",
       "\n",
       "    .dataframe thead th {\n",
       "        text-align: right;\n",
       "    }\n",
       "</style>\n",
       "<table border=\"1\" class=\"dataframe\">\n",
       "  <thead>\n",
       "    <tr style=\"text-align: right;\">\n",
       "      <th></th>\n",
       "      <th>0</th>\n",
       "      <th>1</th>\n",
       "      <th>2</th>\n",
       "    </tr>\n",
       "  </thead>\n",
       "  <tbody>\n",
       "    <tr>\n",
       "      <th>gostaria</th>\n",
       "      <td>2.089167</td>\n",
       "      <td>3.964612</td>\n",
       "      <td>4.014491</td>\n",
       "    </tr>\n",
       "    <tr>\n",
       "      <th>informações</th>\n",
       "      <td>-0.002321</td>\n",
       "      <td>0.350427</td>\n",
       "      <td>0.681776</td>\n",
       "    </tr>\n",
       "    <tr>\n",
       "      <th>solicito</th>\n",
       "      <td>-1.584382</td>\n",
       "      <td>0.813003</td>\n",
       "      <td>3.067699</td>\n",
       "    </tr>\n",
       "    <tr>\n",
       "      <th>saber</th>\n",
       "      <td>-0.758446</td>\n",
       "      <td>-0.649238</td>\n",
       "      <td>-0.648275</td>\n",
       "    </tr>\n",
       "    <tr>\n",
       "      <th>sobre</th>\n",
       "      <td>0.095227</td>\n",
       "      <td>-0.634475</td>\n",
       "      <td>-0.621924</td>\n",
       "    </tr>\n",
       "  </tbody>\n",
       "</table>\n",
       "</div>"
      ],
      "text/plain": [
       "                    0         1         2\n",
       "gostaria     2.089167  3.964612  4.014491\n",
       "informações -0.002321  0.350427  0.681776\n",
       "solicito    -1.584382  0.813003  3.067699\n",
       "saber       -0.758446 -0.649238 -0.648275\n",
       "sobre        0.095227 -0.634475 -0.621924"
      ]
     },
     "execution_count": 21,
     "metadata": {},
     "output_type": "execute_result"
    }
   ],
   "source": [
    "df_coef.head()"
   ]
  },
  {
   "cell_type": "code",
   "execution_count": 81,
   "metadata": {},
   "outputs": [],
   "source": [
    "def select_abs(col, perc): # mesma quantidade de palavras positivas e negativas\n",
    "  n = int(len(df_coef) * perc)\n",
    "\n",
    "  df_coef_1 = df_coef.copy()\n",
    "  df_coef_1 = df_coef_1[[col]]\n",
    "\n",
    "  df_coef_1['abs_values'] = df_coef_1[col].abs()\n",
    "\n",
    "  sorted_df = df_coef_1.sort_values(by='abs_values', ascending=False)\n",
    "\n",
    "  return sorted_df.head(n)\n",
    "\n",
    "coef1 = select_abs(0, 0.5)\n",
    "coef2 = select_abs(1, 0.5)\n",
    "coef3 = select_abs(2, 0.5)"
   ]
  },
  {
   "cell_type": "code",
   "execution_count": 45,
   "metadata": {},
   "outputs": [],
   "source": [
    "def select_(col, perc): # mesma quantidade de palavras positivas e negativas\n",
    "  df_coef_1 = df_coef.copy()\n",
    "  df_coef_1 = df_coef_1[[col]]\n",
    "\n",
    "  str_col = str(col)\n",
    "\n",
    "  df_coef_1.rename(columns={col: str_col}, inplace=True)\n",
    "\n",
    "  df_coef_1_pos = df_coef_1[df_coef_1[str_col]>0]\n",
    "  df_coef_1_neg= df_coef_1[df_coef_1[str_col]<0]\n",
    "  df_coef_1_zero = df_coef_1[df_coef_1[str_col]==0]\n",
    "\n",
    "  df_coef_1_pos = df_coef_1_pos.sort_values(by=str_col, ascending=True)\n",
    "  df_coef_1_neg = df_coef_1_neg.sort_values(by=str_col, key=lambda x: abs(x))\n",
    "\n",
    "  pos_perc = df_coef_1_pos.head(int(len(df_coef_1_pos) * perc))\n",
    "  neg_perc = df_coef_1_neg.head(int(len(df_coef_1_neg) * perc))\n",
    "\n",
    "  indices_to_drop = pd.concat([pos_perc, neg_perc, df_coef_1_zero]).index\n",
    "\n",
    "  df_filtered = df_coef_1.drop(indices_to_drop)\n",
    "\n",
    "  return df_filtered.sort_values(by=str_col, ascending=False)\n",
    "\n",
    "coef1 = select_(0, 0.5)\n",
    "coef2 = select_(1, 0.5)\n",
    "coef3 = select_(2, 0.5)"
   ]
  },
  {
   "cell_type": "code",
   "execution_count": 48,
   "metadata": {},
   "outputs": [
    {
     "data": {
      "text/plain": [
       "(                        0  abs_values\n",
       " load            -8.264912    8.264912\n",
       " doa             -4.101723    4.101723\n",
       " antecipadamente -3.502502    3.502502\n",
       " senhores        -3.439903    3.439903\n",
       " fundamenta      -3.094204    3.094204\n",
       " zen             -3.035773    3.035773\n",
       " estudante        2.995601    2.995601\n",
       " 85              -2.984326    2.984326\n",
       " senhor          -2.638421    2.638421\n",
       " licitações      -2.581998    2.581998,\n",
       "                         1  abs_values\n",
       " senhores        -4.356004    4.356004\n",
       " gostaria         3.964612    3.964612\n",
       " ouvidor         -3.593157    3.593157\n",
       " antecipadamente -3.589851    3.589851\n",
       " olá              3.375449    3.375449\n",
       " políticas        3.284270    3.284270\n",
       " informar        -3.055556    3.055556\n",
       " requisito        2.933390    2.933390\n",
       " vem             -2.928960    2.928960\n",
       " prezadoa         2.865195    2.865195,\n",
       "                     2  abs_values\n",
       " gostaria     4.014491    4.014491\n",
       " ouvidor     -3.764982    3.764982\n",
       " entro        3.380243    3.380243\n",
       " solicito     3.067699    3.067699\n",
       " sere         3.027542    3.027542\n",
       " solicitamos -2.822203    2.822203\n",
       " prezadoa     2.811678    2.811678\n",
       " informar    -2.773663    2.773663\n",
       " boa          2.709650    2.709650\n",
       " venho        2.589600    2.589600)"
      ]
     },
     "execution_count": 48,
     "metadata": {},
     "output_type": "execute_result"
    }
   ],
   "source": [
    "coef1.head(10), coef2.head(10), coef3.head(10)"
   ]
  },
  {
   "cell_type": "code",
   "execution_count": 49,
   "metadata": {},
   "outputs": [
    {
     "data": {
      "text/plain": [
       "(3.0679075460247596, -4.495259336530953, -2.6158072366238514)"
      ]
     },
     "execution_count": 49,
     "metadata": {},
     "output_type": "execute_result"
    }
   ],
   "source": [
    "coef1['0']['estudante'], coef2['1']['senhores'], coef3['2']['senhores']"
   ]
  },
  {
   "cell_type": "code",
   "execution_count": 82,
   "metadata": {},
   "outputs": [],
   "source": [
    "train_df['glex1']=0\n",
    "train_df['glex2']=0\n",
    "train_df['glex3']=0"
   ]
  },
  {
   "cell_type": "code",
   "execution_count": 66,
   "metadata": {},
   "outputs": [],
   "source": [
    "train_df.reset_index(inplace=True)"
   ]
  },
  {
   "cell_type": "code",
   "execution_count": 86,
   "metadata": {},
   "outputs": [
    {
     "name": "stderr",
     "output_type": "stream",
     "text": [
      "/tmp/ipykernel_14084/1904768421.py:9: SettingWithCopyWarning: \n",
      "A value is trying to be set on a copy of a slice from a DataFrame\n",
      "\n",
      "See the caveats in the documentation: https://pandas.pydata.org/pandas-docs/stable/user_guide/indexing.html#returning-a-view-versus-a-copy\n",
      "  train_df[f'glex1'][index] = sum\n"
     ]
    }
   ],
   "source": [
    "# dict 1\n",
    "for index, row in train_df.iterrows():\n",
    "    sum = 0\n",
    "    text = row[\"req-text-clean\"].split()\n",
    "    for w in text:\n",
    "      if w in coef1.index.tolist():\n",
    "        sum += coef1[0][w]*tf_idf[w][index]\n",
    "    sum = sum + svc.intercept_[0]\n",
    "    train_df[f'glex1'][index] = sum"
   ]
  },
  {
   "cell_type": "code",
   "execution_count": 85,
   "metadata": {},
   "outputs": [
    {
     "name": "stderr",
     "output_type": "stream",
     "text": [
      "/tmp/ipykernel_14084/3476015007.py:9: SettingWithCopyWarning: \n",
      "A value is trying to be set on a copy of a slice from a DataFrame\n",
      "\n",
      "See the caveats in the documentation: https://pandas.pydata.org/pandas-docs/stable/user_guide/indexing.html#returning-a-view-versus-a-copy\n",
      "  train_df[f'glex2'][index] = sum\n"
     ]
    }
   ],
   "source": [
    "# dict 2\n",
    "for index, row in train_df.iterrows():\n",
    "    sum = 0\n",
    "    text = row[\"req-text-clean\"].split()\n",
    "    for w in text:\n",
    "      if w in coef2.index.tolist():\n",
    "        sum += coef2[1][w]*tf_idf[w][index]\n",
    "    sum = sum + svc.intercept_[1]\n",
    "    train_df[f'glex2'][index] = sum"
   ]
  },
  {
   "cell_type": "code",
   "execution_count": 89,
   "metadata": {},
   "outputs": [
    {
     "name": "stderr",
     "output_type": "stream",
     "text": [
      "/tmp/ipykernel_14084/4254082410.py:9: SettingWithCopyWarning: \n",
      "A value is trying to be set on a copy of a slice from a DataFrame\n",
      "\n",
      "See the caveats in the documentation: https://pandas.pydata.org/pandas-docs/stable/user_guide/indexing.html#returning-a-view-versus-a-copy\n",
      "  train_df[f'glex3'][index] = sum\n"
     ]
    }
   ],
   "source": [
    "# dict 3\n",
    "for index, row in train_df.iterrows():\n",
    "    sum = 0\n",
    "    text = row[\"req-text-clean\"].split()\n",
    "    for w in text:\n",
    "      if w in coef3.index.tolist():\n",
    "        sum += coef3[2][w]*tf_idf[w][index]\n",
    "    sum = sum + svc.intercept_[2]\n",
    "    train_df[f'glex3'][index] = sum"
   ]
  },
  {
   "cell_type": "code",
   "execution_count": 90,
   "metadata": {},
   "outputs": [
    {
     "data": {
      "text/html": [
       "<div>\n",
       "<style scoped>\n",
       "    .dataframe tbody tr th:only-of-type {\n",
       "        vertical-align: middle;\n",
       "    }\n",
       "\n",
       "    .dataframe tbody tr th {\n",
       "        vertical-align: top;\n",
       "    }\n",
       "\n",
       "    .dataframe thead th {\n",
       "        text-align: right;\n",
       "    }\n",
       "</style>\n",
       "<table border=\"1\" class=\"dataframe\">\n",
       "  <thead>\n",
       "    <tr style=\"text-align: right;\">\n",
       "      <th></th>\n",
       "      <th>Age</th>\n",
       "      <th>0</th>\n",
       "      <th>1</th>\n",
       "      <th>2</th>\n",
       "    </tr>\n",
       "  </thead>\n",
       "  <tbody>\n",
       "    <tr>\n",
       "      <th rowspan=\"8\" valign=\"top\">glex1</th>\n",
       "      <th>count</th>\n",
       "      <td>13415.000000</td>\n",
       "      <td>13580.000000</td>\n",
       "      <td>11212.000000</td>\n",
       "    </tr>\n",
       "    <tr>\n",
       "      <th>mean</th>\n",
       "      <td>0.799643</td>\n",
       "      <td>-0.623071</td>\n",
       "      <td>-0.324490</td>\n",
       "    </tr>\n",
       "    <tr>\n",
       "      <th>std</th>\n",
       "      <td>1.801296</td>\n",
       "      <td>2.054373</td>\n",
       "      <td>1.673470</td>\n",
       "    </tr>\n",
       "    <tr>\n",
       "      <th>min</th>\n",
       "      <td>-25.141920</td>\n",
       "      <td>-23.948917</td>\n",
       "      <td>-27.249723</td>\n",
       "    </tr>\n",
       "    <tr>\n",
       "      <th>25%</th>\n",
       "      <td>-0.073831</td>\n",
       "      <td>-1.331008</td>\n",
       "      <td>-1.149337</td>\n",
       "    </tr>\n",
       "    <tr>\n",
       "      <th>50%</th>\n",
       "      <td>0.762829</td>\n",
       "      <td>-0.518761</td>\n",
       "      <td>-0.318625</td>\n",
       "    </tr>\n",
       "    <tr>\n",
       "      <th>75%</th>\n",
       "      <td>1.473404</td>\n",
       "      <td>0.347711</td>\n",
       "      <td>0.520798</td>\n",
       "    </tr>\n",
       "    <tr>\n",
       "      <th>max</th>\n",
       "      <td>43.967773</td>\n",
       "      <td>38.959068</td>\n",
       "      <td>19.052540</td>\n",
       "    </tr>\n",
       "    <tr>\n",
       "      <th rowspan=\"8\" valign=\"top\">glex2</th>\n",
       "      <th>count</th>\n",
       "      <td>13415.000000</td>\n",
       "      <td>13580.000000</td>\n",
       "      <td>11212.000000</td>\n",
       "    </tr>\n",
       "    <tr>\n",
       "      <th>mean</th>\n",
       "      <td>1.314676</td>\n",
       "      <td>0.496910</td>\n",
       "      <td>-0.519929</td>\n",
       "    </tr>\n",
       "    <tr>\n",
       "      <th>std</th>\n",
       "      <td>2.013420</td>\n",
       "      <td>2.075745</td>\n",
       "      <td>1.744587</td>\n",
       "    </tr>\n",
       "    <tr>\n",
       "      <th>min</th>\n",
       "      <td>-11.878998</td>\n",
       "      <td>-19.497586</td>\n",
       "      <td>-15.329909</td>\n",
       "    </tr>\n",
       "    <tr>\n",
       "      <th>25%</th>\n",
       "      <td>0.303125</td>\n",
       "      <td>-0.555647</td>\n",
       "      <td>-1.335666</td>\n",
       "    </tr>\n",
       "    <tr>\n",
       "      <th>50%</th>\n",
       "      <td>1.129684</td>\n",
       "      <td>0.417102</td>\n",
       "      <td>-0.616481</td>\n",
       "    </tr>\n",
       "    <tr>\n",
       "      <th>75%</th>\n",
       "      <td>2.083480</td>\n",
       "      <td>1.496452</td>\n",
       "      <td>0.344194</td>\n",
       "    </tr>\n",
       "    <tr>\n",
       "      <th>max</th>\n",
       "      <td>63.321329</td>\n",
       "      <td>27.772724</td>\n",
       "      <td>14.500883</td>\n",
       "    </tr>\n",
       "    <tr>\n",
       "      <th rowspan=\"8\" valign=\"top\">glex3</th>\n",
       "      <th>count</th>\n",
       "      <td>13415.000000</td>\n",
       "      <td>13580.000000</td>\n",
       "      <td>11212.000000</td>\n",
       "    </tr>\n",
       "    <tr>\n",
       "      <th>mean</th>\n",
       "      <td>0.822228</td>\n",
       "      <td>1.221823</td>\n",
       "      <td>-0.401759</td>\n",
       "    </tr>\n",
       "    <tr>\n",
       "      <th>std</th>\n",
       "      <td>1.819496</td>\n",
       "      <td>2.255569</td>\n",
       "      <td>1.583413</td>\n",
       "    </tr>\n",
       "    <tr>\n",
       "      <th>min</th>\n",
       "      <td>-12.163535</td>\n",
       "      <td>-27.918248</td>\n",
       "      <td>-14.169919</td>\n",
       "    </tr>\n",
       "    <tr>\n",
       "      <th>25%</th>\n",
       "      <td>-0.104024</td>\n",
       "      <td>0.079459</td>\n",
       "      <td>-1.169784</td>\n",
       "    </tr>\n",
       "    <tr>\n",
       "      <th>50%</th>\n",
       "      <td>0.730993</td>\n",
       "      <td>0.967015</td>\n",
       "      <td>-0.441989</td>\n",
       "    </tr>\n",
       "    <tr>\n",
       "      <th>75%</th>\n",
       "      <td>1.583426</td>\n",
       "      <td>1.871338</td>\n",
       "      <td>0.422713</td>\n",
       "    </tr>\n",
       "    <tr>\n",
       "      <th>max</th>\n",
       "      <td>47.457644</td>\n",
       "      <td>41.687685</td>\n",
       "      <td>14.091865</td>\n",
       "    </tr>\n",
       "  </tbody>\n",
       "</table>\n",
       "</div>"
      ],
      "text/plain": [
       "Age                     0             1             2\n",
       "glex1 count  13415.000000  13580.000000  11212.000000\n",
       "      mean       0.799643     -0.623071     -0.324490\n",
       "      std        1.801296      2.054373      1.673470\n",
       "      min      -25.141920    -23.948917    -27.249723\n",
       "      25%       -0.073831     -1.331008     -1.149337\n",
       "      50%        0.762829     -0.518761     -0.318625\n",
       "      75%        1.473404      0.347711      0.520798\n",
       "      max       43.967773     38.959068     19.052540\n",
       "glex2 count  13415.000000  13580.000000  11212.000000\n",
       "      mean       1.314676      0.496910     -0.519929\n",
       "      std        2.013420      2.075745      1.744587\n",
       "      min      -11.878998    -19.497586    -15.329909\n",
       "      25%        0.303125     -0.555647     -1.335666\n",
       "      50%        1.129684      0.417102     -0.616481\n",
       "      75%        2.083480      1.496452      0.344194\n",
       "      max       63.321329     27.772724     14.500883\n",
       "glex3 count  13415.000000  13580.000000  11212.000000\n",
       "      mean       0.822228      1.221823     -0.401759\n",
       "      std        1.819496      2.255569      1.583413\n",
       "      min      -12.163535    -27.918248    -14.169919\n",
       "      25%       -0.104024      0.079459     -1.169784\n",
       "      50%        0.730993      0.967015     -0.441989\n",
       "      75%        1.583426      1.871338      0.422713\n",
       "      max       47.457644     41.687685     14.091865"
      ]
     },
     "execution_count": 90,
     "metadata": {},
     "output_type": "execute_result"
    }
   ],
   "source": [
    "train_df.groupby(['Age'])[['glex1', 'glex2', 'glex3']].describe().T"
   ]
  },
  {
   "cell_type": "code",
   "execution_count": 32,
   "metadata": {},
   "outputs": [
    {
     "name": "stderr",
     "output_type": "stream",
     "text": [
      "/tmp/ipykernel_14084/4284971904.py:7: SettingWithCopyWarning: \n",
      "A value is trying to be set on a copy of a slice from a DataFrame\n",
      "\n",
      "See the caveats in the documentation: https://pandas.pydata.org/pandas-docs/stable/user_guide/indexing.html#returning-a-view-versus-a-copy\n",
      "  train_df['c'][index] = 1\n",
      "/tmp/ipykernel_14084/4284971904.py:5: SettingWithCopyWarning: \n",
      "A value is trying to be set on a copy of a slice from a DataFrame\n",
      "\n",
      "See the caveats in the documentation: https://pandas.pydata.org/pandas-docs/stable/user_guide/indexing.html#returning-a-view-versus-a-copy\n",
      "  train_df['c'][index] = 0\n",
      "/tmp/ipykernel_14084/4284971904.py:9: SettingWithCopyWarning: \n",
      "A value is trying to be set on a copy of a slice from a DataFrame\n",
      "\n",
      "See the caveats in the documentation: https://pandas.pydata.org/pandas-docs/stable/user_guide/indexing.html#returning-a-view-versus-a-copy\n",
      "  train_df['c'][index] = 2\n"
     ]
    },
    {
     "ename": "KeyboardInterrupt",
     "evalue": "",
     "output_type": "error",
     "traceback": [
      "\u001b[0;31m---------------------------------------------------------------------------\u001b[0m",
      "\u001b[0;31mKeyboardInterrupt\u001b[0m                         Traceback (most recent call last)",
      "\u001b[1;32m/home/alice/Documentos/dict-v2/e-sic/dict/dict.ipynb Cell 37\u001b[0m in \u001b[0;36m<cell line: 3>\u001b[0;34m()\u001b[0m\n\u001b[1;32m      <a href='vscode-notebook-cell:/home/alice/Documentos/dict-v2/e-sic/dict/dict.ipynb#X46sZmlsZQ%3D%3D?line=4'>5</a>\u001b[0m   train_df[\u001b[39m'\u001b[39m\u001b[39mc\u001b[39m\u001b[39m'\u001b[39m][index] \u001b[39m=\u001b[39m \u001b[39m0\u001b[39m\n\u001b[1;32m      <a href='vscode-notebook-cell:/home/alice/Documentos/dict-v2/e-sic/dict/dict.ipynb#X46sZmlsZQ%3D%3D?line=5'>6</a>\u001b[0m \u001b[39melif\u001b[39;00m row[\u001b[39m'\u001b[39m\u001b[39mglex1\u001b[39m\u001b[39m'\u001b[39m] \u001b[39m<\u001b[39m \u001b[39m0\u001b[39m \u001b[39mand\u001b[39;00m row[\u001b[39m'\u001b[39m\u001b[39mglex2\u001b[39m\u001b[39m'\u001b[39m] \u001b[39m>\u001b[39m \u001b[39m0\u001b[39m \u001b[39mand\u001b[39;00m row[\u001b[39m'\u001b[39m\u001b[39mglex3\u001b[39m\u001b[39m'\u001b[39m] \u001b[39m>\u001b[39m \u001b[39m0\u001b[39m:\n\u001b[0;32m----> <a href='vscode-notebook-cell:/home/alice/Documentos/dict-v2/e-sic/dict/dict.ipynb#X46sZmlsZQ%3D%3D?line=6'>7</a>\u001b[0m   train_df[\u001b[39m'\u001b[39m\u001b[39mc\u001b[39m\u001b[39m'\u001b[39m][index] \u001b[39m=\u001b[39m \u001b[39m1\u001b[39m\n\u001b[1;32m      <a href='vscode-notebook-cell:/home/alice/Documentos/dict-v2/e-sic/dict/dict.ipynb#X46sZmlsZQ%3D%3D?line=7'>8</a>\u001b[0m \u001b[39melif\u001b[39;00m row[\u001b[39m'\u001b[39m\u001b[39mglex1\u001b[39m\u001b[39m'\u001b[39m] \u001b[39m<\u001b[39m \u001b[39m0\u001b[39m \u001b[39mand\u001b[39;00m row[\u001b[39m'\u001b[39m\u001b[39mglex2\u001b[39m\u001b[39m'\u001b[39m] \u001b[39m<\u001b[39m \u001b[39m0\u001b[39m \u001b[39mand\u001b[39;00m row[\u001b[39m'\u001b[39m\u001b[39mglex3\u001b[39m\u001b[39m'\u001b[39m] \u001b[39m<\u001b[39m \u001b[39m0\u001b[39m:\n\u001b[1;32m      <a href='vscode-notebook-cell:/home/alice/Documentos/dict-v2/e-sic/dict/dict.ipynb#X46sZmlsZQ%3D%3D?line=8'>9</a>\u001b[0m   train_df[\u001b[39m'\u001b[39m\u001b[39mc\u001b[39m\u001b[39m'\u001b[39m][index] \u001b[39m=\u001b[39m \u001b[39m2\u001b[39m\n",
      "File \u001b[0;32m~/.local/lib/python3.9/site-packages/pandas/core/series.py:1075\u001b[0m, in \u001b[0;36mSeries.__setitem__\u001b[0;34m(self, key, value)\u001b[0m\n\u001b[1;32m   1073\u001b[0m check_deprecated_indexers(key)\n\u001b[1;32m   1074\u001b[0m key \u001b[39m=\u001b[39m com\u001b[39m.\u001b[39mapply_if_callable(key, \u001b[39mself\u001b[39m)\n\u001b[0;32m-> 1075\u001b[0m cacher_needs_updating \u001b[39m=\u001b[39m \u001b[39mself\u001b[39;49m\u001b[39m.\u001b[39;49m_check_is_chained_assignment_possible()\n\u001b[1;32m   1077\u001b[0m \u001b[39mif\u001b[39;00m key \u001b[39mis\u001b[39;00m \u001b[39mEllipsis\u001b[39m:\n\u001b[1;32m   1078\u001b[0m     key \u001b[39m=\u001b[39m \u001b[39mslice\u001b[39m(\u001b[39mNone\u001b[39;00m)\n",
      "File \u001b[0;32m~/.local/lib/python3.9/site-packages/pandas/core/series.py:1256\u001b[0m, in \u001b[0;36mSeries._check_is_chained_assignment_possible\u001b[0;34m(self)\u001b[0m\n\u001b[1;32m   1254\u001b[0m     ref \u001b[39m=\u001b[39m \u001b[39mself\u001b[39m\u001b[39m.\u001b[39m_get_cacher()\n\u001b[1;32m   1255\u001b[0m     \u001b[39mif\u001b[39;00m ref \u001b[39mis\u001b[39;00m \u001b[39mnot\u001b[39;00m \u001b[39mNone\u001b[39;00m \u001b[39mand\u001b[39;00m ref\u001b[39m.\u001b[39m_is_mixed_type:\n\u001b[0;32m-> 1256\u001b[0m         \u001b[39mself\u001b[39;49m\u001b[39m.\u001b[39;49m_check_setitem_copy(t\u001b[39m=\u001b[39;49m\u001b[39m\"\u001b[39;49m\u001b[39mreferent\u001b[39;49m\u001b[39m\"\u001b[39;49m, force\u001b[39m=\u001b[39;49m\u001b[39mTrue\u001b[39;49;00m)\n\u001b[1;32m   1257\u001b[0m     \u001b[39mreturn\u001b[39;00m \u001b[39mTrue\u001b[39;00m\n\u001b[1;32m   1258\u001b[0m \u001b[39mreturn\u001b[39;00m \u001b[39msuper\u001b[39m()\u001b[39m.\u001b[39m_check_is_chained_assignment_possible()\n",
      "File \u001b[0;32m~/.local/lib/python3.9/site-packages/pandas/core/generic.py:4018\u001b[0m, in \u001b[0;36mNDFrame._check_setitem_copy\u001b[0;34m(self, t, force)\u001b[0m\n\u001b[1;32m   4016\u001b[0m     \u001b[39mraise\u001b[39;00m com\u001b[39m.\u001b[39mSettingWithCopyError(t)\n\u001b[1;32m   4017\u001b[0m \u001b[39melif\u001b[39;00m value \u001b[39m==\u001b[39m \u001b[39m\"\u001b[39m\u001b[39mwarn\u001b[39m\u001b[39m\"\u001b[39m:\n\u001b[0;32m-> 4018\u001b[0m     warnings\u001b[39m.\u001b[39mwarn(t, com\u001b[39m.\u001b[39mSettingWithCopyWarning, stacklevel\u001b[39m=\u001b[39mfind_stack_level())\n",
      "File \u001b[0;32m~/.local/lib/python3.9/site-packages/pandas/util/_exceptions.py:32\u001b[0m, in \u001b[0;36mfind_stack_level\u001b[0;34m()\u001b[0m\n\u001b[1;32m     27\u001b[0m \u001b[39mdef\u001b[39;00m \u001b[39mfind_stack_level\u001b[39m() \u001b[39m-\u001b[39m\u001b[39m>\u001b[39m \u001b[39mint\u001b[39m:\n\u001b[1;32m     28\u001b[0m     \u001b[39m\"\"\"\u001b[39;00m\n\u001b[1;32m     29\u001b[0m \u001b[39m    Find the first place in the stack that is not inside pandas\u001b[39;00m\n\u001b[1;32m     30\u001b[0m \u001b[39m    (tests notwithstanding).\u001b[39;00m\n\u001b[1;32m     31\u001b[0m \u001b[39m    \"\"\"\u001b[39;00m\n\u001b[0;32m---> 32\u001b[0m     stack \u001b[39m=\u001b[39m inspect\u001b[39m.\u001b[39;49mstack()\n\u001b[1;32m     34\u001b[0m     \u001b[39mimport\u001b[39;00m \u001b[39mpandas\u001b[39;00m \u001b[39mas\u001b[39;00m \u001b[39mpd\u001b[39;00m\n\u001b[1;32m     36\u001b[0m     pkg_dir \u001b[39m=\u001b[39m os\u001b[39m.\u001b[39mpath\u001b[39m.\u001b[39mdirname(pd\u001b[39m.\u001b[39m\u001b[39m__file__\u001b[39m)\n",
      "File \u001b[0;32m/usr/local/lib/python3.9/inspect.py:1552\u001b[0m, in \u001b[0;36mstack\u001b[0;34m(context)\u001b[0m\n\u001b[1;32m   1550\u001b[0m \u001b[39mdef\u001b[39;00m \u001b[39mstack\u001b[39m(context\u001b[39m=\u001b[39m\u001b[39m1\u001b[39m):\n\u001b[1;32m   1551\u001b[0m     \u001b[39m\"\"\"Return a list of records for the stack above the caller's frame.\"\"\"\u001b[39;00m\n\u001b[0;32m-> 1552\u001b[0m     \u001b[39mreturn\u001b[39;00m getouterframes(sys\u001b[39m.\u001b[39;49m_getframe(\u001b[39m1\u001b[39;49m), context)\n",
      "File \u001b[0;32m/usr/local/lib/python3.9/inspect.py:1529\u001b[0m, in \u001b[0;36mgetouterframes\u001b[0;34m(frame, context)\u001b[0m\n\u001b[1;32m   1527\u001b[0m framelist \u001b[39m=\u001b[39m []\n\u001b[1;32m   1528\u001b[0m \u001b[39mwhile\u001b[39;00m frame:\n\u001b[0;32m-> 1529\u001b[0m     frameinfo \u001b[39m=\u001b[39m (frame,) \u001b[39m+\u001b[39m getframeinfo(frame, context)\n\u001b[1;32m   1530\u001b[0m     framelist\u001b[39m.\u001b[39mappend(FrameInfo(\u001b[39m*\u001b[39mframeinfo))\n\u001b[1;32m   1531\u001b[0m     frame \u001b[39m=\u001b[39m frame\u001b[39m.\u001b[39mf_back\n",
      "File \u001b[0;32m/usr/local/lib/python3.9/inspect.py:1503\u001b[0m, in \u001b[0;36mgetframeinfo\u001b[0;34m(frame, context)\u001b[0m\n\u001b[1;32m   1501\u001b[0m start \u001b[39m=\u001b[39m lineno \u001b[39m-\u001b[39m \u001b[39m1\u001b[39m \u001b[39m-\u001b[39m context\u001b[39m/\u001b[39m\u001b[39m/\u001b[39m\u001b[39m2\u001b[39m\n\u001b[1;32m   1502\u001b[0m \u001b[39mtry\u001b[39;00m:\n\u001b[0;32m-> 1503\u001b[0m     lines, lnum \u001b[39m=\u001b[39m findsource(frame)\n\u001b[1;32m   1504\u001b[0m \u001b[39mexcept\u001b[39;00m \u001b[39mOSError\u001b[39;00m:\n\u001b[1;32m   1505\u001b[0m     lines \u001b[39m=\u001b[39m index \u001b[39m=\u001b[39m \u001b[39mNone\u001b[39;00m\n",
      "File \u001b[0;32m/usr/local/lib/python3.9/inspect.py:820\u001b[0m, in \u001b[0;36mfindsource\u001b[0;34m(object)\u001b[0m\n\u001b[1;32m    817\u001b[0m file \u001b[39m=\u001b[39m getsourcefile(\u001b[39mobject\u001b[39m)\n\u001b[1;32m    818\u001b[0m \u001b[39mif\u001b[39;00m file:\n\u001b[1;32m    819\u001b[0m     \u001b[39m# Invalidate cache if needed.\u001b[39;00m\n\u001b[0;32m--> 820\u001b[0m     linecache\u001b[39m.\u001b[39;49mcheckcache(file)\n\u001b[1;32m    821\u001b[0m \u001b[39melse\u001b[39;00m:\n\u001b[1;32m    822\u001b[0m     file \u001b[39m=\u001b[39m getfile(\u001b[39mobject\u001b[39m)\n",
      "File \u001b[0;32m~/.local/lib/python3.9/site-packages/IPython/core/compilerop.py:193\u001b[0m, in \u001b[0;36mcheck_linecache_ipython\u001b[0;34m(*args)\u001b[0m\n\u001b[1;32m    190\u001b[0m \u001b[39m\"\"\"Call linecache.checkcache() safely protecting our cached values.\u001b[39;00m\n\u001b[1;32m    191\u001b[0m \u001b[39m\"\"\"\u001b[39;00m\n\u001b[1;32m    192\u001b[0m \u001b[39m# First call the original checkcache as intended\u001b[39;00m\n\u001b[0;32m--> 193\u001b[0m linecache\u001b[39m.\u001b[39;49m_checkcache_ori(\u001b[39m*\u001b[39;49margs)\n\u001b[1;32m    194\u001b[0m \u001b[39m# Then, update back the cache with our data, so that tracebacks related\u001b[39;00m\n\u001b[1;32m    195\u001b[0m \u001b[39m# to our compiled codes can be produced.\u001b[39;00m\n\u001b[1;32m    196\u001b[0m linecache\u001b[39m.\u001b[39mcache\u001b[39m.\u001b[39mupdate(linecache\u001b[39m.\u001b[39m_ipython_cache)\n",
      "File \u001b[0;32m/usr/local/lib/python3.9/linecache.py:59\u001b[0m, in \u001b[0;36mcheckcache\u001b[0;34m(filename)\u001b[0m\n\u001b[1;32m     57\u001b[0m     filenames \u001b[39m=\u001b[39m \u001b[39mlist\u001b[39m(cache\u001b[39m.\u001b[39mkeys())\n\u001b[1;32m     58\u001b[0m \u001b[39melif\u001b[39;00m filename \u001b[39min\u001b[39;00m cache:\n\u001b[0;32m---> 59\u001b[0m     filenames \u001b[39m=\u001b[39m [filename]\n\u001b[1;32m     60\u001b[0m \u001b[39melse\u001b[39;00m:\n\u001b[1;32m     61\u001b[0m     \u001b[39mreturn\u001b[39;00m\n",
      "\u001b[0;31mKeyboardInterrupt\u001b[0m: "
     ]
    }
   ],
   "source": [
    "train_df['c'] = -1\n",
    "\n",
    "for index, row in train_df.iterrows():\n",
    "  if row['glex1'] > 0 and row['glex2'] > 0 and row['glex3'] > 0:\n",
    "    train_df['c'][index] = 0\n",
    "  elif row['glex1'] < 0 and row['glex2'] > 0 and row['glex3'] > 0:\n",
    "    train_df['c'][index] = 1\n",
    "  elif row['glex1'] < 0 and row['glex2'] < 0 and row['glex3'] < 0:\n",
    "    train_df['c'][index] = 2"
   ]
  },
  {
   "cell_type": "code",
   "execution_count": 77,
   "metadata": {},
   "outputs": [
    {
     "name": "stdout",
     "output_type": "stream",
     "text": [
      "Instâncias totais: 38207\n",
      "Instâncias classificadas: 25742\n",
      "Porcentagem classificadas: 0.6737508833459838\n",
      "Instâncias classificadas corretamente: 15449\n",
      "Porcentagem classificadas corretamente: 0.6001476186776474\n",
      "Porcentagem classificadas corretamente das totais: 0.40434998822205354\n"
     ]
    }
   ],
   "source": [
    "print(f'Instâncias totais: {train_df.shape[0]}')\n",
    "print(f'Instâncias classificadas: {train_df[train_df.c!=-1].shape[0]}')\n",
    "print(f'Porcentagem classificadas: {train_df[train_df.c!=-1].shape[0]/train_df.shape[0]}')\n",
    "print(f'Instâncias classificadas corretamente: {train_df[(train_df.c!=-1) & (train_df.c==train_df.Age)].shape[0]}')\n",
    "print(f'Porcentagem classificadas corretamente: {train_df[(train_df.c!=-1) & (train_df.c==train_df.Age)].shape[0]/train_df[train_df.c!=-1].shape[0]}')\n",
    "print(f'Porcentagem classificadas corretamente das totais: {train_df[(train_df.c!=-1) & (train_df.c==train_df.Age)].shape[0]/train_df.shape[0]}')\n",
    "\n",
    "# as palavras não esto conseguindo separar bem (1% muito, restringir menos)"
   ]
  },
  {
   "cell_type": "code",
   "execution_count": 91,
   "metadata": {},
   "outputs": [
    {
     "name": "stderr",
     "output_type": "stream",
     "text": [
      "/tmp/ipykernel_14084/2520854140.py:20: SettingWithCopyWarning: \n",
      "A value is trying to be set on a copy of a slice from a DataFrame\n",
      "\n",
      "See the caveats in the documentation: https://pandas.pydata.org/pandas-docs/stable/user_guide/indexing.html#returning-a-view-versus-a-copy\n",
      "  test_df[f'glex1'][index] = sum\n",
      "/tmp/ipykernel_14084/2520854140.py:30: SettingWithCopyWarning: \n",
      "A value is trying to be set on a copy of a slice from a DataFrame\n",
      "\n",
      "See the caveats in the documentation: https://pandas.pydata.org/pandas-docs/stable/user_guide/indexing.html#returning-a-view-versus-a-copy\n",
      "  test_df[f'glex2'][index] = sum\n",
      "/tmp/ipykernel_14084/2520854140.py:40: SettingWithCopyWarning: \n",
      "A value is trying to be set on a copy of a slice from a DataFrame\n",
      "\n",
      "See the caveats in the documentation: https://pandas.pydata.org/pandas-docs/stable/user_guide/indexing.html#returning-a-view-versus-a-copy\n",
      "  test_df[f'glex3'][index] = sum\n"
     ]
    },
    {
     "data": {
      "text/html": [
       "<div>\n",
       "<style scoped>\n",
       "    .dataframe tbody tr th:only-of-type {\n",
       "        vertical-align: middle;\n",
       "    }\n",
       "\n",
       "    .dataframe tbody tr th {\n",
       "        vertical-align: top;\n",
       "    }\n",
       "\n",
       "    .dataframe thead th {\n",
       "        text-align: right;\n",
       "    }\n",
       "</style>\n",
       "<table border=\"1\" class=\"dataframe\">\n",
       "  <thead>\n",
       "    <tr style=\"text-align: right;\">\n",
       "      <th></th>\n",
       "      <th>Age</th>\n",
       "      <th>0</th>\n",
       "      <th>1</th>\n",
       "      <th>2</th>\n",
       "    </tr>\n",
       "  </thead>\n",
       "  <tbody>\n",
       "    <tr>\n",
       "      <th rowspan=\"8\" valign=\"top\">glex1</th>\n",
       "      <th>count</th>\n",
       "      <td>3354.000000</td>\n",
       "      <td>3396.000000</td>\n",
       "      <td>2803.000000</td>\n",
       "    </tr>\n",
       "    <tr>\n",
       "      <th>mean</th>\n",
       "      <td>0.650282</td>\n",
       "      <td>-0.523065</td>\n",
       "      <td>-0.338565</td>\n",
       "    </tr>\n",
       "    <tr>\n",
       "      <th>std</th>\n",
       "      <td>1.828683</td>\n",
       "      <td>1.955025</td>\n",
       "      <td>1.588826</td>\n",
       "    </tr>\n",
       "    <tr>\n",
       "      <th>min</th>\n",
       "      <td>-23.206401</td>\n",
       "      <td>-14.370070</td>\n",
       "      <td>-13.128862</td>\n",
       "    </tr>\n",
       "    <tr>\n",
       "      <th>25%</th>\n",
       "      <td>-0.254756</td>\n",
       "      <td>-1.318329</td>\n",
       "      <td>-1.152842</td>\n",
       "    </tr>\n",
       "    <tr>\n",
       "      <th>50%</th>\n",
       "      <td>0.619001</td>\n",
       "      <td>-0.369372</td>\n",
       "      <td>-0.302123</td>\n",
       "    </tr>\n",
       "    <tr>\n",
       "      <th>75%</th>\n",
       "      <td>1.374954</td>\n",
       "      <td>0.487224</td>\n",
       "      <td>0.526575</td>\n",
       "    </tr>\n",
       "    <tr>\n",
       "      <th>max</th>\n",
       "      <td>25.749522</td>\n",
       "      <td>21.690244</td>\n",
       "      <td>8.239131</td>\n",
       "    </tr>\n",
       "    <tr>\n",
       "      <th rowspan=\"8\" valign=\"top\">glex2</th>\n",
       "      <th>count</th>\n",
       "      <td>3354.000000</td>\n",
       "      <td>3396.000000</td>\n",
       "      <td>2803.000000</td>\n",
       "    </tr>\n",
       "    <tr>\n",
       "      <th>mean</th>\n",
       "      <td>1.212777</td>\n",
       "      <td>0.524283</td>\n",
       "      <td>-0.453269</td>\n",
       "    </tr>\n",
       "    <tr>\n",
       "      <th>std</th>\n",
       "      <td>2.011427</td>\n",
       "      <td>2.006953</td>\n",
       "      <td>1.672790</td>\n",
       "    </tr>\n",
       "    <tr>\n",
       "      <th>min</th>\n",
       "      <td>-12.478504</td>\n",
       "      <td>-15.307135</td>\n",
       "      <td>-14.315920</td>\n",
       "    </tr>\n",
       "    <tr>\n",
       "      <th>25%</th>\n",
       "      <td>0.146420</td>\n",
       "      <td>-0.499951</td>\n",
       "      <td>-1.294656</td>\n",
       "    </tr>\n",
       "    <tr>\n",
       "      <th>50%</th>\n",
       "      <td>1.067732</td>\n",
       "      <td>0.456920</td>\n",
       "      <td>-0.480441</td>\n",
       "    </tr>\n",
       "    <tr>\n",
       "      <th>75%</th>\n",
       "      <td>2.033702</td>\n",
       "      <td>1.516962</td>\n",
       "      <td>0.402311</td>\n",
       "    </tr>\n",
       "    <tr>\n",
       "      <th>max</th>\n",
       "      <td>37.798964</td>\n",
       "      <td>22.135998</td>\n",
       "      <td>9.238547</td>\n",
       "    </tr>\n",
       "    <tr>\n",
       "      <th rowspan=\"8\" valign=\"top\">glex3</th>\n",
       "      <th>count</th>\n",
       "      <td>3354.000000</td>\n",
       "      <td>3396.000000</td>\n",
       "      <td>2803.000000</td>\n",
       "    </tr>\n",
       "    <tr>\n",
       "      <th>mean</th>\n",
       "      <td>0.850870</td>\n",
       "      <td>1.088488</td>\n",
       "      <td>-0.300805</td>\n",
       "    </tr>\n",
       "    <tr>\n",
       "      <th>std</th>\n",
       "      <td>1.929163</td>\n",
       "      <td>2.157455</td>\n",
       "      <td>1.683721</td>\n",
       "    </tr>\n",
       "    <tr>\n",
       "      <th>min</th>\n",
       "      <td>-10.765882</td>\n",
       "      <td>-16.530285</td>\n",
       "      <td>-11.981856</td>\n",
       "    </tr>\n",
       "    <tr>\n",
       "      <th>25%</th>\n",
       "      <td>-0.096685</td>\n",
       "      <td>-0.048637</td>\n",
       "      <td>-1.106857</td>\n",
       "    </tr>\n",
       "    <tr>\n",
       "      <th>50%</th>\n",
       "      <td>0.739261</td>\n",
       "      <td>0.896920</td>\n",
       "      <td>-0.332394</td>\n",
       "    </tr>\n",
       "    <tr>\n",
       "      <th>75%</th>\n",
       "      <td>1.605425</td>\n",
       "      <td>1.855034</td>\n",
       "      <td>0.560650</td>\n",
       "    </tr>\n",
       "    <tr>\n",
       "      <th>max</th>\n",
       "      <td>48.107057</td>\n",
       "      <td>34.751546</td>\n",
       "      <td>23.995681</td>\n",
       "    </tr>\n",
       "  </tbody>\n",
       "</table>\n",
       "</div>"
      ],
      "text/plain": [
       "Age                    0            1            2\n",
       "glex1 count  3354.000000  3396.000000  2803.000000\n",
       "      mean      0.650282    -0.523065    -0.338565\n",
       "      std       1.828683     1.955025     1.588826\n",
       "      min     -23.206401   -14.370070   -13.128862\n",
       "      25%      -0.254756    -1.318329    -1.152842\n",
       "      50%       0.619001    -0.369372    -0.302123\n",
       "      75%       1.374954     0.487224     0.526575\n",
       "      max      25.749522    21.690244     8.239131\n",
       "glex2 count  3354.000000  3396.000000  2803.000000\n",
       "      mean      1.212777     0.524283    -0.453269\n",
       "      std       2.011427     2.006953     1.672790\n",
       "      min     -12.478504   -15.307135   -14.315920\n",
       "      25%       0.146420    -0.499951    -1.294656\n",
       "      50%       1.067732     0.456920    -0.480441\n",
       "      75%       2.033702     1.516962     0.402311\n",
       "      max      37.798964    22.135998     9.238547\n",
       "glex3 count  3354.000000  3396.000000  2803.000000\n",
       "      mean      0.850870     1.088488    -0.300805\n",
       "      std       1.929163     2.157455     1.683721\n",
       "      min     -10.765882   -16.530285   -11.981856\n",
       "      25%      -0.096685    -0.048637    -1.106857\n",
       "      50%       0.739261     0.896920    -0.332394\n",
       "      75%       1.605425     1.855034     0.560650\n",
       "      max      48.107057    34.751546    23.995681"
      ]
     },
     "execution_count": 91,
     "metadata": {},
     "output_type": "execute_result"
    }
   ],
   "source": [
    "test_matrix = vectorizer.transform(test_df[\"req-text-clean\"].to_list())\n",
    "test_matrix = test_matrix.toarray()\n",
    "\n",
    "tf_idf_test = pd.DataFrame(data=test_matrix, columns=selected_words)\n",
    "\n",
    "#test_df.reset_index(inplace=True)\n",
    "\n",
    "test_df['glex1']=0\n",
    "test_df['glex2']=0\n",
    "test_df['glex3']=0\n",
    "\n",
    "# dict 1\n",
    "for index, row in test_df.iterrows():\n",
    "    sum = 0\n",
    "    text = row[\"req-text-clean\"].split()\n",
    "    for w in text:\n",
    "      if w in coef1.index.tolist():\n",
    "        sum += coef1[0][w]*tf_idf_test[w][index]\n",
    "    sum = sum + svc.intercept_[0]\n",
    "    test_df[f'glex1'][index] = sum\n",
    "\n",
    "# dict 1\n",
    "for index, row in test_df.iterrows():\n",
    "    sum = 0\n",
    "    text = row[\"req-text-clean\"].split()\n",
    "    for w in text:\n",
    "      if w in coef2.index.tolist():\n",
    "        sum += coef2[1][w]*tf_idf_test[w][index]\n",
    "    sum = sum + svc.intercept_[1]\n",
    "    test_df[f'glex2'][index] = sum\n",
    "\n",
    "# dict 1\n",
    "for index, row in test_df.iterrows():\n",
    "    sum = 0\n",
    "    text = row[\"req-text-clean\"].split()\n",
    "    for w in text:\n",
    "      if w in coef3.index.tolist():\n",
    "        sum += coef3[2][w]*tf_idf_test[w][index]\n",
    "    sum = sum + svc.intercept_[2]\n",
    "    test_df[f'glex3'][index] = sum\n",
    "\n",
    "test_df.groupby(['Age'])[['glex1', 'glex2', 'glex3']].describe().T"
   ]
  },
  {
   "cell_type": "code",
   "execution_count": 92,
   "metadata": {},
   "outputs": [],
   "source": [
    "from sklearn import metrics"
   ]
  },
  {
   "cell_type": "code",
   "execution_count": 93,
   "metadata": {},
   "outputs": [
    {
     "data": {
      "text/html": [
       "<div>\n",
       "<style scoped>\n",
       "    .dataframe tbody tr th:only-of-type {\n",
       "        vertical-align: middle;\n",
       "    }\n",
       "\n",
       "    .dataframe tbody tr th {\n",
       "        vertical-align: top;\n",
       "    }\n",
       "\n",
       "    .dataframe thead th {\n",
       "        text-align: right;\n",
       "    }\n",
       "</style>\n",
       "<table border=\"1\" class=\"dataframe\">\n",
       "  <thead>\n",
       "    <tr style=\"text-align: right;\">\n",
       "      <th></th>\n",
       "      <th>Unnamed: 0</th>\n",
       "      <th>age-bracket</th>\n",
       "      <th>req-text</th>\n",
       "      <th>req-text-clean</th>\n",
       "      <th>Age</th>\n",
       "      <th>glex1</th>\n",
       "      <th>glex2</th>\n",
       "      <th>glex3</th>\n",
       "      <th>c</th>\n",
       "      <th>c50</th>\n",
       "      <th>c5025</th>\n",
       "      <th>cmean</th>\n",
       "      <th>c75</th>\n",
       "      <th>c7525</th>\n",
       "    </tr>\n",
       "  </thead>\n",
       "  <tbody>\n",
       "    <tr>\n",
       "      <th>0</th>\n",
       "      <td>34599</td>\n",
       "      <td>a43-xx</td>\n",
       "      <td>Solicito os registro de reclamações feitas a e...</td>\n",
       "      <td>solicito registro reclamações feitas ouvidoria...</td>\n",
       "      <td>2</td>\n",
       "      <td>-0.312707</td>\n",
       "      <td>-0.057745</td>\n",
       "      <td>-1.074704</td>\n",
       "      <td>-1</td>\n",
       "      <td>-1</td>\n",
       "      <td>-1</td>\n",
       "      <td>-1</td>\n",
       "      <td>-1</td>\n",
       "      <td>-1</td>\n",
       "    </tr>\n",
       "    <tr>\n",
       "      <th>1</th>\n",
       "      <td>23357</td>\n",
       "      <td>a17-30</td>\n",
       "      <td>No estado do Amazonas, existem agências da pre...</td>\n",
       "      <td>estado amazonas existem agências previdência s...</td>\n",
       "      <td>0</td>\n",
       "      <td>-0.153447</td>\n",
       "      <td>1.151447</td>\n",
       "      <td>1.144852</td>\n",
       "      <td>1</td>\n",
       "      <td>1</td>\n",
       "      <td>-1</td>\n",
       "      <td>1</td>\n",
       "      <td>-1</td>\n",
       "      <td>-1</td>\n",
       "    </tr>\n",
       "    <tr>\n",
       "      <th>2</th>\n",
       "      <td>31440</td>\n",
       "      <td>a17-30</td>\n",
       "      <td>Olá, solicito informações sobre a quantidade d...</td>\n",
       "      <td>olá solicito informações sobre quantidade códi...</td>\n",
       "      <td>0</td>\n",
       "      <td>4.736929</td>\n",
       "      <td>2.013420</td>\n",
       "      <td>-0.103715</td>\n",
       "      <td>-1</td>\n",
       "      <td>-1</td>\n",
       "      <td>0</td>\n",
       "      <td>-1</td>\n",
       "      <td>-1</td>\n",
       "      <td>-1</td>\n",
       "    </tr>\n",
       "    <tr>\n",
       "      <th>3</th>\n",
       "      <td>15896</td>\n",
       "      <td>a17-30</td>\n",
       "      <td>Boa tarde, Estou com alguns problemas para con...</td>\n",
       "      <td>boa tarde alguns problemas conseguir cidadania...</td>\n",
       "      <td>0</td>\n",
       "      <td>0.089116</td>\n",
       "      <td>0.573233</td>\n",
       "      <td>0.438379</td>\n",
       "      <td>1</td>\n",
       "      <td>-1</td>\n",
       "      <td>-1</td>\n",
       "      <td>-1</td>\n",
       "      <td>-1</td>\n",
       "      <td>-1</td>\n",
       "    </tr>\n",
       "    <tr>\n",
       "      <th>4</th>\n",
       "      <td>15489</td>\n",
       "      <td>a17-30</td>\n",
       "      <td>Referente à demanda 80200000235201650, percebi...</td>\n",
       "      <td>referente demanda 80200000235201650 percebi al...</td>\n",
       "      <td>0</td>\n",
       "      <td>1.278547</td>\n",
       "      <td>0.836758</td>\n",
       "      <td>-1.104455</td>\n",
       "      <td>-1</td>\n",
       "      <td>-1</td>\n",
       "      <td>-1</td>\n",
       "      <td>-1</td>\n",
       "      <td>-1</td>\n",
       "      <td>-1</td>\n",
       "    </tr>\n",
       "  </tbody>\n",
       "</table>\n",
       "</div>"
      ],
      "text/plain": [
       "   Unnamed: 0 age-bracket                                           req-text  \\\n",
       "0       34599      a43-xx  Solicito os registro de reclamações feitas a e...   \n",
       "1       23357      a17-30  No estado do Amazonas, existem agências da pre...   \n",
       "2       31440      a17-30  Olá, solicito informações sobre a quantidade d...   \n",
       "3       15896      a17-30  Boa tarde, Estou com alguns problemas para con...   \n",
       "4       15489      a17-30  Referente à demanda 80200000235201650, percebi...   \n",
       "\n",
       "                                      req-text-clean  Age     glex1     glex2  \\\n",
       "0  solicito registro reclamações feitas ouvidoria...    2 -0.312707 -0.057745   \n",
       "1  estado amazonas existem agências previdência s...    0 -0.153447  1.151447   \n",
       "2  olá solicito informações sobre quantidade códi...    0  4.736929  2.013420   \n",
       "3  boa tarde alguns problemas conseguir cidadania...    0  0.089116  0.573233   \n",
       "4  referente demanda 80200000235201650 percebi al...    0  1.278547  0.836758   \n",
       "\n",
       "      glex3  c  c50  c5025  cmean  c75  c7525  \n",
       "0 -1.074704 -1   -1     -1     -1   -1     -1  \n",
       "1  1.144852  1    1     -1      1   -1     -1  \n",
       "2 -0.103715 -1   -1      0     -1   -1     -1  \n",
       "3  0.438379  1   -1     -1     -1   -1     -1  \n",
       "4 -1.104455 -1   -1     -1     -1   -1     -1  "
      ]
     },
     "execution_count": 93,
     "metadata": {},
     "output_type": "execute_result"
    }
   ],
   "source": [
    "test_df.head()"
   ]
  },
  {
   "cell_type": "code",
   "execution_count": 94,
   "metadata": {},
   "outputs": [
    {
     "name": "stderr",
     "output_type": "stream",
     "text": [
      "/tmp/ipykernel_14084/3367236266.py:9: SettingWithCopyWarning: \n",
      "A value is trying to be set on a copy of a slice from a DataFrame\n",
      "\n",
      "See the caveats in the documentation: https://pandas.pydata.org/pandas-docs/stable/user_guide/indexing.html#returning-a-view-versus-a-copy\n",
      "  test_df['c'][index] = 2\n",
      "/tmp/ipykernel_14084/3367236266.py:7: SettingWithCopyWarning: \n",
      "A value is trying to be set on a copy of a slice from a DataFrame\n",
      "\n",
      "See the caveats in the documentation: https://pandas.pydata.org/pandas-docs/stable/user_guide/indexing.html#returning-a-view-versus-a-copy\n",
      "  test_df['c'][index] = 1\n",
      "/tmp/ipykernel_14084/3367236266.py:5: SettingWithCopyWarning: \n",
      "A value is trying to be set on a copy of a slice from a DataFrame\n",
      "\n",
      "See the caveats in the documentation: https://pandas.pydata.org/pandas-docs/stable/user_guide/indexing.html#returning-a-view-versus-a-copy\n",
      "  test_df['c'][index] = 0\n"
     ]
    },
    {
     "name": "stdout",
     "output_type": "stream",
     "text": [
      "F1 (dict): 0.5634012033010277\n"
     ]
    }
   ],
   "source": [
    "test_df['c'] = -1\n",
    "\n",
    "for index, row in test_df.iterrows():\n",
    "  if row['glex1'] > 0 and row['glex2'] > 0 and row['glex3'] > 0: # delimitaria só pelo glex da regra\n",
    "    test_df['c'][index] = 0\n",
    "  elif row['glex1'] < 0 and row['glex2'] > 0 and row['glex3'] > 0:\n",
    "    test_df['c'][index] = 1\n",
    "  elif row['glex1'] < 0 and row['glex2'] < 0 and row['glex3'] < 0:\n",
    "    test_df['c'][index] = 2\n",
    "\n",
    "test_df_dict = test_df[test_df['c'] != -1]\n",
    "print(f\"F1 (dict): {metrics.f1_score(test_df_dict['c'].to_list(), test_df_dict['Age'].to_list(), average='macro')}\")"
   ]
  },
  {
   "cell_type": "code",
   "execution_count": 75,
   "metadata": {},
   "outputs": [
    {
     "name": "stdout",
     "output_type": "stream",
     "text": [
      "Instâncias totais: 9553\n",
      "Instâncias classificadas: 6402\n",
      "Porcentagem classificadas: 0.6701559719459855\n",
      "Instâncias classificadas corretamente: 3595\n",
      "Porcentagem classificadas corretamente: 0.5615432677288348\n",
      "Porcentagem classificadas corretamente das totais: 0.37632157437454206\n"
     ]
    }
   ],
   "source": [
    "print(f'Instâncias totais: {test_df.shape[0]}')\n",
    "print(f'Instâncias classificadas: {test_df[test_df.c!=-1].shape[0]}')\n",
    "print(f'Porcentagem classificadas: {test_df[test_df.c!=-1].shape[0]/test_df.shape[0]}')\n",
    "print(f'Instâncias classificadas corretamente: {test_df[(test_df.c!=-1) & (test_df.c==test_df.Age)].shape[0]}')\n",
    "print(f'Porcentagem classificadas corretamente: {test_df[(test_df.c!=-1) & (test_df.c==test_df.Age)].shape[0]/test_df[test_df.c!=-1].shape[0]}')\n",
    "print(f'Porcentagem classificadas corretamente das totais: {test_df[(test_df.c!=-1) & (test_df.c==test_df.Age)].shape[0]/test_df.shape[0]}')"
   ]
  },
  {
   "cell_type": "code",
   "execution_count": 95,
   "metadata": {},
   "outputs": [],
   "source": [
    "df_stat = train_df.groupby(['Age'])[['glex1', 'glex2', 'glex3']].describe().T"
   ]
  },
  {
   "cell_type": "code",
   "execution_count": 96,
   "metadata": {},
   "outputs": [
    {
     "name": "stderr",
     "output_type": "stream",
     "text": [
      "/tmp/ipykernel_14084/3046944293.py:9: SettingWithCopyWarning: \n",
      "A value is trying to be set on a copy of a slice from a DataFrame\n",
      "\n",
      "See the caveats in the documentation: https://pandas.pydata.org/pandas-docs/stable/user_guide/indexing.html#returning-a-view-versus-a-copy\n",
      "  test_df['c50'][index] = 2\n",
      "/tmp/ipykernel_14084/3046944293.py:7: SettingWithCopyWarning: \n",
      "A value is trying to be set on a copy of a slice from a DataFrame\n",
      "\n",
      "See the caveats in the documentation: https://pandas.pydata.org/pandas-docs/stable/user_guide/indexing.html#returning-a-view-versus-a-copy\n",
      "  test_df['c50'][index] = 1\n",
      "/tmp/ipykernel_14084/3046944293.py:5: SettingWithCopyWarning: \n",
      "A value is trying to be set on a copy of a slice from a DataFrame\n",
      "\n",
      "See the caveats in the documentation: https://pandas.pydata.org/pandas-docs/stable/user_guide/indexing.html#returning-a-view-versus-a-copy\n",
      "  test_df['c50'][index] = 0\n"
     ]
    },
    {
     "name": "stdout",
     "output_type": "stream",
     "text": [
      "F1 (dict): 0.6126143766416132\n",
      "\n",
      "Instâncias totais: 9553\n",
      "Instâncias classificadas: 4438\n",
      "Porcentagem classificadas: 0.4645661048885167\n",
      "Instâncias classificadas corretamente: 2727\n",
      "Porcentagem classificadas corretamente: 0.6144659756647138\n",
      "Porcentagem classificadas corretamente das totais: 0.28546006490107817\n"
     ]
    }
   ],
   "source": [
    "test_df['c50'] = -1\n",
    "\n",
    "for index, row in test_df.iterrows():\n",
    "  if row['glex1'] > df_stat[0]['glex1']['50%'] and row['glex2'] > 0 and row['glex3'] > 0: # delimitaria só pelo glex da regra\n",
    "    test_df['c50'][index] = 0\n",
    "  elif row['glex1'] < 0 and row['glex2'] > df_stat[1]['glex2']['50%'] and row['glex3'] > 0:\n",
    "    test_df['c50'][index] = 1\n",
    "  elif row['glex1'] < 0 and row['glex2'] < 0 and row['glex3'] < df_stat[2]['glex3']['50%']:\n",
    "    test_df['c50'][index] = 2\n",
    "\n",
    "test_df_dict = test_df[test_df['c50'] != -1]\n",
    "print(f\"F1 (dict): {metrics.f1_score(test_df_dict['c50'].to_list(), test_df_dict['Age'].to_list(), average='macro')}\")\n",
    "print('')\n",
    "print(f'Instâncias totais: {test_df.shape[0]}')\n",
    "print(f'Instâncias classificadas: {test_df[test_df.c50!=-1].shape[0]}')\n",
    "print(f'Porcentagem classificadas: {test_df[test_df.c50!=-1].shape[0]/test_df.shape[0]}')\n",
    "print(f'Instâncias classificadas corretamente: {test_df[(test_df.c50!=-1) & (test_df.c50==test_df.Age)].shape[0]}')\n",
    "print(f'Porcentagem classificadas corretamente: {test_df[(test_df.c50!=-1) & (test_df.c50==test_df.Age)].shape[0]/test_df[test_df.c50!=-1].shape[0]}')\n",
    "print(f'Porcentagem classificadas corretamente das totais: {test_df[(test_df.c50!=-1) & (test_df.c50==test_df.Age)].shape[0]/test_df.shape[0]}')"
   ]
  },
  {
   "cell_type": "code",
   "execution_count": 97,
   "metadata": {},
   "outputs": [],
   "source": [
    "test_df_class = test_df[test_df.c50!=-1]"
   ]
  },
  {
   "cell_type": "code",
   "execution_count": 98,
   "metadata": {},
   "outputs": [
    {
     "data": {
      "text/plain": [
       "(4438, 14)"
      ]
     },
     "execution_count": 98,
     "metadata": {},
     "output_type": "execute_result"
    }
   ],
   "source": [
    "test_df_class.shape"
   ]
  },
  {
   "cell_type": "code",
   "execution_count": 99,
   "metadata": {},
   "outputs": [],
   "source": [
    "test_df_class.to_csv('../data/dict-class50.csv', encoding='latin-1')"
   ]
  },
  {
   "cell_type": "code",
   "execution_count": 78,
   "metadata": {},
   "outputs": [
    {
     "name": "stderr",
     "output_type": "stream",
     "text": [
      "/tmp/ipykernel_14084/2367062825.py:5: SettingWithCopyWarning: \n",
      "A value is trying to be set on a copy of a slice from a DataFrame\n",
      "\n",
      "See the caveats in the documentation: https://pandas.pydata.org/pandas-docs/stable/user_guide/indexing.html#returning-a-view-versus-a-copy\n",
      "  test_df['c5025'][index] = 0\n",
      "/tmp/ipykernel_14084/2367062825.py:9: SettingWithCopyWarning: \n",
      "A value is trying to be set on a copy of a slice from a DataFrame\n",
      "\n",
      "See the caveats in the documentation: https://pandas.pydata.org/pandas-docs/stable/user_guide/indexing.html#returning-a-view-versus-a-copy\n",
      "  test_df['c5025'][index] = 2\n",
      "/tmp/ipykernel_14084/2367062825.py:7: SettingWithCopyWarning: \n",
      "A value is trying to be set on a copy of a slice from a DataFrame\n",
      "\n",
      "See the caveats in the documentation: https://pandas.pydata.org/pandas-docs/stable/user_guide/indexing.html#returning-a-view-versus-a-copy\n",
      "  test_df['c5025'][index] = 1\n"
     ]
    },
    {
     "name": "stdout",
     "output_type": "stream",
     "text": [
      "F1 (dict): 0.5673198570978709\n",
      "\n",
      "Instâncias totais: 9553\n",
      "Instâncias classificadas: 2640\n",
      "Porcentagem classificadas: 0.2763529781220559\n",
      "Instâncias classificadas corretamente: 1677\n",
      "Porcentagem classificadas corretamente: 0.6352272727272728\n",
      "Porcentagem classificadas corretamente das totais: 0.17554694860253323\n"
     ]
    }
   ],
   "source": [
    "test_df['c5025'] = -1\n",
    "\n",
    "for index, row in test_df.iterrows():\n",
    "  if row['glex1'] > df_stat[0]['glex1']['50%'] and row['glex2'] > df_stat[0]['glex2']['25%'] and row['glex3'] > df_stat[0]['glex3']['25%']: # delimitaria só pelo glex da regra\n",
    "    test_df['c5025'][index] = 0\n",
    "  elif row['glex1'] < df_stat[1]['glex1']['25%'] and row['glex2'] > df_stat[1]['glex2']['50%'] and row['glex3'] > df_stat[1]['glex3']['25%']:\n",
    "    test_df['c5025'][index] = 1\n",
    "  elif row['glex1'] < df_stat[2]['glex1']['25%'] and row['glex2'] < df_stat[2]['glex2']['25%'] and row['glex3'] < df_stat[2]['glex3']['50%']:\n",
    "    test_df['c5025'][index] = 2\n",
    "\n",
    "test_df_dict = test_df[test_df['c5025'] != -1]\n",
    "print(f\"F1 (dict): {metrics.f1_score(test_df_dict['c5025'].to_list(), test_df_dict['Age'].to_list(), average='macro')}\")\n",
    "print('')\n",
    "print(f'Instâncias totais: {test_df.shape[0]}')\n",
    "print(f'Instâncias classificadas: {test_df[test_df.c5025!=-1].shape[0]}')\n",
    "print(f'Porcentagem classificadas: {test_df[test_df.c5025!=-1].shape[0]/test_df.shape[0]}')\n",
    "print(f'Instâncias classificadas corretamente: {test_df[(test_df.c5025!=-1) & (test_df.c5025==test_df.Age)].shape[0]}')\n",
    "print(f'Porcentagem classificadas corretamente: {test_df[(test_df.c5025!=-1) & (test_df.c5025==test_df.Age)].shape[0]/test_df[test_df.c5025!=-1].shape[0]}')\n",
    "print(f'Porcentagem classificadas corretamente das totais: {test_df[(test_df.c5025!=-1) & (test_df.c5025==test_df.Age)].shape[0]/test_df.shape[0]}')"
   ]
  },
  {
   "cell_type": "code",
   "execution_count": 203,
   "metadata": {},
   "outputs": [],
   "source": [
    "test_df_class = test_df[test_df.c5025!=-1]"
   ]
  },
  {
   "cell_type": "code",
   "execution_count": 204,
   "metadata": {},
   "outputs": [
    {
     "data": {
      "text/plain": [
       "(2751, 13)"
      ]
     },
     "execution_count": 204,
     "metadata": {},
     "output_type": "execute_result"
    }
   ],
   "source": [
    "test_df_class.shape"
   ]
  },
  {
   "cell_type": "code",
   "execution_count": 205,
   "metadata": {},
   "outputs": [],
   "source": [
    "test_df_class.to_csv('../data/dict-class.csv', encoding='latin-1')"
   ]
  },
  {
   "cell_type": "code",
   "execution_count": 79,
   "metadata": {},
   "outputs": [
    {
     "name": "stderr",
     "output_type": "stream",
     "text": [
      "/tmp/ipykernel_14084/2304313386.py:7: SettingWithCopyWarning: \n",
      "A value is trying to be set on a copy of a slice from a DataFrame\n",
      "\n",
      "See the caveats in the documentation: https://pandas.pydata.org/pandas-docs/stable/user_guide/indexing.html#returning-a-view-versus-a-copy\n",
      "  test_df['cmean'][index] = 1\n",
      "/tmp/ipykernel_14084/2304313386.py:5: SettingWithCopyWarning: \n",
      "A value is trying to be set on a copy of a slice from a DataFrame\n",
      "\n",
      "See the caveats in the documentation: https://pandas.pydata.org/pandas-docs/stable/user_guide/indexing.html#returning-a-view-versus-a-copy\n",
      "  test_df['cmean'][index] = 0\n",
      "/tmp/ipykernel_14084/2304313386.py:9: SettingWithCopyWarning: \n",
      "A value is trying to be set on a copy of a slice from a DataFrame\n",
      "\n",
      "See the caveats in the documentation: https://pandas.pydata.org/pandas-docs/stable/user_guide/indexing.html#returning-a-view-versus-a-copy\n",
      "  test_df['cmean'][index] = 2\n"
     ]
    },
    {
     "name": "stdout",
     "output_type": "stream",
     "text": [
      "F1 (dict): 0.6021839951722482\n",
      "\n",
      "Instâncias totais: 9553\n",
      "Instâncias classificadas: 4310\n",
      "Porcentagem classificadas: 0.45116717261593214\n",
      "Instâncias classificadas corretamente: 2605\n",
      "Porcentagem classificadas corretamente: 0.6044083526682135\n",
      "Porcentagem classificadas corretamente das totais: 0.2726892075787711\n"
     ]
    }
   ],
   "source": [
    "test_df['cmean'] = -1\n",
    "\n",
    "for index, row in test_df.iterrows():\n",
    "  if row['glex1'] > df_stat[0]['glex1']['mean'] and row['glex2'] > 0 and row['glex3'] > 0: # delimitaria só pelo glex da regra\n",
    "    test_df['cmean'][index] = 0\n",
    "  elif row['glex1'] < 0 and row['glex2'] > df_stat[1]['glex2']['mean'] and row['glex3'] > 0:\n",
    "    test_df['cmean'][index] = 1\n",
    "  elif row['glex1'] < 0 and row['glex2'] < 0 and row['glex3'] < df_stat[2]['glex3']['mean']:\n",
    "    test_df['cmean'][index] = 2\n",
    "\n",
    "\n",
    "test_df_dict = test_df[test_df['cmean'] != -1]\n",
    "print(f\"F1 (dict): {metrics.f1_score(test_df_dict['cmean'].to_list(), test_df_dict['Age'].to_list(), average='macro')}\")\n",
    "print('')\n",
    "print(f'Instâncias totais: {test_df.shape[0]}')\n",
    "print(f'Instâncias classificadas: {test_df[test_df.cmean!=-1].shape[0]}')\n",
    "print(f'Porcentagem classificadas: {test_df[test_df.cmean!=-1].shape[0]/test_df.shape[0]}')\n",
    "print(f'Instâncias classificadas corretamente: {test_df[(test_df.cmean!=-1) & (test_df.cmean==test_df.Age)].shape[0]}')\n",
    "print(f'Porcentagem classificadas corretamente: {test_df[(test_df.cmean!=-1) & (test_df.cmean==test_df.Age)].shape[0]/test_df[test_df.cmean!=-1].shape[0]}')\n",
    "print(f'Porcentagem classificadas corretamente das totais: {test_df[(test_df.cmean!=-1) & (test_df.cmean==test_df.Age)].shape[0]/test_df.shape[0]}')"
   ]
  },
  {
   "cell_type": "code",
   "execution_count": 80,
   "metadata": {},
   "outputs": [
    {
     "name": "stderr",
     "output_type": "stream",
     "text": [
      "/tmp/ipykernel_14084/3500725655.py:5: SettingWithCopyWarning: \n",
      "A value is trying to be set on a copy of a slice from a DataFrame\n",
      "\n",
      "See the caveats in the documentation: https://pandas.pydata.org/pandas-docs/stable/user_guide/indexing.html#returning-a-view-versus-a-copy\n",
      "  test_df['c75'][index] = 0\n",
      "/tmp/ipykernel_14084/3500725655.py:9: SettingWithCopyWarning: \n",
      "A value is trying to be set on a copy of a slice from a DataFrame\n",
      "\n",
      "See the caveats in the documentation: https://pandas.pydata.org/pandas-docs/stable/user_guide/indexing.html#returning-a-view-versus-a-copy\n",
      "  test_df['c75'][index] = 2\n",
      "/tmp/ipykernel_14084/3500725655.py:7: SettingWithCopyWarning: \n",
      "A value is trying to be set on a copy of a slice from a DataFrame\n",
      "\n",
      "See the caveats in the documentation: https://pandas.pydata.org/pandas-docs/stable/user_guide/indexing.html#returning-a-view-versus-a-copy\n",
      "  test_df['c75'][index] = 1\n"
     ]
    },
    {
     "name": "stdout",
     "output_type": "stream",
     "text": [
      "F1 (dict): 0.5422717071102133\n",
      "\n",
      "Instâncias totais: 9553\n",
      "Instâncias classificadas: 3716\n",
      "Porcentagem classificadas: 0.38898775253846957\n",
      "Instâncias classificadas corretamente: 2128\n",
      "Porcentagem classificadas corretamente: 0.5726587728740581\n",
      "Porcentagem classificadas corretamente das totais: 0.22275724903171779\n"
     ]
    }
   ],
   "source": [
    "test_df['c75'] = -1\n",
    "\n",
    "for index, row in test_df.iterrows():\n",
    "  if row['glex1'] > df_stat[0]['glex1']['75%'] and row['glex2'] > 0 and row['glex3'] > 0: # delimitaria só pelo glex da regra\n",
    "    test_df['c75'][index] = 0\n",
    "  elif row['glex1'] < 0 and row['glex2'] > df_stat[1]['glex2']['75%'] and row['glex3'] > 0:\n",
    "    test_df['c75'][index] = 1\n",
    "  elif row['glex1'] < 0 and row['glex2'] < 0 and row['glex3'] < df_stat[2]['glex3']['75%']:\n",
    "    test_df['c75'][index] = 2\n",
    "\n",
    "test_df_dict = test_df[test_df['c75'] != -1]\n",
    "print(f\"F1 (dict): {metrics.f1_score(test_df_dict['c75'].to_list(), test_df_dict['Age'].to_list(), average='macro')}\")\n",
    "print('')\n",
    "print(f'Instâncias totais: {test_df.shape[0]}')\n",
    "print(f'Instâncias classificadas: {test_df[test_df.c75!=-1].shape[0]}')\n",
    "print(f'Porcentagem classificadas: {test_df[test_df.c75!=-1].shape[0]/test_df.shape[0]}')\n",
    "print(f'Instâncias classificadas corretamente: {test_df[(test_df.c75!=-1) & (test_df.c75==test_df.Age)].shape[0]}')\n",
    "print(f'Porcentagem classificadas corretamente: {test_df[(test_df.c75!=-1) & (test_df.c75==test_df.Age)].shape[0]/test_df[test_df.c75!=-1].shape[0]}')\n",
    "print(f'Porcentagem classificadas corretamente das totais: {test_df[(test_df.c75!=-1) & (test_df.c75==test_df.Age)].shape[0]/test_df.shape[0]}')"
   ]
  },
  {
   "cell_type": "code",
   "execution_count": 63,
   "metadata": {},
   "outputs": [
    {
     "name": "stderr",
     "output_type": "stream",
     "text": [
      "/tmp/ipykernel_14084/446884030.py:5: SettingWithCopyWarning: \n",
      "A value is trying to be set on a copy of a slice from a DataFrame\n",
      "\n",
      "See the caveats in the documentation: https://pandas.pydata.org/pandas-docs/stable/user_guide/indexing.html#returning-a-view-versus-a-copy\n",
      "  test_df['c7525'][index] = 0\n",
      "/tmp/ipykernel_14084/446884030.py:9: SettingWithCopyWarning: \n",
      "A value is trying to be set on a copy of a slice from a DataFrame\n",
      "\n",
      "See the caveats in the documentation: https://pandas.pydata.org/pandas-docs/stable/user_guide/indexing.html#returning-a-view-versus-a-copy\n",
      "  test_df['c7525'][index] = 2\n",
      "/tmp/ipykernel_14084/446884030.py:7: SettingWithCopyWarning: \n",
      "A value is trying to be set on a copy of a slice from a DataFrame\n",
      "\n",
      "See the caveats in the documentation: https://pandas.pydata.org/pandas-docs/stable/user_guide/indexing.html#returning-a-view-versus-a-copy\n",
      "  test_df['c7525'][index] = 1\n"
     ]
    },
    {
     "name": "stdout",
     "output_type": "stream",
     "text": [
      "F1 (dict): 0.6053250097094934\n",
      "\n",
      "Instâncias totais: 9553\n",
      "Instâncias classificadas: 1615\n",
      "Porcentagem classificadas: 0.1690568407830001\n",
      "Instâncias classificadas corretamente: 1043\n",
      "Porcentagem classificadas corretamente: 0.6458204334365325\n",
      "Porcentagem classificadas corretamente das totais: 0.109180362189888\n"
     ]
    }
   ],
   "source": [
    "test_df['c7525'] = -1\n",
    "\n",
    "for index, row in test_df.iterrows():\n",
    "  if row['glex1'] > df_stat[0]['glex1']['75%'] and row['glex2'] > df_stat[0]['glex2']['25%'] and row['glex3'] > df_stat[0]['glex3']['25%']: # delimitaria só pelo glex da regra\n",
    "    test_df['c7525'][index] = 0\n",
    "  elif row['glex1'] < df_stat[1]['glex1']['25%'] and row['glex2'] > df_stat[1]['glex2']['75%'] and row['glex3'] > df_stat[1]['glex3']['25%']:\n",
    "    test_df['c7525'][index] = 1\n",
    "  elif row['glex1'] < df_stat[2]['glex1']['25%'] and row['glex2'] < df_stat[2]['glex2']['25%'] and row['glex3'] < df_stat[2]['glex3']['75%']:\n",
    "    test_df['c7525'][index] = 2\n",
    "\n",
    "test_df_dict = test_df[test_df['c7525'] != -1]\n",
    "print(f\"F1 (dict): {metrics.f1_score(test_df_dict['c7525'].to_list(), test_df_dict['Age'].to_list(), average='macro')}\")\n",
    "print('')\n",
    "print(f'Instâncias totais: {test_df.shape[0]}')\n",
    "print(f'Instâncias classificadas: {test_df[test_df.c7525!=-1].shape[0]}')\n",
    "print(f'Porcentagem classificadas: {test_df[test_df.c7525!=-1].shape[0]/test_df.shape[0]}')\n",
    "print(f'Instâncias classificadas corretamente: {test_df[(test_df.c7525!=-1) & (test_df.c7525==test_df.Age)].shape[0]}')\n",
    "print(f'Porcentagem classificadas corretamente: {test_df[(test_df.c7525!=-1) & (test_df.c7525==test_df.Age)].shape[0]/test_df[test_df.c7525!=-1].shape[0]}')\n",
    "print(f'Porcentagem classificadas corretamente das totais: {test_df[(test_df.c7525!=-1) & (test_df.c7525==test_df.Age)].shape[0]/test_df.shape[0]}')"
   ]
  }
 ],
 "metadata": {
  "kernelspec": {
   "display_name": "Python 3",
   "language": "python",
   "name": "python3"
  },
  "language_info": {
   "codemirror_mode": {
    "name": "ipython",
    "version": 3
   },
   "file_extension": ".py",
   "mimetype": "text/x-python",
   "name": "python",
   "nbconvert_exporter": "python",
   "pygments_lexer": "ipython3",
   "version": "3.9.1"
  },
  "orig_nbformat": 4
 },
 "nbformat": 4,
 "nbformat_minor": 2
}
