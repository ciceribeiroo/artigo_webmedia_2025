{
 "cells": [
  {
   "cell_type": "code",
   "execution_count": 1,
   "metadata": {},
   "outputs": [
    {
     "name": "stderr",
     "output_type": "stream",
     "text": [
      "2025-05-27 07:48:32.754093: W tensorflow/stream_executor/platform/default/dso_loader.cc:64] Could not load dynamic library 'libcudart.so.11.0'; dlerror: libcudart.so.11.0: cannot open shared object file: No such file or directory\n",
      "2025-05-27 07:48:32.754106: I tensorflow/stream_executor/cuda/cudart_stub.cc:29] Ignore above cudart dlerror if you do not have a GPU set up on your machine.\n",
      "[nltk_data] Downloading package stopwords to /home/alice/nltk_data...\n",
      "[nltk_data]   Package stopwords is already up-to-date!\n"
     ]
    }
   ],
   "source": [
    "from numpy.random import seed\n",
    "seed(1)\n",
    "import tensorflow \n",
    "tensorflow.random.set_seed(1) \n",
    "import pandas as pd\n",
    "import nltk\n",
    "nltk.download('stopwords')\n",
    "stopwords = nltk.corpus.stopwords.words('portuguese')\n",
    "from sklearn.model_selection import train_test_split\n",
    "from sklearn.feature_extraction.text import TfidfVectorizer\n",
    "from imblearn.over_sampling import SMOTE\n",
    "from collections import Counter\n",
    "from tensorflow import keras\n",
    "from keras.models import Sequential\n",
    "from keras.layers.core import Dense, Dropout, Flatten, Activation\n",
    "from keras.layers.convolutional import Conv1D, MaxPooling1D, Convolution1D\n",
    "from keras.optimizers import Adadelta\n",
    "from sklearn import metrics\n",
    "from scikeras.wrappers import KerasClassifier\n",
    "from sklearn.model_selection import GridSearchCV\n",
    "from sklearn.model_selection import train_test_split\n",
    "import json\n",
    "import time\n",
    "import datetime\n",
    "import numpy as np"
   ]
  },
  {
   "cell_type": "code",
   "execution_count": 2,
   "metadata": {},
   "outputs": [],
   "source": [
    "def remove_stopwords(text):\n",
    "    all_words = text.split(\" \")\n",
    "    clean_text = [i for i in all_words if i not in stopwords and i!=\"\"]\n",
    "    return \" \".join(clean_text)\n",
    "\n",
    "def remove_html_tags(text):\n",
    "    import re\n",
    "    clean = re.compile('<.*?>')\n",
    "    return re.sub(clean, '', text)\n",
    "\n",
    "def lower_texts(text):\n",
    "    return text.lower()\n",
    "\n",
    "def clean_text(text):\n",
    "    clean_text = remove_stopwords(text)\n",
    "    clean_text = remove_html_tags(clean_text)\n",
    "    clean_text = lower_texts(clean_text)\n",
    "    return clean_text"
   ]
  },
  {
   "cell_type": "code",
   "execution_count": 3,
   "metadata": {},
   "outputs": [],
   "source": [
    "from keras.callbacks import EarlyStopping \n",
    "from tensorflow.keras.initializers import Constant\n",
    "from tensorflow.keras.initializers import GlorotUniform"
   ]
  },
  {
   "cell_type": "code",
   "execution_count": 4,
   "metadata": {},
   "outputs": [],
   "source": [
    "from tensorflow.keras.models import Sequential\n",
    "from tensorflow.keras.layers import Conv1D, MaxPooling1D, Activation, Flatten, Dropout, Dense\n",
    "from tensorflow.keras.initializers import GlorotUniform\n",
    "from tensorflow.keras.optimizers import Adadelta\n",
    "\n",
    "def create_model_age(filters=[100], kernel_size=[50], strides=[100], \n",
    "                     dropout_rate=0.5, pool_size=[5], dense_units=100, max_len=1000):\n",
    "\n",
    "    model = Sequential()\n",
    "\n",
    "    # First convolutional layer with deterministic initialization\n",
    "    model.add(Conv1D(filters=filters[0], \n",
    "                     kernel_size=kernel_size[0],\n",
    "                     strides=strides[0], \n",
    "                     activation='relu', \n",
    "                     input_shape=(max_len, 1),\n",
    "                     kernel_initializer=GlorotUniform(seed=42)))\n",
    "\n",
    "    # MaxPooling and activation layers\n",
    "    for i in range(len(pool_size)):\n",
    "        model.add(MaxPooling1D(pool_size=pool_size[i], strides=1))\n",
    "        model.add(Activation('relu'))\n",
    "\n",
    "    model.add(Flatten())\n",
    "\n",
    "    # Dropout layer without a seed (as it's deprecated for Dropout in TensorFlow 2.x)\n",
    "    if dropout_rate is not None:\n",
    "        model.add(Dropout(dropout_rate))\n",
    "    \n",
    "    # Dense layers with fixed initializers\n",
    "    model.add(Dense(units=dense_units, activation='relu', kernel_initializer=GlorotUniform(seed=42)))\n",
    "    model.add(Dense(units=3, activation='softmax', kernel_initializer=GlorotUniform(seed=42)))\n",
    "\n",
    "    # Compile the model\n",
    "    model.compile(loss='categorical_crossentropy', \n",
    "                  optimizer=Adadelta(learning_rate=1), \n",
    "                  metrics=['accuracy'])\n",
    "\n",
    "    return model\n"
   ]
  },
  {
   "cell_type": "code",
   "execution_count": 5,
   "metadata": {},
   "outputs": [],
   "source": [
    "def formatTime(seg):\n",
    "    return str(datetime.timedelta(seconds=seg))"
   ]
  },
  {
   "cell_type": "code",
   "execution_count": 6,
   "metadata": {},
   "outputs": [],
   "source": [
    "def oversampling(X, y):\n",
    "    X_resampled, y_resampled = SMOTE().fit_resample(X, y)\n",
    "    return X_resampled, y_resampled\n",
    "    # return X, y\n",
    "\n",
    "#X_test_resampled, y_test_resampled = oversampling(X_test, y_test)"
   ]
  },
  {
   "cell_type": "code",
   "execution_count": 7,
   "metadata": {},
   "outputs": [],
   "source": [
    "df = pd.read_csv(\"../data/b5-ready.csv\")\n",
    "\n",
    "df[\"Age\"] = df[\"Age_Group\"] - 1\n",
    "\n",
    "df['Clean_Text'] = df[ 'Text'].apply(lambda x: clean_text(x))\n",
    "\n",
    "X = df[ 'Clean_Text']\n",
    "y = df[\"Age\"]"
   ]
  },
  {
   "cell_type": "code",
   "execution_count": 24,
   "metadata": {},
   "outputs": [
    {
     "name": "stdout",
     "output_type": "stream",
     "text": [
      "Epoch 1/10\n",
      "15/15 [==============================] - 2s 145ms/step - loss: 1.0875 - accuracy: 0.3841 - val_loss: 1.1013 - val_accuracy: 0.3558\n",
      "Epoch 2/10\n",
      "15/15 [==============================] - 2s 140ms/step - loss: 1.0404 - accuracy: 0.4879 - val_loss: 1.0219 - val_accuracy: 0.4519\n",
      "Epoch 3/10\n",
      "15/15 [==============================] - 2s 140ms/step - loss: 0.9486 - accuracy: 0.5806 - val_loss: 1.1489 - val_accuracy: 0.3558\n",
      "Epoch 4/10\n",
      "15/15 [==============================] - 2s 140ms/step - loss: 0.8836 - accuracy: 0.5828 - val_loss: 0.9663 - val_accuracy: 0.6154\n",
      "Epoch 5/10\n",
      "15/15 [==============================] - 2s 138ms/step - loss: 0.7976 - accuracy: 0.6534 - val_loss: 0.9759 - val_accuracy: 0.5096\n",
      "Epoch 6/10\n",
      "15/15 [==============================] - 2s 138ms/step - loss: 0.6954 - accuracy: 0.6600 - val_loss: 1.0709 - val_accuracy: 0.4519\n",
      "Epoch 7/10\n",
      "15/15 [==============================] - 2s 140ms/step - loss: 0.6118 - accuracy: 0.7616 - val_loss: 1.1786 - val_accuracy: 0.4135\n",
      "Epoch 8/10\n",
      "15/15 [==============================] - 2s 139ms/step - loss: 0.5404 - accuracy: 0.7616 - val_loss: 1.2042 - val_accuracy: 0.4808\n",
      "Epoch 9/10\n",
      "15/15 [==============================] - 2s 143ms/step - loss: 0.4700 - accuracy: 0.8256 - val_loss: 2.1014 - val_accuracy: 0.3846\n",
      "4/4 [==============================] - 0s 13ms/step\n",
      "0.6082214924956015\n"
     ]
    }
   ],
   "source": [
    "#X_train, X_test, y_train, y_test = train_test_split(X, y, test_size=0.2, random_state=958, stratify=y)\n",
    "#df_train, df_test = train_test_split(df, test_size=0.2, random_state=958, stratify=y)\n",
    "df_train = pd.read_csv('../data/train.csv')\n",
    "df_test = pd.read_csv('../data/test.csv')\n",
    "\n",
    "X_train = df_train['Clean_text']\n",
    "y_train = df_train['Age'].to_numpy()\n",
    "\n",
    "X_test = df_test['Clean_text']\n",
    "y_test = df_test['Age'].to_numpy()\n",
    "\n",
    "num_words = []\n",
    "for text in X_train.tolist():\n",
    "    num_words.append(len(text.split()))\n",
    "mean = sum(num_words)//len(num_words)\n",
    "\n",
    "train_texts = X_train.tolist()\n",
    "test_texts = X_test.tolist()\n",
    "tfidfvec = TfidfVectorizer(max_features = mean, max_df=0.9)\n",
    "tfidfvec.fit(train_texts)\n",
    "tfidf_train = tfidfvec.transform(train_texts).toarray()\n",
    "tfidf_test = tfidfvec.transform(test_texts).toarray()\n",
    "\n",
    "X_train_resampled, y_train_resampled = oversampling(tfidf_train, y_train)\n",
    "\n",
    "X_train = X_train_resampled.reshape(X_train_resampled.shape[0],X_train_resampled.shape[1],1)\n",
    "X_test = tfidf_test.reshape(tfidf_test.shape[0],tfidf_test.shape[1],1)\n",
    "y_train= keras.utils.to_categorical(y_train_resampled,num_classes=3)\n",
    "y_test = keras.utils.to_categorical(y_test,num_classes=3)\n",
    "\n",
    "size = X_test.shape[1]\n",
    "\n",
    "f1 = []\n",
    "\n",
    "model = create_model_age(filters=[60], kernel_size=[1], strides=[1], dropout_rate=0.1, pool_size=[4], dense_units = 512, max_len = X_test.shape[1])\n",
    "callback = [\n",
    "            EarlyStopping(patience=5, monitor='val_accuracy',  mode='max', restore_best_weights=True),\n",
    "        ]\n",
    "\n",
    "model.fit(X_train,y_train,validation_data=(X_test,y_test), batch_size=32, epochs=10, callbacks=callback)\n",
    "\n",
    "y_pred = model.predict(\n",
    "        X_test\n",
    ")\n",
    "\n",
    "import numpy as np\n",
    "\n",
    "y_pred_list = [np.argmax(x, axis=-1) for x in y_pred]\n",
    "y_test_list =[np.argmax(x, axis=-1) for x in y_test]\n",
    "\n",
    "print(metrics.f1_score(y_test_list, y_pred_list, average='macro'))"
   ]
  },
  {
   "cell_type": "code",
   "execution_count": 42,
   "metadata": {},
   "outputs": [],
   "source": [
    "model.save('final-model.keras')"
   ]
  },
  {
   "cell_type": "code",
   "execution_count": 25,
   "metadata": {},
   "outputs": [],
   "source": [
    "dict_class = pd.read_csv('../data/dict-class.csv', encoding='latin-1')\n",
    "no_class = pd.read_csv('../data/no-class.csv', encoding='latin-1')"
   ]
  },
  {
   "cell_type": "code",
   "execution_count": 26,
   "metadata": {},
   "outputs": [
    {
     "data": {
      "text/plain": [
       "(104, (104, 9))"
      ]
     },
     "execution_count": 26,
     "metadata": {},
     "output_type": "execute_result"
    }
   ],
   "source": [
    "len(y_pred_list), df_test.shape"
   ]
  },
  {
   "cell_type": "code",
   "execution_count": 27,
   "metadata": {},
   "outputs": [],
   "source": [
    "df_test = df_test.reset_index(drop=True)\n",
    "dict_class = dict_class.reset_index(drop=True)\n",
    "\n",
    "df_test['User_ID'] = df_test['User_ID'].astype(int)\n",
    "dict_class['User_ID'] = dict_class['User_ID'].astype(int)\n",
    "df_test['Predict'] = y_pred_list\n",
    "\n",
    "compare_test = df_test[df_test['User_ID'].isin(dict_class['User_ID'])]"
   ]
  },
  {
   "cell_type": "code",
   "execution_count": 28,
   "metadata": {},
   "outputs": [
    {
     "data": {
      "text/plain": [
       "(11, 10)"
      ]
     },
     "execution_count": 28,
     "metadata": {},
     "output_type": "execute_result"
    }
   ],
   "source": [
    "compare_test.shape"
   ]
  },
  {
   "cell_type": "code",
   "execution_count": 29,
   "metadata": {},
   "outputs": [
    {
     "data": {
      "text/plain": [
       "Index(['Unnamed: 0.1', 'index', 'Unnamed: 0', 'User_ID', 'age', 'Text',\n",
       "       'Age_Group', 'Text_TK', 'Age', 'Clean_text', 'glex1', 'glex2', 'glex3',\n",
       "       'c', 'c50', 'c5025', 'cmean', 'c75', 'c7525'],\n",
       "      dtype='object')"
      ]
     },
     "execution_count": 29,
     "metadata": {},
     "output_type": "execute_result"
    }
   ],
   "source": [
    "dict_class.columns"
   ]
  },
  {
   "cell_type": "code",
   "execution_count": 30,
   "metadata": {},
   "outputs": [],
   "source": [
    "compare_test = compare_test[['User_ID', 'Age_Group', 'Age', 'Clean_text', f'Predict']]\n",
    "compare_dict = dict_class[['User_ID', 'c7525']]\n",
    "\n",
    "compare = compare_test.merge(compare_dict, left_on='User_ID', right_on='User_ID')"
   ]
  },
  {
   "cell_type": "code",
   "execution_count": 31,
   "metadata": {},
   "outputs": [
    {
     "data": {
      "text/plain": [
       "(0.7272727272727273, 0.8181818181818182)"
      ]
     },
     "execution_count": 31,
     "metadata": {},
     "output_type": "execute_result"
    }
   ],
   "source": [
    "metrics.accuracy_score(compare['Age'], compare[f'Predict']), metrics.accuracy_score(compare['Age_Group'], compare['c7525'])"
   ]
  },
  {
   "cell_type": "code",
   "execution_count": 32,
   "metadata": {},
   "outputs": [
    {
     "data": {
      "text/plain": [
       "(0.7802197802197802, 0.861111111111111)"
      ]
     },
     "execution_count": 32,
     "metadata": {},
     "output_type": "execute_result"
    }
   ],
   "source": [
    "metrics.f1_score(compare['Age'], compare[f'Predict'], average='macro'), metrics.f1_score(compare['Age_Group'], compare['c7525'], average='macro')"
   ]
  },
  {
   "cell_type": "code",
   "execution_count": 33,
   "metadata": {},
   "outputs": [
    {
     "data": {
      "text/html": [
       "<div>\n",
       "<style scoped>\n",
       "    .dataframe tbody tr th:only-of-type {\n",
       "        vertical-align: middle;\n",
       "    }\n",
       "\n",
       "    .dataframe tbody tr th {\n",
       "        vertical-align: top;\n",
       "    }\n",
       "\n",
       "    .dataframe thead th {\n",
       "        text-align: right;\n",
       "    }\n",
       "</style>\n",
       "<table border=\"1\" class=\"dataframe\">\n",
       "  <thead>\n",
       "    <tr style=\"text-align: right;\">\n",
       "      <th></th>\n",
       "      <th>User_ID</th>\n",
       "      <th>Age_Group</th>\n",
       "      <th>Age</th>\n",
       "      <th>Clean_text</th>\n",
       "      <th>Predict</th>\n",
       "      <th>c7525</th>\n",
       "    </tr>\n",
       "  </thead>\n",
       "  <tbody>\n",
       "    <tr>\n",
       "      <th>0</th>\n",
       "      <td>276</td>\n",
       "      <td>2</td>\n",
       "      <td>1</td>\n",
       "      <td>b melo sabe programar manja ruby on rails venh...</td>\n",
       "      <td>1</td>\n",
       "      <td>2</td>\n",
       "    </tr>\n",
       "    <tr>\n",
       "      <th>1</th>\n",
       "      <td>598</td>\n",
       "      <td>3</td>\n",
       "      <td>2</td>\n",
       "      <td>companheiras banca ciência prezados amigos ami...</td>\n",
       "      <td>2</td>\n",
       "      <td>3</td>\n",
       "    </tr>\n",
       "    <tr>\n",
       "      <th>2</th>\n",
       "      <td>1122</td>\n",
       "      <td>1</td>\n",
       "      <td>0</td>\n",
       "      <td>morri dia mãe linda hoje sempre dia agradecer ...</td>\n",
       "      <td>0</td>\n",
       "      <td>1</td>\n",
       "    </tr>\n",
       "    <tr>\n",
       "      <th>3</th>\n",
       "      <td>972</td>\n",
       "      <td>1</td>\n",
       "      <td>0</td>\n",
       "      <td>olha machado each resiste usp greve aí coração...</td>\n",
       "      <td>0</td>\n",
       "      <td>1</td>\n",
       "    </tr>\n",
       "    <tr>\n",
       "      <th>4</th>\n",
       "      <td>1119</td>\n",
       "      <td>2</td>\n",
       "      <td>1</td>\n",
       "      <td>alive horas volta rumo qualquer esforço caber ...</td>\n",
       "      <td>0</td>\n",
       "      <td>1</td>\n",
       "    </tr>\n",
       "  </tbody>\n",
       "</table>\n",
       "</div>"
      ],
      "text/plain": [
       "   User_ID  Age_Group  Age                                         Clean_text  \\\n",
       "0      276          2    1  b melo sabe programar manja ruby on rails venh...   \n",
       "1      598          3    2  companheiras banca ciência prezados amigos ami...   \n",
       "2     1122          1    0  morri dia mãe linda hoje sempre dia agradecer ...   \n",
       "3      972          1    0  olha machado each resiste usp greve aí coração...   \n",
       "4     1119          2    1  alive horas volta rumo qualquer esforço caber ...   \n",
       "\n",
       "   Predict  c7525  \n",
       "0        1      2  \n",
       "1        2      3  \n",
       "2        0      1  \n",
       "3        0      1  \n",
       "4        0      1  "
      ]
     },
     "execution_count": 33,
     "metadata": {},
     "output_type": "execute_result"
    }
   ],
   "source": [
    "compare.head()"
   ]
  },
  {
   "cell_type": "code",
   "execution_count": 34,
   "metadata": {},
   "outputs": [
    {
     "data": {
      "text/plain": [
       "(11, 6)"
      ]
     },
     "execution_count": 34,
     "metadata": {},
     "output_type": "execute_result"
    }
   ],
   "source": [
    "compare.shape"
   ]
  },
  {
   "cell_type": "code",
   "execution_count": 35,
   "metadata": {},
   "outputs": [],
   "source": [
    "compare['c7525'] = compare['c7525']-1"
   ]
  },
  {
   "cell_type": "code",
   "execution_count": 36,
   "metadata": {},
   "outputs": [
    {
     "data": {
      "text/html": [
       "<div>\n",
       "<style scoped>\n",
       "    .dataframe tbody tr th:only-of-type {\n",
       "        vertical-align: middle;\n",
       "    }\n",
       "\n",
       "    .dataframe tbody tr th {\n",
       "        vertical-align: top;\n",
       "    }\n",
       "\n",
       "    .dataframe thead th {\n",
       "        text-align: right;\n",
       "    }\n",
       "</style>\n",
       "<table border=\"1\" class=\"dataframe\">\n",
       "  <thead>\n",
       "    <tr style=\"text-align: right;\">\n",
       "      <th></th>\n",
       "      <th>User_ID</th>\n",
       "      <th>Age_Group</th>\n",
       "      <th>Age</th>\n",
       "      <th>Clean_text</th>\n",
       "      <th>Predict</th>\n",
       "      <th>c7525</th>\n",
       "    </tr>\n",
       "  </thead>\n",
       "  <tbody>\n",
       "    <tr>\n",
       "      <th>0</th>\n",
       "      <td>276</td>\n",
       "      <td>2</td>\n",
       "      <td>1</td>\n",
       "      <td>b melo sabe programar manja ruby on rails venh...</td>\n",
       "      <td>1</td>\n",
       "      <td>1</td>\n",
       "    </tr>\n",
       "    <tr>\n",
       "      <th>1</th>\n",
       "      <td>598</td>\n",
       "      <td>3</td>\n",
       "      <td>2</td>\n",
       "      <td>companheiras banca ciência prezados amigos ami...</td>\n",
       "      <td>2</td>\n",
       "      <td>2</td>\n",
       "    </tr>\n",
       "    <tr>\n",
       "      <th>2</th>\n",
       "      <td>1122</td>\n",
       "      <td>1</td>\n",
       "      <td>0</td>\n",
       "      <td>morri dia mãe linda hoje sempre dia agradecer ...</td>\n",
       "      <td>0</td>\n",
       "      <td>0</td>\n",
       "    </tr>\n",
       "    <tr>\n",
       "      <th>3</th>\n",
       "      <td>972</td>\n",
       "      <td>1</td>\n",
       "      <td>0</td>\n",
       "      <td>olha machado each resiste usp greve aí coração...</td>\n",
       "      <td>0</td>\n",
       "      <td>0</td>\n",
       "    </tr>\n",
       "    <tr>\n",
       "      <th>4</th>\n",
       "      <td>1119</td>\n",
       "      <td>2</td>\n",
       "      <td>1</td>\n",
       "      <td>alive horas volta rumo qualquer esforço caber ...</td>\n",
       "      <td>0</td>\n",
       "      <td>0</td>\n",
       "    </tr>\n",
       "  </tbody>\n",
       "</table>\n",
       "</div>"
      ],
      "text/plain": [
       "   User_ID  Age_Group  Age                                         Clean_text  \\\n",
       "0      276          2    1  b melo sabe programar manja ruby on rails venh...   \n",
       "1      598          3    2  companheiras banca ciência prezados amigos ami...   \n",
       "2     1122          1    0  morri dia mãe linda hoje sempre dia agradecer ...   \n",
       "3      972          1    0  olha machado each resiste usp greve aí coração...   \n",
       "4     1119          2    1  alive horas volta rumo qualquer esforço caber ...   \n",
       "\n",
       "   Predict  c7525  \n",
       "0        1      1  \n",
       "1        2      2  \n",
       "2        0      0  \n",
       "3        0      0  \n",
       "4        0      0  "
      ]
     },
     "execution_count": 36,
     "metadata": {},
     "output_type": "execute_result"
    }
   ],
   "source": [
    "compare.head()"
   ]
  },
  {
   "cell_type": "code",
   "execution_count": 37,
   "metadata": {},
   "outputs": [],
   "source": [
    "merged_df = df_test.merge(compare[['User_ID', 'c7525']], on='User_ID', how='left')"
   ]
  },
  {
   "cell_type": "code",
   "execution_count": 38,
   "metadata": {},
   "outputs": [
    {
     "data": {
      "text/plain": [
       "(104, 11)"
      ]
     },
     "execution_count": 38,
     "metadata": {},
     "output_type": "execute_result"
    }
   ],
   "source": [
    "merged_df.shape"
   ]
  },
  {
   "cell_type": "code",
   "execution_count": 39,
   "metadata": {},
   "outputs": [
    {
     "data": {
      "text/html": [
       "<div>\n",
       "<style scoped>\n",
       "    .dataframe tbody tr th:only-of-type {\n",
       "        vertical-align: middle;\n",
       "    }\n",
       "\n",
       "    .dataframe tbody tr th {\n",
       "        vertical-align: top;\n",
       "    }\n",
       "\n",
       "    .dataframe thead th {\n",
       "        text-align: right;\n",
       "    }\n",
       "</style>\n",
       "<table border=\"1\" class=\"dataframe\">\n",
       "  <thead>\n",
       "    <tr style=\"text-align: right;\">\n",
       "      <th></th>\n",
       "      <th>Unnamed: 0.1</th>\n",
       "      <th>Unnamed: 0</th>\n",
       "      <th>User_ID</th>\n",
       "      <th>age</th>\n",
       "      <th>Text</th>\n",
       "      <th>Age_Group</th>\n",
       "      <th>Text_TK</th>\n",
       "      <th>Age</th>\n",
       "      <th>Clean_text</th>\n",
       "      <th>Predict</th>\n",
       "      <th>c7525</th>\n",
       "    </tr>\n",
       "  </thead>\n",
       "  <tbody>\n",
       "    <tr>\n",
       "      <th>0</th>\n",
       "      <td>209</td>\n",
       "      <td>508</td>\n",
       "      <td>584</td>\n",
       "      <td>44.0</td>\n",
       "      <td>Onde é a fila da encomenda ?  # \" Segunda aula...</td>\n",
       "      <td>3</td>\n",
       "      <td>['Onde', 'é', 'a', 'fila', 'da', 'encomenda', ...</td>\n",
       "      <td>2</td>\n",
       "      <td>onde fila encomenda segunda aula gastronomia m...</td>\n",
       "      <td>2</td>\n",
       "      <td>NaN</td>\n",
       "    </tr>\n",
       "    <tr>\n",
       "      <th>1</th>\n",
       "      <td>295</td>\n",
       "      <td>664</td>\n",
       "      <td>758</td>\n",
       "      <td>19.0</td>\n",
       "      <td>Fofa do meu  # Porque eu sou a química  # \" Pe...</td>\n",
       "      <td>1</td>\n",
       "      <td>['Fofa', 'do', 'meu', '#', 'Porque', 'eu', 'so...</td>\n",
       "      <td>0</td>\n",
       "      <td>fofa porque química pensei felicidade começass...</td>\n",
       "      <td>0</td>\n",
       "      <td>NaN</td>\n",
       "    </tr>\n",
       "    <tr>\n",
       "      <th>2</th>\n",
       "      <td>108</td>\n",
       "      <td>295</td>\n",
       "      <td>345</td>\n",
       "      <td>23.0</td>\n",
       "      <td>\" \" \" Tem que problematizar sim , tem que disc...</td>\n",
       "      <td>2</td>\n",
       "      <td>['``', '``', '``', 'Tem', 'que', 'problematiza...</td>\n",
       "      <td>1</td>\n",
       "      <td>problematizar sim discutir sim janeiro saudade...</td>\n",
       "      <td>1</td>\n",
       "      <td>NaN</td>\n",
       "    </tr>\n",
       "    <tr>\n",
       "      <th>3</th>\n",
       "      <td>87</td>\n",
       "      <td>232</td>\n",
       "      <td>276</td>\n",
       "      <td>24.0</td>\n",
       "      <td>$NAME$ $NAME$ B . Melo  # \" Sabe programar ? M...</td>\n",
       "      <td>2</td>\n",
       "      <td>['$', 'NAME', '$', '$', 'NAME', '$', 'B', '.',...</td>\n",
       "      <td>1</td>\n",
       "      <td>b melo sabe programar manja ruby on rails venh...</td>\n",
       "      <td>1</td>\n",
       "      <td>1.0</td>\n",
       "    </tr>\n",
       "    <tr>\n",
       "      <th>4</th>\n",
       "      <td>219</td>\n",
       "      <td>521</td>\n",
       "      <td>598</td>\n",
       "      <td>53.0</td>\n",
       "      <td>Minhas companheiras da Banca da ciência  # \" P...</td>\n",
       "      <td>3</td>\n",
       "      <td>['Minhas', 'companheiras', 'da', 'Banca', 'da'...</td>\n",
       "      <td>2</td>\n",
       "      <td>companheiras banca ciência prezados amigos ami...</td>\n",
       "      <td>2</td>\n",
       "      <td>2.0</td>\n",
       "    </tr>\n",
       "  </tbody>\n",
       "</table>\n",
       "</div>"
      ],
      "text/plain": [
       "   Unnamed: 0.1  Unnamed: 0  User_ID   age  \\\n",
       "0           209         508      584  44.0   \n",
       "1           295         664      758  19.0   \n",
       "2           108         295      345  23.0   \n",
       "3            87         232      276  24.0   \n",
       "4           219         521      598  53.0   \n",
       "\n",
       "                                                Text  Age_Group  \\\n",
       "0  Onde é a fila da encomenda ?  # \" Segunda aula...          3   \n",
       "1  Fofa do meu  # Porque eu sou a química  # \" Pe...          1   \n",
       "2  \" \" \" Tem que problematizar sim , tem que disc...          2   \n",
       "3  $NAME$ $NAME$ B . Melo  # \" Sabe programar ? M...          2   \n",
       "4  Minhas companheiras da Banca da ciência  # \" P...          3   \n",
       "\n",
       "                                             Text_TK  Age  \\\n",
       "0  ['Onde', 'é', 'a', 'fila', 'da', 'encomenda', ...    2   \n",
       "1  ['Fofa', 'do', 'meu', '#', 'Porque', 'eu', 'so...    0   \n",
       "2  ['``', '``', '``', 'Tem', 'que', 'problematiza...    1   \n",
       "3  ['$', 'NAME', '$', '$', 'NAME', '$', 'B', '.',...    1   \n",
       "4  ['Minhas', 'companheiras', 'da', 'Banca', 'da'...    2   \n",
       "\n",
       "                                          Clean_text  Predict  c7525  \n",
       "0  onde fila encomenda segunda aula gastronomia m...        2    NaN  \n",
       "1  fofa porque química pensei felicidade começass...        0    NaN  \n",
       "2  problematizar sim discutir sim janeiro saudade...        1    NaN  \n",
       "3  b melo sabe programar manja ruby on rails venh...        1    1.0  \n",
       "4  companheiras banca ciência prezados amigos ami...        2    2.0  "
      ]
     },
     "execution_count": 39,
     "metadata": {},
     "output_type": "execute_result"
    }
   ],
   "source": [
    "merged_df.head()"
   ]
  },
  {
   "cell_type": "code",
   "execution_count": 40,
   "metadata": {},
   "outputs": [],
   "source": [
    "merged_df['Predict'] = merged_df['c7525'].combine_first(merged_df['Predict'])"
   ]
  },
  {
   "cell_type": "code",
   "execution_count": 41,
   "metadata": {},
   "outputs": [
    {
     "data": {
      "text/plain": [
       "(0.6190671651216247, 0.6082214924956015)"
      ]
     },
     "execution_count": 41,
     "metadata": {},
     "output_type": "execute_result"
    }
   ],
   "source": [
    "metrics.f1_score(merged_df['Age'], merged_df[f'Predict'], average='macro'), metrics.f1_score(df_test['Age'], df_test['Predict'], average='macro')"
   ]
  },
  {
   "cell_type": "code",
   "execution_count": 43,
   "metadata": {},
   "outputs": [
    {
     "data": {
      "text/plain": [
       "(0.625, 0.6153846153846154)"
      ]
     },
     "execution_count": 43,
     "metadata": {},
     "output_type": "execute_result"
    }
   ],
   "source": [
    "metrics.accuracy_score(merged_df['Age'], merged_df[f'Predict']), metrics.accuracy_score(df_test['Age'], df_test['Predict'])"
   ]
  },
  {
   "cell_type": "code",
   "execution_count": 45,
   "metadata": {},
   "outputs": [
    {
     "data": {
      "text/plain": [
       "0.10576923076923077"
      ]
     },
     "execution_count": 45,
     "metadata": {},
     "output_type": "execute_result"
    }
   ],
   "source": [
    "compare.shape[0]/df_test.shape[0]"
   ]
  }
 ],
 "metadata": {
  "kernelspec": {
   "display_name": "Python 3",
   "language": "python",
   "name": "python3"
  },
  "language_info": {
   "codemirror_mode": {
    "name": "ipython",
    "version": 3
   },
   "file_extension": ".py",
   "mimetype": "text/x-python",
   "name": "python",
   "nbconvert_exporter": "python",
   "pygments_lexer": "ipython3",
   "version": "3.9.1"
  },
  "orig_nbformat": 4
 },
 "nbformat": 4,
 "nbformat_minor": 2
}
