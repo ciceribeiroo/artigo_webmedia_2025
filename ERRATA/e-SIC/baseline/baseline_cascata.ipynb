{
 "cells": [
  {
   "cell_type": "code",
   "execution_count": 1,
   "metadata": {},
   "outputs": [],
   "source": [
    "import pandas as pd"
   ]
  },
  {
   "cell_type": "code",
   "execution_count": 2,
   "metadata": {},
   "outputs": [],
   "source": [
    "def read_file_as_df(file_name):\n",
    "    import pandas as pd\n",
    "    import csv\n",
    "\n",
    "    import sys\n",
    "    import pandas as pd\n",
    "\n",
    "    maxInt = sys.maxsize\n",
    "\n",
    "    while True:\n",
    "        # decrease the maxInt value by factor 10\n",
    "        # as long as the OverflowError occurs.\n",
    "\n",
    "        try:\n",
    "            csv.field_size_limit(maxInt)\n",
    "            break\n",
    "        except OverflowError:\n",
    "            maxInt = int(maxInt/10)\n",
    "\n",
    "    file = []\n",
    "    col = []\n",
    "\n",
    "    with open(file_name, encoding='latin-1') as csv_file:\n",
    "        csv_reader = csv.reader(csv_file, delimiter=';')\n",
    "        line_count = 0\n",
    "        for row in csv_reader:\n",
    "            if line_count==0:\n",
    "                for r in row:\n",
    "                    col.append(r)\n",
    "                line_count+=1\n",
    "            else:\n",
    "                line = []\n",
    "                for r in row:\n",
    "                    line.append(r)\n",
    "                file.append(line)\n",
    "                line_count += 1\n",
    "\n",
    "\n",
    "    df = pd.DataFrame(file, columns = col)\n",
    "    return df"
   ]
  },
  {
   "cell_type": "code",
   "execution_count": 15,
   "metadata": {},
   "outputs": [],
   "source": [
    "from sklearn.model_selection import train_test_split\n",
    "\n",
    "#X_train, X_test, y_train, y_test = train_test_split(X, y, test_size=0.2, random_state=289, stratify=y)"
   ]
  },
  {
   "cell_type": "code",
   "execution_count": 20,
   "metadata": {},
   "outputs": [
    {
     "name": "stdout",
     "output_type": "stream",
     "text": [
      "Epoch 1/20\n",
      "224/224 [==============================] - 20s 85ms/step - loss: 1.0236 - accuracy: 0.4459 - val_loss: 0.9406 - val_accuracy: 0.5260\n",
      "Epoch 2/20\n",
      "224/224 [==============================] - 18s 80ms/step - loss: 0.8718 - accuracy: 0.5778 - val_loss: 0.9203 - val_accuracy: 0.5562\n",
      "Epoch 3/20\n",
      "224/224 [==============================] - 18s 79ms/step - loss: 0.7292 - accuracy: 0.6626 - val_loss: 0.9599 - val_accuracy: 0.5587\n",
      "Epoch 4/20\n",
      "224/224 [==============================] - 18s 81ms/step - loss: 0.6340 - accuracy: 0.7105 - val_loss: 1.0198 - val_accuracy: 0.5640\n",
      "Epoch 5/20\n",
      "224/224 [==============================] - 18s 79ms/step - loss: 0.5678 - accuracy: 0.7441 - val_loss: 1.0506 - val_accuracy: 0.5655\n",
      "Epoch 6/20\n",
      "224/224 [==============================] - 18s 79ms/step - loss: 0.5141 - accuracy: 0.7666 - val_loss: 1.1516 - val_accuracy: 0.5651\n",
      "Epoch 7/20\n",
      "224/224 [==============================] - 18s 81ms/step - loss: 0.4755 - accuracy: 0.7876 - val_loss: 1.2840 - val_accuracy: 0.5683\n",
      "Epoch 8/20\n",
      "224/224 [==============================] - 18s 80ms/step - loss: 0.4521 - accuracy: 0.8069 - val_loss: 1.3303 - val_accuracy: 0.5661\n",
      "Epoch 9/20\n",
      "224/224 [==============================] - 18s 80ms/step - loss: 0.4315 - accuracy: 0.8112 - val_loss: 1.3961 - val_accuracy: 0.5667\n",
      "Epoch 10/20\n",
      "224/224 [==============================] - 18s 80ms/step - loss: 0.4176 - accuracy: 0.8192 - val_loss: 1.4768 - val_accuracy: 0.5656\n",
      "Epoch 11/20\n",
      "224/224 [==============================] - 18s 81ms/step - loss: 0.4001 - accuracy: 0.8302 - val_loss: 1.5713 - val_accuracy: 0.5590\n",
      "Epoch 12/20\n",
      "224/224 [==============================] - 18s 81ms/step - loss: 0.3882 - accuracy: 0.8294 - val_loss: 1.6737 - val_accuracy: 0.5647\n",
      "299/299 [==============================] - 2s 7ms/step\n",
      "0.5707107714853973\n"
     ]
    }
   ],
   "source": [
    "from sklearn import metrics\n",
    "\n",
    "df_train = pd.read_csv('../data/train.csv')\n",
    "df_test = pd.read_csv('../data/test.csv')\n",
    "\n",
    "y_train = df_train['Age']\n",
    "X_train = df_train['req-text']\n",
    "\n",
    "y_test = df_test['Age']\n",
    "X_test = df_test['req-text']\n",
    "\n",
    "tokenizer = Tokenizer()  \n",
    "tokenizer.fit_on_texts(X_train)\n",
    "\n",
    "vocab_size = len(tokenizer.word_index) + 1 \n",
    "\n",
    "sequences = tokenizer.texts_to_sequences(X_train)\n",
    "X_train = pad_sequences(sequences, maxlen=200)\n",
    "\n",
    "test_sequences = tokenizer.texts_to_sequences(X_test)\n",
    "X_test = pad_sequences(test_sequences, maxlen=200)\n",
    "\n",
    "X_train, X_val, y_train, y_val = train_test_split(X_train, y_train, test_size=0.25, random_state=289, stratify=y_train)\n",
    "\n",
    "y_train = np.array(y_train)\n",
    "y_test = np.array(y_test) \n",
    "\n",
    "model = create_model()\n",
    "\n",
    "history = model.fit(\n",
    "        X_train, y_train,\n",
    "        epochs=20,\n",
    "        batch_size=128,\n",
    "        validation_data=(X_val, y_val),\n",
    "        callbacks=[early_stopping]\n",
    ")\n",
    "\n",
    "y_pred = model.predict(X_test)\n",
    "y_pred_classes = np.argmax(y_pred, axis=1)\n",
    "\n",
    "print(metrics.accuracy_score(y_test, y_pred_classes))"
   ]
  },
  {
   "cell_type": "code",
   "execution_count": 11,
   "metadata": {},
   "outputs": [],
   "source": [
    "from tensorflow.keras.preprocessing.text import Tokenizer\n",
    "\n",
    "tokenizer = Tokenizer()  \n",
    "tokenizer.fit_on_texts(X_train)\n",
    "\n",
    "vocab_size = len(tokenizer.word_index) + 1  # Add 1 for padding "
   ]
  },
  {
   "cell_type": "code",
   "execution_count": 19,
   "metadata": {},
   "outputs": [],
   "source": [
    "from tensorflow.keras.callbacks import EarlyStopping\n",
    "early_stopping = EarlyStopping(monitor='val_accuracy', patience=5, restore_best_weights=True)"
   ]
  },
  {
   "cell_type": "code",
   "execution_count": 12,
   "metadata": {},
   "outputs": [
    {
     "data": {
      "text/plain": [
       "66125"
      ]
     },
     "execution_count": 12,
     "metadata": {},
     "output_type": "execute_result"
    }
   ],
   "source": [
    "vocab_size"
   ]
  },
  {
   "cell_type": "code",
   "execution_count": 13,
   "metadata": {},
   "outputs": [],
   "source": [
    "from tensorflow.keras.preprocessing.sequence import pad_sequences\n",
    "\n",
    "sequences = tokenizer.texts_to_sequences(X_train)\n",
    "X_train = pad_sequences(sequences, maxlen=200)\n",
    "\n",
    "test_sequences = tokenizer.texts_to_sequences(X_test)\n",
    "X_test = pad_sequences(test_sequences, maxlen=200)"
   ]
  },
  {
   "cell_type": "code",
   "execution_count": 10,
   "metadata": {},
   "outputs": [
    {
     "name": "stderr",
     "output_type": "stream",
     "text": [
      "2025-05-26 20:09:51.813472: W tensorflow/stream_executor/platform/default/dso_loader.cc:64] Could not load dynamic library 'libcudart.so.11.0'; dlerror: libcudart.so.11.0: cannot open shared object file: No such file or directory\n",
      "2025-05-26 20:09:51.813489: I tensorflow/stream_executor/cuda/cudart_stub.cc:29] Ignore above cudart dlerror if you do not have a GPU set up on your machine.\n"
     ]
    }
   ],
   "source": [
    "from tensorflow.keras.wrappers.scikit_learn import KerasClassifier\n",
    "from sklearn.model_selection import GridSearchCV\n",
    "import tensorflow as tf\n",
    "\n",
    "def create_model(input_length = 200, embedding_size=128, lstm_units=4, dropout_rate=0.5, learning_rate=0.01):\n",
    "    model = tf.keras.Sequential()\n",
    "    model.add(tf.keras.layers.Embedding(input_dim=vocab_size, output_dim=embedding_size, input_length=input_length))\n",
    "    model.add(tf.keras.layers.LSTM(lstm_units, return_sequences=False))\n",
    "    model.add(tf.keras.layers.Dropout(dropout_rate))\n",
    "    model.add(tf.keras.layers.Dense(3, activation='softmax'))\n",
    "\n",
    "    optimizer = tf.keras.optimizers.Adam(learning_rate=learning_rate)\n",
    "    model.compile(loss='sparse_categorical_crossentropy', optimizer=optimizer, metrics=['accuracy'])\n",
    "\n",
    "    return model"
   ]
  },
  {
   "cell_type": "code",
   "execution_count": null,
   "metadata": {},
   "outputs": [],
   "source": [
    "model_ = KerasClassifier(build_fn=create_model, epochs=20, batch_size=128)\n",
    "\n",
    "param_grid = {\n",
    "    'embedding_size': [128, 256],\n",
    "    'lstm_units': [4, 16],\n",
    "    'dropout_rate': [0.3, 0.5],\n",
    "    'learning_rate': [0.001, 0.01],\n",
    "}\n",
    "\n",
    "grid = GridSearchCV(estimator=model_, param_grid=param_grid, cv=5, verbose=0)\n",
    "\n",
    "grid_result = grid.fit(X_train, y_train, validation_data=(X_val, y_val), callbacks=[early_stopping])\n"
   ]
  },
  {
   "cell_type": "code",
   "execution_count": 26,
   "metadata": {},
   "outputs": [
    {
     "data": {
      "text/plain": [
       "({'dropout_rate': 0.5,\n",
       "  'embedding_size': 256,\n",
       "  'learning_rate': 0.001,\n",
       "  'lstm_units': 16},\n",
       " 0.5749231100082397)"
      ]
     },
     "execution_count": 26,
     "metadata": {},
     "output_type": "execute_result"
    }
   ],
   "source": [
    "grid_result.best_params_, grid_result.best_score_"
   ]
  },
  {
   "cell_type": "code",
   "execution_count": 3,
   "metadata": {},
   "outputs": [],
   "source": [
    "dict_class = pd.read_csv('../data/dict-class50.csv', encoding='latin-1')"
   ]
  },
  {
   "cell_type": "code",
   "execution_count": 4,
   "metadata": {},
   "outputs": [
    {
     "data": {
      "text/html": [
       "<div>\n",
       "<style scoped>\n",
       "    .dataframe tbody tr th:only-of-type {\n",
       "        vertical-align: middle;\n",
       "    }\n",
       "\n",
       "    .dataframe tbody tr th {\n",
       "        vertical-align: top;\n",
       "    }\n",
       "\n",
       "    .dataframe thead th {\n",
       "        text-align: right;\n",
       "    }\n",
       "</style>\n",
       "<table border=\"1\" class=\"dataframe\">\n",
       "  <thead>\n",
       "    <tr style=\"text-align: right;\">\n",
       "      <th></th>\n",
       "      <th>Unnamed: 0.1</th>\n",
       "      <th>Unnamed: 0</th>\n",
       "      <th>age-bracket</th>\n",
       "      <th>req-text</th>\n",
       "      <th>req-text-clean</th>\n",
       "      <th>Age</th>\n",
       "      <th>glex1</th>\n",
       "      <th>glex2</th>\n",
       "      <th>glex3</th>\n",
       "      <th>c</th>\n",
       "      <th>c50</th>\n",
       "      <th>c5025</th>\n",
       "      <th>cmean</th>\n",
       "      <th>c75</th>\n",
       "      <th>c7525</th>\n",
       "    </tr>\n",
       "  </thead>\n",
       "  <tbody>\n",
       "    <tr>\n",
       "      <th>0</th>\n",
       "      <td>0</td>\n",
       "      <td>34599</td>\n",
       "      <td>a43-xx</td>\n",
       "      <td>Solicito os registro de reclamações feitas a e...</td>\n",
       "      <td>solicito registro reclamações feitas ouvidoria...</td>\n",
       "      <td>2</td>\n",
       "      <td>-0.312707</td>\n",
       "      <td>-0.057745</td>\n",
       "      <td>-1.074704</td>\n",
       "      <td>2</td>\n",
       "      <td>2</td>\n",
       "      <td>-1</td>\n",
       "      <td>-1</td>\n",
       "      <td>-1</td>\n",
       "      <td>-1</td>\n",
       "    </tr>\n",
       "    <tr>\n",
       "      <th>1</th>\n",
       "      <td>1</td>\n",
       "      <td>23357</td>\n",
       "      <td>a17-30</td>\n",
       "      <td>No estado do Amazonas, existem agências da pre...</td>\n",
       "      <td>estado amazonas existem agências previdência s...</td>\n",
       "      <td>0</td>\n",
       "      <td>-0.153447</td>\n",
       "      <td>1.151447</td>\n",
       "      <td>1.144852</td>\n",
       "      <td>1</td>\n",
       "      <td>1</td>\n",
       "      <td>-1</td>\n",
       "      <td>1</td>\n",
       "      <td>-1</td>\n",
       "      <td>-1</td>\n",
       "    </tr>\n",
       "    <tr>\n",
       "      <th>2</th>\n",
       "      <td>6</td>\n",
       "      <td>5476</td>\n",
       "      <td>a17-30</td>\n",
       "      <td>Olá, Estou realizando meu trabalho de conclusã...</td>\n",
       "      <td>olá realizando trabalho conclusão curso estuda...</td>\n",
       "      <td>0</td>\n",
       "      <td>2.274279</td>\n",
       "      <td>3.164122</td>\n",
       "      <td>1.419071</td>\n",
       "      <td>0</td>\n",
       "      <td>0</td>\n",
       "      <td>0</td>\n",
       "      <td>0</td>\n",
       "      <td>0</td>\n",
       "      <td>0</td>\n",
       "    </tr>\n",
       "    <tr>\n",
       "      <th>3</th>\n",
       "      <td>10</td>\n",
       "      <td>3721</td>\n",
       "      <td>a43-xx</td>\n",
       "      <td>Gostaria de solicitar dados do consumo de ener...</td>\n",
       "      <td>gostaria solicitar dados consumo energia elétr...</td>\n",
       "      <td>2</td>\n",
       "      <td>3.460562</td>\n",
       "      <td>2.882652</td>\n",
       "      <td>0.433025</td>\n",
       "      <td>0</td>\n",
       "      <td>0</td>\n",
       "      <td>0</td>\n",
       "      <td>-1</td>\n",
       "      <td>-1</td>\n",
       "      <td>0</td>\n",
       "    </tr>\n",
       "    <tr>\n",
       "      <th>4</th>\n",
       "      <td>11</td>\n",
       "      <td>23181</td>\n",
       "      <td>a31-42</td>\n",
       "      <td>Boa tarde, gostaria da quantidade de farmácias...</td>\n",
       "      <td>boa tarde gostaria quantidade farmácias popula...</td>\n",
       "      <td>1</td>\n",
       "      <td>0.929649</td>\n",
       "      <td>2.195696</td>\n",
       "      <td>1.810741</td>\n",
       "      <td>0</td>\n",
       "      <td>0</td>\n",
       "      <td>0</td>\n",
       "      <td>0</td>\n",
       "      <td>-1</td>\n",
       "      <td>-1</td>\n",
       "    </tr>\n",
       "    <tr>\n",
       "      <th>...</th>\n",
       "      <td>...</td>\n",
       "      <td>...</td>\n",
       "      <td>...</td>\n",
       "      <td>...</td>\n",
       "      <td>...</td>\n",
       "      <td>...</td>\n",
       "      <td>...</td>\n",
       "      <td>...</td>\n",
       "      <td>...</td>\n",
       "      <td>...</td>\n",
       "      <td>...</td>\n",
       "      <td>...</td>\n",
       "      <td>...</td>\n",
       "      <td>...</td>\n",
       "      <td>...</td>\n",
       "    </tr>\n",
       "    <tr>\n",
       "      <th>4433</th>\n",
       "      <td>9539</td>\n",
       "      <td>5349</td>\n",
       "      <td>a43-xx</td>\n",
       "      <td>Prezado(a), Gostaria de obter as seguintes inf...</td>\n",
       "      <td>prezadoa gostaria obter seguintes informações ...</td>\n",
       "      <td>2</td>\n",
       "      <td>2.445181</td>\n",
       "      <td>3.786774</td>\n",
       "      <td>2.567361</td>\n",
       "      <td>0</td>\n",
       "      <td>0</td>\n",
       "      <td>0</td>\n",
       "      <td>0</td>\n",
       "      <td>0</td>\n",
       "      <td>0</td>\n",
       "    </tr>\n",
       "    <tr>\n",
       "      <th>4434</th>\n",
       "      <td>9540</td>\n",
       "      <td>46123</td>\n",
       "      <td>a43-xx</td>\n",
       "      <td>Então excelentíssimo Dr. Ouvidor do Governo Fe...</td>\n",
       "      <td>então excelentíssimo dr ouvidor governo federa...</td>\n",
       "      <td>2</td>\n",
       "      <td>-2.008942</td>\n",
       "      <td>-3.061500</td>\n",
       "      <td>-1.501102</td>\n",
       "      <td>2</td>\n",
       "      <td>2</td>\n",
       "      <td>2</td>\n",
       "      <td>2</td>\n",
       "      <td>2</td>\n",
       "      <td>2</td>\n",
       "    </tr>\n",
       "    <tr>\n",
       "      <th>4435</th>\n",
       "      <td>9546</td>\n",
       "      <td>30936</td>\n",
       "      <td>a31-42</td>\n",
       "      <td>Dúvidas sobre o sindicato que deveremos fazer ...</td>\n",
       "      <td>dúvidas sobre sindicato deveremos fazer contri...</td>\n",
       "      <td>1</td>\n",
       "      <td>-1.075373</td>\n",
       "      <td>-1.779589</td>\n",
       "      <td>-1.257609</td>\n",
       "      <td>2</td>\n",
       "      <td>2</td>\n",
       "      <td>-1</td>\n",
       "      <td>2</td>\n",
       "      <td>2</td>\n",
       "      <td>-1</td>\n",
       "    </tr>\n",
       "    <tr>\n",
       "      <th>4436</th>\n",
       "      <td>9547</td>\n",
       "      <td>38298</td>\n",
       "      <td>a17-30</td>\n",
       "      <td>Venho por meio deste solicitar os seguintes da...</td>\n",
       "      <td>venho meio deste solicitar seguintes dados mon...</td>\n",
       "      <td>0</td>\n",
       "      <td>2.448322</td>\n",
       "      <td>2.200500</td>\n",
       "      <td>0.792049</td>\n",
       "      <td>0</td>\n",
       "      <td>0</td>\n",
       "      <td>0</td>\n",
       "      <td>0</td>\n",
       "      <td>0</td>\n",
       "      <td>0</td>\n",
       "    </tr>\n",
       "    <tr>\n",
       "      <th>4437</th>\n",
       "      <td>9550</td>\n",
       "      <td>1775</td>\n",
       "      <td>a31-42</td>\n",
       "      <td>1) Entre 21/06/1993 e a data deste pedido de i...</td>\n",
       "      <td>1 21061993 data deste pedido informações órgão...</td>\n",
       "      <td>1</td>\n",
       "      <td>-1.481111</td>\n",
       "      <td>2.800156</td>\n",
       "      <td>6.116711</td>\n",
       "      <td>1</td>\n",
       "      <td>1</td>\n",
       "      <td>-1</td>\n",
       "      <td>-1</td>\n",
       "      <td>-1</td>\n",
       "      <td>1</td>\n",
       "    </tr>\n",
       "  </tbody>\n",
       "</table>\n",
       "<p>4438 rows × 15 columns</p>\n",
       "</div>"
      ],
      "text/plain": [
       "      Unnamed: 0.1  Unnamed: 0 age-bracket  \\\n",
       "0                0       34599      a43-xx   \n",
       "1                1       23357      a17-30   \n",
       "2                6        5476      a17-30   \n",
       "3               10        3721      a43-xx   \n",
       "4               11       23181      a31-42   \n",
       "...            ...         ...         ...   \n",
       "4433          9539        5349      a43-xx   \n",
       "4434          9540       46123      a43-xx   \n",
       "4435          9546       30936      a31-42   \n",
       "4436          9547       38298      a17-30   \n",
       "4437          9550        1775      a31-42   \n",
       "\n",
       "                                               req-text  \\\n",
       "0     Solicito os registro de reclamações feitas a e...   \n",
       "1     No estado do Amazonas, existem agências da pre...   \n",
       "2     Olá, Estou realizando meu trabalho de conclusã...   \n",
       "3     Gostaria de solicitar dados do consumo de ener...   \n",
       "4     Boa tarde, gostaria da quantidade de farmácias...   \n",
       "...                                                 ...   \n",
       "4433  Prezado(a), Gostaria de obter as seguintes inf...   \n",
       "4434  Então excelentíssimo Dr. Ouvidor do Governo Fe...   \n",
       "4435  Dúvidas sobre o sindicato que deveremos fazer ...   \n",
       "4436  Venho por meio deste solicitar os seguintes da...   \n",
       "4437  1) Entre 21/06/1993 e a data deste pedido de i...   \n",
       "\n",
       "                                         req-text-clean  Age     glex1  \\\n",
       "0     solicito registro reclamações feitas ouvidoria...    2 -0.312707   \n",
       "1     estado amazonas existem agências previdência s...    0 -0.153447   \n",
       "2     olá realizando trabalho conclusão curso estuda...    0  2.274279   \n",
       "3     gostaria solicitar dados consumo energia elétr...    2  3.460562   \n",
       "4     boa tarde gostaria quantidade farmácias popula...    1  0.929649   \n",
       "...                                                 ...  ...       ...   \n",
       "4433  prezadoa gostaria obter seguintes informações ...    2  2.445181   \n",
       "4434  então excelentíssimo dr ouvidor governo federa...    2 -2.008942   \n",
       "4435  dúvidas sobre sindicato deveremos fazer contri...    1 -1.075373   \n",
       "4436  venho meio deste solicitar seguintes dados mon...    0  2.448322   \n",
       "4437  1 21061993 data deste pedido informações órgão...    1 -1.481111   \n",
       "\n",
       "         glex2     glex3  c  c50  c5025  cmean  c75  c7525  \n",
       "0    -0.057745 -1.074704  2    2     -1     -1   -1     -1  \n",
       "1     1.151447  1.144852  1    1     -1      1   -1     -1  \n",
       "2     3.164122  1.419071  0    0      0      0    0      0  \n",
       "3     2.882652  0.433025  0    0      0     -1   -1      0  \n",
       "4     2.195696  1.810741  0    0      0      0   -1     -1  \n",
       "...        ...       ... ..  ...    ...    ...  ...    ...  \n",
       "4433  3.786774  2.567361  0    0      0      0    0      0  \n",
       "4434 -3.061500 -1.501102  2    2      2      2    2      2  \n",
       "4435 -1.779589 -1.257609  2    2     -1      2    2     -1  \n",
       "4436  2.200500  0.792049  0    0      0      0    0      0  \n",
       "4437  2.800156  6.116711  1    1     -1     -1   -1      1  \n",
       "\n",
       "[4438 rows x 15 columns]"
      ]
     },
     "execution_count": 4,
     "metadata": {},
     "output_type": "execute_result"
    }
   ],
   "source": [
    "dict_class"
   ]
  },
  {
   "cell_type": "code",
   "execution_count": 7,
   "metadata": {},
   "outputs": [],
   "source": [
    "def get_age_class(age):\n",
    "    if age == 'a17-30': return 0\n",
    "    elif age == 'a31-42': return 1\n",
    "    else: return 2"
   ]
  },
  {
   "cell_type": "code",
   "execution_count": 22,
   "metadata": {},
   "outputs": [
    {
     "name": "stdout",
     "output_type": "stream",
     "text": [
      "0.5692163663030197\n"
     ]
    }
   ],
   "source": [
    "print(metrics.f1_score(y_test, y_pred_classes, average='macro'))"
   ]
  },
  {
   "cell_type": "code",
   "execution_count": 46,
   "metadata": {},
   "outputs": [
    {
     "name": "stdout",
     "output_type": "stream",
     "text": [
      "0.5703314633567348\n"
     ]
    }
   ],
   "source": [
    "print(metrics.f1_score(y_test, y_pred_classes, average='weighted'))"
   ]
  },
  {
   "cell_type": "code",
   "execution_count": 45,
   "metadata": {},
   "outputs": [],
   "source": [
    "model.save('final-model.keras')"
   ]
  },
  {
   "cell_type": "code",
   "execution_count": 17,
   "metadata": {},
   "outputs": [],
   "source": [
    "import numpy as np"
   ]
  },
  {
   "cell_type": "code",
   "execution_count": 23,
   "metadata": {},
   "outputs": [],
   "source": [
    "dict_class = pd.read_csv('../data/dict-class50.csv', encoding='latin-1')"
   ]
  },
  {
   "cell_type": "code",
   "execution_count": 24,
   "metadata": {},
   "outputs": [
    {
     "data": {
      "text/html": [
       "<div>\n",
       "<style scoped>\n",
       "    .dataframe tbody tr th:only-of-type {\n",
       "        vertical-align: middle;\n",
       "    }\n",
       "\n",
       "    .dataframe tbody tr th {\n",
       "        vertical-align: top;\n",
       "    }\n",
       "\n",
       "    .dataframe thead th {\n",
       "        text-align: right;\n",
       "    }\n",
       "</style>\n",
       "<table border=\"1\" class=\"dataframe\">\n",
       "  <thead>\n",
       "    <tr style=\"text-align: right;\">\n",
       "      <th></th>\n",
       "      <th>Unnamed: 0.1</th>\n",
       "      <th>Unnamed: 0</th>\n",
       "      <th>age-bracket</th>\n",
       "      <th>req-text</th>\n",
       "      <th>req-text-clean</th>\n",
       "      <th>Age</th>\n",
       "      <th>glex1</th>\n",
       "      <th>glex2</th>\n",
       "      <th>glex3</th>\n",
       "      <th>c</th>\n",
       "      <th>c50</th>\n",
       "      <th>c5025</th>\n",
       "      <th>cmean</th>\n",
       "      <th>c75</th>\n",
       "      <th>c7525</th>\n",
       "    </tr>\n",
       "  </thead>\n",
       "  <tbody>\n",
       "    <tr>\n",
       "      <th>0</th>\n",
       "      <td>0</td>\n",
       "      <td>34599</td>\n",
       "      <td>a43-xx</td>\n",
       "      <td>Solicito os registro de reclamações feitas a e...</td>\n",
       "      <td>solicito registro reclamações feitas ouvidoria...</td>\n",
       "      <td>2</td>\n",
       "      <td>-0.312707</td>\n",
       "      <td>-0.057745</td>\n",
       "      <td>-1.074704</td>\n",
       "      <td>2</td>\n",
       "      <td>2</td>\n",
       "      <td>-1</td>\n",
       "      <td>-1</td>\n",
       "      <td>-1</td>\n",
       "      <td>-1</td>\n",
       "    </tr>\n",
       "    <tr>\n",
       "      <th>1</th>\n",
       "      <td>1</td>\n",
       "      <td>23357</td>\n",
       "      <td>a17-30</td>\n",
       "      <td>No estado do Amazonas, existem agências da pre...</td>\n",
       "      <td>estado amazonas existem agências previdência s...</td>\n",
       "      <td>0</td>\n",
       "      <td>-0.153447</td>\n",
       "      <td>1.151447</td>\n",
       "      <td>1.144852</td>\n",
       "      <td>1</td>\n",
       "      <td>1</td>\n",
       "      <td>-1</td>\n",
       "      <td>1</td>\n",
       "      <td>-1</td>\n",
       "      <td>-1</td>\n",
       "    </tr>\n",
       "    <tr>\n",
       "      <th>2</th>\n",
       "      <td>6</td>\n",
       "      <td>5476</td>\n",
       "      <td>a17-30</td>\n",
       "      <td>Olá, Estou realizando meu trabalho de conclusã...</td>\n",
       "      <td>olá realizando trabalho conclusão curso estuda...</td>\n",
       "      <td>0</td>\n",
       "      <td>2.274279</td>\n",
       "      <td>3.164122</td>\n",
       "      <td>1.419071</td>\n",
       "      <td>0</td>\n",
       "      <td>0</td>\n",
       "      <td>0</td>\n",
       "      <td>0</td>\n",
       "      <td>0</td>\n",
       "      <td>0</td>\n",
       "    </tr>\n",
       "    <tr>\n",
       "      <th>3</th>\n",
       "      <td>10</td>\n",
       "      <td>3721</td>\n",
       "      <td>a43-xx</td>\n",
       "      <td>Gostaria de solicitar dados do consumo de ener...</td>\n",
       "      <td>gostaria solicitar dados consumo energia elétr...</td>\n",
       "      <td>2</td>\n",
       "      <td>3.460562</td>\n",
       "      <td>2.882652</td>\n",
       "      <td>0.433025</td>\n",
       "      <td>0</td>\n",
       "      <td>0</td>\n",
       "      <td>0</td>\n",
       "      <td>-1</td>\n",
       "      <td>-1</td>\n",
       "      <td>0</td>\n",
       "    </tr>\n",
       "    <tr>\n",
       "      <th>4</th>\n",
       "      <td>11</td>\n",
       "      <td>23181</td>\n",
       "      <td>a31-42</td>\n",
       "      <td>Boa tarde, gostaria da quantidade de farmácias...</td>\n",
       "      <td>boa tarde gostaria quantidade farmácias popula...</td>\n",
       "      <td>1</td>\n",
       "      <td>0.929649</td>\n",
       "      <td>2.195696</td>\n",
       "      <td>1.810741</td>\n",
       "      <td>0</td>\n",
       "      <td>0</td>\n",
       "      <td>0</td>\n",
       "      <td>0</td>\n",
       "      <td>-1</td>\n",
       "      <td>-1</td>\n",
       "    </tr>\n",
       "  </tbody>\n",
       "</table>\n",
       "</div>"
      ],
      "text/plain": [
       "   Unnamed: 0.1  Unnamed: 0 age-bracket  \\\n",
       "0             0       34599      a43-xx   \n",
       "1             1       23357      a17-30   \n",
       "2             6        5476      a17-30   \n",
       "3            10        3721      a43-xx   \n",
       "4            11       23181      a31-42   \n",
       "\n",
       "                                            req-text  \\\n",
       "0  Solicito os registro de reclamações feitas a e...   \n",
       "1  No estado do Amazonas, existem agências da pre...   \n",
       "2  Olá, Estou realizando meu trabalho de conclusã...   \n",
       "3  Gostaria de solicitar dados do consumo de ener...   \n",
       "4  Boa tarde, gostaria da quantidade de farmácias...   \n",
       "\n",
       "                                      req-text-clean  Age     glex1     glex2  \\\n",
       "0  solicito registro reclamações feitas ouvidoria...    2 -0.312707 -0.057745   \n",
       "1  estado amazonas existem agências previdência s...    0 -0.153447  1.151447   \n",
       "2  olá realizando trabalho conclusão curso estuda...    0  2.274279  3.164122   \n",
       "3  gostaria solicitar dados consumo energia elétr...    2  3.460562  2.882652   \n",
       "4  boa tarde gostaria quantidade farmácias popula...    1  0.929649  2.195696   \n",
       "\n",
       "      glex3  c  c50  c5025  cmean  c75  c7525  \n",
       "0 -1.074704  2    2     -1     -1   -1     -1  \n",
       "1  1.144852  1    1     -1      1   -1     -1  \n",
       "2  1.419071  0    0      0      0    0      0  \n",
       "3  0.433025  0    0      0     -1   -1      0  \n",
       "4  1.810741  0    0      0      0   -1     -1  "
      ]
     },
     "execution_count": 24,
     "metadata": {},
     "output_type": "execute_result"
    }
   ],
   "source": [
    "dict_class.head()"
   ]
  },
  {
   "cell_type": "code",
   "execution_count": 31,
   "metadata": {},
   "outputs": [],
   "source": [
    "df_test['Predict']=y_pred_classes"
   ]
  },
  {
   "cell_type": "code",
   "execution_count": 32,
   "metadata": {},
   "outputs": [],
   "source": [
    "df_test['Unnamed: 0'] = df_test['Unnamed: 0'].astype(int)\n",
    "dict_class['Unnamed: 0'] = dict_class['Unnamed: 0'].astype(int)\n",
    "\n",
    "compare_test = df_test[df_test['Unnamed: 0'].isin(dict_class['Unnamed: 0'])]"
   ]
  },
  {
   "cell_type": "code",
   "execution_count": 33,
   "metadata": {},
   "outputs": [
    {
     "data": {
      "text/plain": [
       "((4438, 6), (4438, 15))"
      ]
     },
     "execution_count": 33,
     "metadata": {},
     "output_type": "execute_result"
    }
   ],
   "source": [
    "compare_test.shape, dict_class.shape"
   ]
  },
  {
   "cell_type": "code",
   "execution_count": 34,
   "metadata": {},
   "outputs": [],
   "source": [
    "compare_test = compare_test\n",
    "compare_dict = dict_class[['Unnamed: 0', 'c50']]\n",
    "compare = compare_test.merge(compare_dict, left_on='Unnamed: 0', right_on='Unnamed: 0')"
   ]
  },
  {
   "cell_type": "code",
   "execution_count": 35,
   "metadata": {},
   "outputs": [
    {
     "data": {
      "text/html": [
       "<div>\n",
       "<style scoped>\n",
       "    .dataframe tbody tr th:only-of-type {\n",
       "        vertical-align: middle;\n",
       "    }\n",
       "\n",
       "    .dataframe tbody tr th {\n",
       "        vertical-align: top;\n",
       "    }\n",
       "\n",
       "    .dataframe thead th {\n",
       "        text-align: right;\n",
       "    }\n",
       "</style>\n",
       "<table border=\"1\" class=\"dataframe\">\n",
       "  <thead>\n",
       "    <tr style=\"text-align: right;\">\n",
       "      <th></th>\n",
       "      <th>Unnamed: 0</th>\n",
       "      <th>age-bracket</th>\n",
       "      <th>req-text</th>\n",
       "      <th>req-text-clean</th>\n",
       "      <th>Age</th>\n",
       "      <th>Predict</th>\n",
       "      <th>c50</th>\n",
       "    </tr>\n",
       "  </thead>\n",
       "  <tbody>\n",
       "    <tr>\n",
       "      <th>0</th>\n",
       "      <td>34599</td>\n",
       "      <td>a43-xx</td>\n",
       "      <td>Solicito os registro de reclamações feitas a e...</td>\n",
       "      <td>solicito registro reclamações feitas ouvidoria...</td>\n",
       "      <td>2</td>\n",
       "      <td>2</td>\n",
       "      <td>2</td>\n",
       "    </tr>\n",
       "    <tr>\n",
       "      <th>1</th>\n",
       "      <td>23357</td>\n",
       "      <td>a17-30</td>\n",
       "      <td>No estado do Amazonas, existem agências da pre...</td>\n",
       "      <td>estado amazonas existem agências previdência s...</td>\n",
       "      <td>0</td>\n",
       "      <td>0</td>\n",
       "      <td>1</td>\n",
       "    </tr>\n",
       "    <tr>\n",
       "      <th>2</th>\n",
       "      <td>5476</td>\n",
       "      <td>a17-30</td>\n",
       "      <td>Olá, Estou realizando meu trabalho de conclusã...</td>\n",
       "      <td>olá realizando trabalho conclusão curso estuda...</td>\n",
       "      <td>0</td>\n",
       "      <td>1</td>\n",
       "      <td>0</td>\n",
       "    </tr>\n",
       "    <tr>\n",
       "      <th>3</th>\n",
       "      <td>3721</td>\n",
       "      <td>a43-xx</td>\n",
       "      <td>Gostaria de solicitar dados do consumo de ener...</td>\n",
       "      <td>gostaria solicitar dados consumo energia elétr...</td>\n",
       "      <td>2</td>\n",
       "      <td>2</td>\n",
       "      <td>0</td>\n",
       "    </tr>\n",
       "    <tr>\n",
       "      <th>4</th>\n",
       "      <td>23181</td>\n",
       "      <td>a31-42</td>\n",
       "      <td>Boa tarde, gostaria da quantidade de farmácias...</td>\n",
       "      <td>boa tarde gostaria quantidade farmácias popula...</td>\n",
       "      <td>1</td>\n",
       "      <td>2</td>\n",
       "      <td>0</td>\n",
       "    </tr>\n",
       "    <tr>\n",
       "      <th>...</th>\n",
       "      <td>...</td>\n",
       "      <td>...</td>\n",
       "      <td>...</td>\n",
       "      <td>...</td>\n",
       "      <td>...</td>\n",
       "      <td>...</td>\n",
       "      <td>...</td>\n",
       "    </tr>\n",
       "    <tr>\n",
       "      <th>4433</th>\n",
       "      <td>5349</td>\n",
       "      <td>a43-xx</td>\n",
       "      <td>Prezado(a), Gostaria de obter as seguintes inf...</td>\n",
       "      <td>prezadoa gostaria obter seguintes informações ...</td>\n",
       "      <td>2</td>\n",
       "      <td>2</td>\n",
       "      <td>0</td>\n",
       "    </tr>\n",
       "    <tr>\n",
       "      <th>4434</th>\n",
       "      <td>46123</td>\n",
       "      <td>a43-xx</td>\n",
       "      <td>Então excelentíssimo Dr. Ouvidor do Governo Fe...</td>\n",
       "      <td>então excelentíssimo dr ouvidor governo federa...</td>\n",
       "      <td>2</td>\n",
       "      <td>2</td>\n",
       "      <td>2</td>\n",
       "    </tr>\n",
       "    <tr>\n",
       "      <th>4435</th>\n",
       "      <td>30936</td>\n",
       "      <td>a31-42</td>\n",
       "      <td>Dúvidas sobre o sindicato que deveremos fazer ...</td>\n",
       "      <td>dúvidas sobre sindicato deveremos fazer contri...</td>\n",
       "      <td>1</td>\n",
       "      <td>1</td>\n",
       "      <td>2</td>\n",
       "    </tr>\n",
       "    <tr>\n",
       "      <th>4436</th>\n",
       "      <td>38298</td>\n",
       "      <td>a17-30</td>\n",
       "      <td>Venho por meio deste solicitar os seguintes da...</td>\n",
       "      <td>venho meio deste solicitar seguintes dados mon...</td>\n",
       "      <td>0</td>\n",
       "      <td>0</td>\n",
       "      <td>0</td>\n",
       "    </tr>\n",
       "    <tr>\n",
       "      <th>4437</th>\n",
       "      <td>1775</td>\n",
       "      <td>a31-42</td>\n",
       "      <td>1) Entre 21/06/1993 e a data deste pedido de i...</td>\n",
       "      <td>1 21061993 data deste pedido informações órgão...</td>\n",
       "      <td>1</td>\n",
       "      <td>1</td>\n",
       "      <td>1</td>\n",
       "    </tr>\n",
       "  </tbody>\n",
       "</table>\n",
       "<p>4438 rows × 7 columns</p>\n",
       "</div>"
      ],
      "text/plain": [
       "      Unnamed: 0 age-bracket  \\\n",
       "0          34599      a43-xx   \n",
       "1          23357      a17-30   \n",
       "2           5476      a17-30   \n",
       "3           3721      a43-xx   \n",
       "4          23181      a31-42   \n",
       "...          ...         ...   \n",
       "4433        5349      a43-xx   \n",
       "4434       46123      a43-xx   \n",
       "4435       30936      a31-42   \n",
       "4436       38298      a17-30   \n",
       "4437        1775      a31-42   \n",
       "\n",
       "                                               req-text  \\\n",
       "0     Solicito os registro de reclamações feitas a e...   \n",
       "1     No estado do Amazonas, existem agências da pre...   \n",
       "2     Olá, Estou realizando meu trabalho de conclusã...   \n",
       "3     Gostaria de solicitar dados do consumo de ener...   \n",
       "4     Boa tarde, gostaria da quantidade de farmácias...   \n",
       "...                                                 ...   \n",
       "4433  Prezado(a), Gostaria de obter as seguintes inf...   \n",
       "4434  Então excelentíssimo Dr. Ouvidor do Governo Fe...   \n",
       "4435  Dúvidas sobre o sindicato que deveremos fazer ...   \n",
       "4436  Venho por meio deste solicitar os seguintes da...   \n",
       "4437  1) Entre 21/06/1993 e a data deste pedido de i...   \n",
       "\n",
       "                                         req-text-clean  Age  Predict  c50  \n",
       "0     solicito registro reclamações feitas ouvidoria...    2        2    2  \n",
       "1     estado amazonas existem agências previdência s...    0        0    1  \n",
       "2     olá realizando trabalho conclusão curso estuda...    0        1    0  \n",
       "3     gostaria solicitar dados consumo energia elétr...    2        2    0  \n",
       "4     boa tarde gostaria quantidade farmácias popula...    1        2    0  \n",
       "...                                                 ...  ...      ...  ...  \n",
       "4433  prezadoa gostaria obter seguintes informações ...    2        2    0  \n",
       "4434  então excelentíssimo dr ouvidor governo federa...    2        2    2  \n",
       "4435  dúvidas sobre sindicato deveremos fazer contri...    1        1    2  \n",
       "4436  venho meio deste solicitar seguintes dados mon...    0        0    0  \n",
       "4437  1 21061993 data deste pedido informações órgão...    1        1    1  \n",
       "\n",
       "[4438 rows x 7 columns]"
      ]
     },
     "execution_count": 35,
     "metadata": {},
     "output_type": "execute_result"
    }
   ],
   "source": [
    "compare"
   ]
  },
  {
   "cell_type": "code",
   "execution_count": 39,
   "metadata": {},
   "outputs": [
    {
     "data": {
      "text/plain": [
       "(0.6137939745747266, 0.6126143766416132)"
      ]
     },
     "execution_count": 39,
     "metadata": {},
     "output_type": "execute_result"
    }
   ],
   "source": [
    "metrics.f1_score(compare['Age'], compare[f'Predict'], average='macro'), metrics.f1_score(compare['Age'], compare['c50'], average='macro')"
   ]
  },
  {
   "cell_type": "code",
   "execution_count": 47,
   "metadata": {},
   "outputs": [
    {
     "data": {
      "text/plain": [
       "(0.6166169505131281, 0.6112500490970422)"
      ]
     },
     "execution_count": 47,
     "metadata": {},
     "output_type": "execute_result"
    }
   ],
   "source": [
    "metrics.f1_score(compare['Age'], compare[f'Predict'], average='weighted'), metrics.f1_score(compare['Age'], compare['c50'], average='weighted')"
   ]
  },
  {
   "cell_type": "code",
   "execution_count": 48,
   "metadata": {},
   "outputs": [
    {
     "data": {
      "text/plain": [
       "(0.6169445696259577, 0.6144659756647138)"
      ]
     },
     "execution_count": 48,
     "metadata": {},
     "output_type": "execute_result"
    }
   ],
   "source": [
    "metrics.accuracy_score(compare['Age'], compare[f'Predict']), metrics.accuracy_score(compare['Age'], compare['c50'])"
   ]
  },
  {
   "cell_type": "code",
   "execution_count": 40,
   "metadata": {},
   "outputs": [],
   "source": [
    "merged_df = df_test.merge(compare[['Unnamed: 0', 'c50']], on='Unnamed: 0', how='left')"
   ]
  },
  {
   "cell_type": "code",
   "execution_count": 41,
   "metadata": {},
   "outputs": [],
   "source": [
    "merged_df['Predict'] = merged_df['c50'].combine_first(merged_df['Predict'])"
   ]
  },
  {
   "cell_type": "code",
   "execution_count": 42,
   "metadata": {},
   "outputs": [
    {
     "data": {
      "text/plain": [
       "(0.5688086361394552, 0.5692163663030197)"
      ]
     },
     "execution_count": 42,
     "metadata": {},
     "output_type": "execute_result"
    }
   ],
   "source": [
    "metrics.f1_score(merged_df['Age'], merged_df[f'Predict'], average='macro'), metrics.f1_score(df_test['Age'], df_test['Predict'], average='macro')"
   ]
  },
  {
   "cell_type": "code",
   "execution_count": 50,
   "metadata": {},
   "outputs": [
    {
     "data": {
      "text/plain": [
       "(0.569559300743222, 0.5707107714853973)"
      ]
     },
     "execution_count": 50,
     "metadata": {},
     "output_type": "execute_result"
    }
   ],
   "source": [
    "metrics.accuracy_score(merged_df['Age'], merged_df[f'Predict']), metrics.accuracy_score(df_test['Age'], df_test['Predict'])"
   ]
  },
  {
   "cell_type": "code",
   "execution_count": 49,
   "metadata": {},
   "outputs": [
    {
     "data": {
      "text/plain": [
       "(0.5685760359237693, 0.5703314633567348)"
      ]
     },
     "execution_count": 49,
     "metadata": {},
     "output_type": "execute_result"
    }
   ],
   "source": [
    "metrics.f1_score(merged_df['Age'], merged_df[f'Predict'], average='weighted'), metrics.f1_score(df_test['Age'], df_test['Predict'], average='weighted')"
   ]
  },
  {
   "cell_type": "code",
   "execution_count": 44,
   "metadata": {},
   "outputs": [
    {
     "data": {
      "text/plain": [
       "0.4645661048885167"
      ]
     },
     "execution_count": 44,
     "metadata": {},
     "output_type": "execute_result"
    }
   ],
   "source": [
    "compare.shape[0]/df_test.shape[0]"
   ]
  }
 ],
 "metadata": {
  "kernelspec": {
   "display_name": "Python 3",
   "language": "python",
   "name": "python3"
  },
  "language_info": {
   "codemirror_mode": {
    "name": "ipython",
    "version": 3
   },
   "file_extension": ".py",
   "mimetype": "text/x-python",
   "name": "python",
   "nbconvert_exporter": "python",
   "pygments_lexer": "ipython3",
   "version": "3.9.1"
  },
  "orig_nbformat": 4
 },
 "nbformat": 4,
 "nbformat_minor": 2
}
